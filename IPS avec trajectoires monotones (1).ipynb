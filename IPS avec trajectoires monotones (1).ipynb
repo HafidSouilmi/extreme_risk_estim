{
 "cells": [
  {
   "cell_type": "code",
   "execution_count": 143,
   "metadata": {
    "colab": {},
    "colab_type": "code",
    "id": "Pg9WUrxFhV6I"
   },
   "outputs": [],
   "source": [
    "import numpy as np\n",
    "import scipy.linalg as lin\n",
    "import matplotlib.pyplot as plt\n",
    "import scipy.stats as sps"
   ]
  },
  {
   "cell_type": "markdown",
   "metadata": {
    "colab_type": "text",
    "id": "XB59qyK1RIjW"
   },
   "source": [
    "# Premier cas : Trajectoires monotones\n",
    "\n",
    "$ I_0=10, \\alpha_i=-10, \\beta_i=-5 $\n",
    "\n",
    "On considère les poids suivants : $G_p(X_{0:p}^{(k,m)})=exp(\\lambda \\sum_{i=1}^{I_0}(X_{p,i}^{(n,m)}-X_{p-1,i}^{(n,m)}))$\n",
    "et donc :\n",
    "$\\Pi_{p=1}^{n-1} G_p(X_{0:p}^{(n,m)})=exp(\\lambda \\sum_{i=1}^{I_0} X_{n-1,i}^{(n,m)})$"
   ]
  },
  {
   "cell_type": "markdown",
   "metadata": {},
   "source": [
    "Pour le deuxième cas, le signe de $\\lambda$ doit être inversé.\n",
    "\n",
    "On choisit comme valeur de $\\lambda = \\frac{\\hat{x}_\\alpha}{T+1}$"
   ]
  },
  {
   "cell_type": "markdown",
   "metadata": {
    "colab_type": "text",
    "id": "vOv3jFVuRNf7"
   },
   "source": [
    "## Preset :"
   ]
  },
  {
   "cell_type": "code",
   "execution_count": 144,
   "metadata": {
    "colab": {},
    "colab_type": "code",
    "id": "g5qO6_MFRJn5"
   },
   "outputs": [],
   "source": [
    "T0,T,Y=120,10,252\n",
    "\n",
    "alpha=1-1e-4\n",
    "I0=10\n",
    "sigma = np.array([0.1,0.15,0.2,0.25,0.3,0.35,0.4,0.5,0.6,0.7]) #yearly std\n",
    "S0=np.array([500,400,300,200,100,50,40,30,20,10])\n",
    "K=np.array([510,390,310,190,90,55,35,34,17,12])\n",
    "n=2*int(1e4)\n",
    "\n",
    "coeffC=np.zeros(I0)-10\n",
    "coeffP=np.zeros(I0)-5"
   ]
  },
  {
   "cell_type": "code",
   "execution_count": 145,
   "metadata": {
    "colab": {},
    "colab_type": "code",
    "id": "J5iEydIIieOT"
   },
   "outputs": [],
   "source": [
    "def d1(to,x,y,sig):\n",
    "    return np.log(x/y)/(sig*np.sqrt(to)) + sig*np.sqrt(to)/2\n",
    "def d2(to,x,y,sig):\n",
    "    return np.log(x/y)/(sig*np.sqrt(to)) - sig*np.sqrt(to)/2\n",
    "\n",
    "\n",
    "def callPrice(S,t,K,sigma,T):\n",
    "    return S*sps.norm.cdf(d1((T-t)/Y,S,K,sigma))-K*sps.norm.cdf(d2((T-t)/Y,S,K,sigma))\n",
    "def putPrice(S,t,K,sigma,T):\n",
    "    return K*sps.norm.cdf(d1((T-t)/Y,K,S,sigma))-S*sps.norm.cdf(d2((T-t)/Y,K,S,sigma))"
   ]
  },
  {
   "cell_type": "code",
   "execution_count": 146,
   "metadata": {
    "colab": {},
    "colab_type": "code",
    "id": "8x8TQLUeihzt"
   },
   "outputs": [],
   "source": [
    "def dCall(S,t,K,sigma,T):\n",
    "  return sps.norm.cdf(d1((T-t)/Y,S,K,sigma))+sps.norm.pdf(d1((T-t)/Y,S,K,sigma))/(sigma*np.sqrt((T-t)/Y))-K*sps.norm.pdf(d2((T-t)/Y,S,K,sigma))/(sigma*np.sqrt((T-t)/Y)*S)\n",
    "def hedgedCallPrice(S,t,K,sigma,T,S0):\n",
    "  return callPrice(S,t,K,sigma,T)-dCall(S0,0,K,sigma,T)*S\n",
    "\n",
    "def dPut(S,t,K,sigma,T):\n",
    "  return -sps.norm.cdf(d2((T-t)/Y,K,S,sigma))+sps.norm.pdf(d2((T-t)/Y,K,S,sigma))/(sigma*np.sqrt((T-t)/Y))-K*sps.norm.pdf(d1((T-t)/Y,K,S,sigma))/(sigma*np.sqrt((T-t)/Y)*S)\n",
    "def hedgedPutPrice(S,t,K,sigma,T,S0):\n",
    "  return putPrice(S,t,K,sigma,T)-dPut(S0,0,K,sigma,T)*S"
   ]
  },
  {
   "cell_type": "markdown",
   "metadata": {},
   "source": [
    "Définition des Greeks du modèle de Black-Scholes :"
   ]
  },
  {
   "cell_type": "code",
   "execution_count": 147,
   "metadata": {
    "colab": {},
    "colab_type": "code",
    "id": "FWSywGVFij1W"
   },
   "outputs": [],
   "source": [
    "#Greeks\n",
    "#for a call:\n",
    "def thetaC(S0,K,sigma,T,T0):\n",
    "    return -S0*sigma*sps.norm.pdf(d1((T0-T)/Y,S0,K,sigma))/(2*np.sqrt((T0-T)/Y))\n",
    "def deltaC(S0,K,sigma,T,T0):\n",
    "    return sps.norm.cdf(d1((T0-T)/Y,S0,K,sigma))\n",
    "def gammaC(S0,K,sigma,T,T0):\n",
    "    return sps.norm.pdf(d1((T0-T)/Y,K,S0,sigma))/(sigma*S0*np.sqrt((T0-T)/Y))\n",
    "\n",
    "#for a put:\n",
    "def thetaP(S0,K,sigma,T,T0):\n",
    "    return -S0*sigma*sps.norm.pdf(d1((T0-T)/Y,S0,K,sigma))/(2*np.sqrt((T0-T)/Y))\n",
    "def deltaP(S0,K,sigma,T,T0):\n",
    "    return sps.norm.cdf(d1((T0-T)/Y,K,S0,sigma))-1\n",
    "def gammaP(S0,K,sigma,T,T0):\n",
    "    return sps.norm.pdf(d1((T0-T)/Y,K,S0,sigma))/(sigma*S0*np.sqrt((T0-T)/Y))\n"
   ]
  },
  {
   "cell_type": "markdown",
   "metadata": {},
   "source": [
    "On définit deux quantités : $\\delta$ et $\\Theta$, avec $\\delta$ défini pour le cas hedgé et non hedgé:"
   ]
  },
  {
   "cell_type": "code",
   "execution_count": null,
   "metadata": {
    "colab": {},
    "colab_type": "code",
    "id": "y9SgO0hsimM6"
   },
   "outputs": [],
   "source": [
    "C=np.diag(sigma*np.sqrt(T/Y)*S0)\n",
    "delta=coeffC*deltaC(S0,K,sigma,T,T0)+coeffP*deltaP(S0,K,sigma,T,T0)\n",
    "deltaH=delta-coeffC*dCall(S0,0,K,sigma,T0)-coeffP*dPut(S0,0,K,sigma,T0)\n",
    "Theta=np.dot(coeffC.T,thetaC(S0,K,sigma,T,T0))+np.dot(coeffP.T,thetaP(S0,K,sigma,T,T0))"
   ]
  },
  {
   "cell_type": "markdown",
   "metadata": {},
   "source": [
    "Deux méthodes pour calculer des estimations grossières de la VaR utiliser ci-dessous:"
   ]
  },
  {
   "cell_type": "code",
   "execution_count": 149,
   "metadata": {
    "colab": {},
    "colab_type": "code",
    "id": "2qtT7Fgeiqwy"
   },
   "outputs": [],
   "source": [
    "def estimVaR(L):\n",
    "  a=-Theta*T/Y\n",
    "  b=-np.dot(L.T,np.dot(C.T,delta))\n",
    "  \n",
    "  z=sps.norm.ppf(alpha)\n",
    "  return a+lin.norm(b)*z\n",
    "\n",
    "def estimVaRHedged(L):\n",
    "  a=-Theta*T/Y\n",
    "  b=-np.dot(L.T,np.dot(C,deltaH))\n",
    "  \n",
    "  z=sps.norm.ppf(alpha)\n",
    "  return a+lin.norm(b)*z"
   ]
  },
  {
   "cell_type": "markdown",
   "metadata": {},
   "source": [
    "Pour exploiter la force d'optimisation de numpy, on définit les matrices suivantes: (éviter les boucles for):"
   ]
  },
  {
   "cell_type": "code",
   "execution_count": 150,
   "metadata": {
    "colab": {},
    "colab_type": "code",
    "id": "vzm4BInNWICu"
   },
   "outputs": [],
   "source": [
    "Si=np.zeros((n,I0))\n",
    "MatSigma=np.zeros((n,I0))\n",
    "MatK=np.zeros((n,I0)) \n",
    "for i in range(I0):\n",
    "  Si[:,i]+=S0[i]\n",
    "  MatK[:,i]+=K[i]\n",
    "  MatSigma[:,i]+=sigma[i]"
   ]
  },
  {
   "cell_type": "markdown",
   "metadata": {
    "colab_type": "text",
    "id": "i_WseUFSSDWk"
   },
   "source": [
    "## Cas Indépendant:\n",
    "\n",
    "On utilise $logIncr$ comme incrément de la chaîne de Markov, afin d'appliquer l'algorithme Selection-Mutation.\n",
    "\n",
    "$logIncr \\sim \\mathcal N(\\mu,\\Sigma)$\n",
    " avec \n",
    " $$\\Sigma =\n",
    "\\begin{pmatrix}\n",
    "\\sigma_{1}^{2} & 0 & \\cdots & 0 \\\\\n",
    "0 & \\sigma_{2}^{2} & \\cdots & \\vdots \\\\\n",
    "\\vdots  & \\vdots  & \\ddots & 0  \\\\\n",
    "0 &  \\cdots & 0 & \\sigma_{I_{0}}^{2}\n",
    "\\end{pmatrix}\n",
    "$$ et $$\\mu= \\frac{-1}{2}\\begin{pmatrix}\n",
    "\\sigma_{1}^{2} \\\\\n",
    "\\sigma_{2}^{2}  \\\\\n",
    "\\vdots   \\\\\n",
    "\\sigma_{I_{0}}^{2}\n",
    "\\end{pmatrix}$$"
   ]
  },
  {
   "cell_type": "markdown",
   "metadata": {},
   "source": [
    "On estime les valeurs de la VaR dans le cas hedgé et non hedgé. On va utiliser ces deux estimations pour le calibrage du paramètres $\\lambda$"
   ]
  },
  {
   "cell_type": "code",
   "execution_count": 151,
   "metadata": {
    "colab": {
     "base_uri": "https://localhost:8080/",
     "height": 34
    },
    "colab_type": "code",
    "id": "-1qEroCFZndM",
    "outputId": "084dad2b-f6a1-45eb-e704-ef9d1e2d467d",
    "scrolled": true
   },
   "outputs": [
    {
     "name": "stdout",
     "output_type": "stream",
     "text": [
      "211.8434101122977 46.74692993859502\n"
     ]
    }
   ],
   "source": [
    "roughEstimVaR= estimVaR(np.eye(I0))\n",
    "roughEstimVaRHedged=estimVaRHedged(np.eye(I0))\n",
    "\n",
    "print(roughEstimVaR,roughEstimVaRHedged)"
   ]
  },
  {
   "cell_type": "markdown",
   "metadata": {},
   "source": [
    "On initialise les incréments qui vont être communs entre la partie hedgée et non hedgée."
   ]
  },
  {
   "cell_type": "code",
   "execution_count": 152,
   "metadata": {
    "colab": {},
    "colab_type": "code",
    "id": "XY_CTKSPS0k3"
   },
   "outputs": [],
   "source": [
    "Z=np.random.normal(size=(n,T,I0)) \n",
    "logIncr=np.zeros((n,T,I0))\n",
    "for t in range(T): \n",
    "  logIncr[:,t,:]=-MatSigma*MatSigma/(2*Y)+MatSigma/np.sqrt(Y)*Z[:,t,:]"
   ]
  },
  {
   "cell_type": "markdown",
   "metadata": {
    "colab_type": "text",
    "id": "7kw6LFLISGEV"
   },
   "source": [
    "### Cas non-hedgé:"
   ]
  },
  {
   "cell_type": "markdown",
   "metadata": {
    "colab_type": "text",
    "id": "_Bsnao5vVYnT"
   },
   "source": [
    "#### Estimation de la VaR et la CVaR"
   ]
  },
  {
   "cell_type": "code",
   "execution_count": 153,
   "metadata": {
    "colab": {},
    "colab_type": "code",
    "id": "5aqVLxzTSKnZ"
   },
   "outputs": [],
   "source": [
    "X = np.zeros((n, 2,I0))\n",
    "X[:, 1,:] = logIncr[:, 0,:]\n",
    "\n",
    "\n",
    "c = 1\n",
    "la=roughEstimVaR/(T+1)\n",
    "for p in range(1, T):\n",
    "    G = np.exp(np.sum(la * ( X[:,1,:]  - X[:,0,:]) ,axis=1))\n",
    "    c*= np.mean(G)\n",
    "    \n",
    "    probas = G/ np.sum(G)\n",
    "    indices = np.random.choice(np.arange(n), size = n, p = probas)\n",
    "    X[:,0,:] =X[indices, 1,:]\n",
    "    X[:,1,:] = X[:,0,:] + logIncr[:, p,:]\n",
    "\n",
    "Sf=np.zeros((n,I0))\n",
    "\n",
    "for i in range(I0):\n",
    "  Sf[:,i]=S0[i]*np.exp(X[:,1,i])"
   ]
  },
  {
   "cell_type": "code",
   "execution_count": 154,
   "metadata": {
    "colab": {
     "base_uri": "https://localhost:8080/",
     "height": 366
    },
    "colab_type": "code",
    "id": "7scsg6n9SPU_",
    "outputId": "0ce122e7-c82b-458d-baf4-314b5f219a99"
   },
   "outputs": [
    {
     "data": {
      "text/plain": [
       "(array([ 109.,  880., 2943., 5024., 5200., 3479., 1666.,  563.,  120.,\n",
       "          16.]), array([-91.10383213,  -9.30218268,  72.49946677, 154.30111622,\n",
       "        236.10276567, 317.90441512, 399.70606457, 481.50771402,\n",
       "        563.30936347, 645.11101292, 726.91266237]), <a list of 10 Patch objects>)"
      ]
     },
     "execution_count": 154,
     "metadata": {},
     "output_type": "execute_result"
    },
    {
     "data": {
      "image/png": "[encoded data removed]",
      "text/plain": [
       "<Figure size 432x288 with 1 Axes>"
      ]
     },
     "metadata": {
      "needs_background": "light"
     },
     "output_type": "display_data"
    }
   ],
   "source": [
    "calls=callPrice(Sf,T,MatK,MatSigma,T0)\n",
    "puts=putPrice(Sf,T,MatK,MatSigma,T0)\n",
    "\n",
    "callInitial=callPrice(Si,0,MatK,MatSigma,T0)\n",
    "putInitial=putPrice(Si,0,MatK,MatSigma,T0)\n",
    "\n",
    "deltaCall=callInitial-calls\n",
    "deltaPut=putInitial-puts\n",
    "\n",
    "loss=np.dot(coeffC,deltaCall.T)+np.dot(coeffP,deltaPut.T)\n",
    "plt.hist(loss)"
   ]
  },
  {
   "cell_type": "code",
   "execution_count": 155,
   "metadata": {
    "colab": {
     "base_uri": "https://localhost:8080/",
     "height": 315
    },
    "colab_type": "code",
    "id": "aUbaULZLjNb1",
    "outputId": "8ec29467-d0dc-4dc7-ea27-7bb3374be1c8"
   },
   "outputs": [
    {
     "name": "stdout",
     "output_type": "stream",
     "text": [
      "0.2767367306203002\n",
      "16220\n",
      "359.3262378257231 387.036819781381\n"
     ]
    },
    {
     "data": {
      "image/png": "[encoded data removed]",
      "text/plain": [
       "<Figure size 432x288 with 1 Axes>"
      ]
     },
     "metadata": {
      "needs_background": "light"
     },
     "output_type": "display_data"
    }
   ],
   "source": [
    "A=np.zeros((n,2))\n",
    "\n",
    "r=c*np.exp(-la*np.sum(X[:,0,:],axis=1))\n",
    "\n",
    "A[:,0],A[:,1]=loss,r\n",
    "\n",
    "print(np.mean(A[:,1]))\n",
    "indexes=np.argsort(A[:,0])\n",
    "\n",
    "A=A[indexes,:]\n",
    "plt.hist(A[:,0])\n",
    "\n",
    "k,sum=n-1,0\n",
    "while(sum+A[k,1]/n <1-alpha):\n",
    "  sum,k=sum+A[k,1]/n,k-1\n",
    "\n",
    "print(k) #Number of observations below VaR\n",
    "\n",
    "VaR=A[k,0]\n",
    "CVaR=np.sum(A[k+1:,0]*A[k+1:,1])/n + (1-alpha-np.sum(A[k+1:,1])/n)*A[k,0]\n",
    "CVaR=CVaR/(1-alpha)\n",
    "\n",
    "print(VaR,CVaR)"
   ]
  },
  {
   "cell_type": "markdown",
   "metadata": {
    "colab_type": "text",
    "id": "ef0WcW6xh2BA"
   },
   "source": [
    "#### Convergence des estimateurs :\n",
    "\n",
    "Cette partie de code a été commenté parce qu'elle prend beaucoup de temps à s'executer. Une deuxième version avec un tri par insertion avec une complexité de $O(nlog(n)) $ ."
   ]
  },
  {
   "cell_type": "code",
   "execution_count": 156,
   "metadata": {
    "colab": {},
    "colab_type": "code",
    "id": "SDN4NlQwh7wB"
   },
   "outputs": [
    {
     "data": {
      "text/plain": [
       "'\\nVaRvalues=[]\\nESvalues=[]\\nA=np.zeros((n,2))\\nA[:,0],A[:,1]=loss,r\\nfor i in range(10,n,10):\\n  B=A[:i,:i]\\n  indexes=np.argsort(B[:,0])\\n\\n  B=B[indexes,:]\\n  k,sum=i-1,0\\n  while(sum+B[k,1]/i <1-alpha):\\n    sum,k=sum+B[k,1]/i,k-1\\n\\n  VaRvalues.append(B[k,0])\\n  ES=np.sum(B[k+1:,0]*B[k+1:,1])/i + (1-alpha-np.sum(B[k+1:,1])/i)*B[k,0]\\n  ESvalues.append(ES/(1-alpha))\\n  '"
      ]
     },
     "execution_count": 156,
     "metadata": {},
     "output_type": "execute_result"
    }
   ],
   "source": [
    "'''\n",
    "VaRvalues=[]\n",
    "ESvalues=[]\n",
    "A=np.zeros((n,2))\n",
    "A[:,0],A[:,1]=loss,r\n",
    "for i in range(10,n,10):\n",
    "  B=A[:i,:i]\n",
    "  indexes=np.argsort(B[:,0])\n",
    "\n",
    "  B=B[indexes,:]\n",
    "  k,sum=i-1,0\n",
    "  while(sum+B[k,1]/i <1-alpha):\n",
    "    sum,k=sum+B[k,1]/i,k-1\n",
    "\n",
    "  VaRvalues.append(B[k,0])\n",
    "  ES=np.sum(B[k+1:,0]*B[k+1:,1])/i + (1-alpha-np.sum(B[k+1:,1])/i)*B[k,0]\n",
    "  ESvalues.append(ES/(1-alpha))\n",
    "  '''\n",
    "#Very time consuming method to show convergence"
   ]
  },
  {
   "cell_type": "code",
   "execution_count": 157,
   "metadata": {
    "colab": {
     "base_uri": "https://localhost:8080/",
     "height": 282
    },
    "colab_type": "code",
    "id": "p79kEWI_2lJU",
    "outputId": "283339cd-0b39-4966-93c5-e65ed336e81e"
   },
   "outputs": [],
   "source": [
    "#plt.subplot(2,1,1)\n",
    "#plt.plot(np.arange(10,n,10),VaRvalues,label=\"Convergence du quantile empirique\")\n",
    "\n",
    "#plt.subplot(2,1,2)\n",
    "#plt.plot(np.arange(10,n,10),ESvalues,label=\"Convergence de la CVaR\")\n",
    "#plt.legend(loc='best')"
   ]
  },
  {
   "cell_type": "markdown",
   "metadata": {
    "colab_type": "text",
    "id": "5DO6Em4ITpK2"
   },
   "source": [
    "#### Distribution au delà de la $VaR$"
   ]
  },
  {
   "cell_type": "code",
   "execution_count": 158,
   "metadata": {
    "colab": {
     "base_uri": "https://localhost:8080/",
     "height": 298
    },
    "colab_type": "code",
    "id": "eXKIstEMTudx",
    "outputId": "920adcc4-1daf-4c4e-cc1e-5f7ab5364bd1"
   },
   "outputs": [
    {
     "data": {
      "text/plain": [
       "<matplotlib.legend.Legend at 0x1f75e8f0f28>"
      ]
     },
     "execution_count": 158,
     "metadata": {},
     "output_type": "execute_result"
    },
    {
     "data": {
      "image/png": "[encoded data removed]",
      "text/plain": [
       "<Figure size 432x288 with 1 Axes>"
      ]
     },
     "metadata": {
      "needs_background": "light"
     },
     "output_type": "display_data"
    }
   ],
   "source": [
    "conditional=A[A[:,0]>VaR]\n",
    "cumulativeF=np.cumsum(conditional[:,1])/(n*(1-alpha))\n",
    "\n",
    "sc=(CVaR-VaR) \n",
    "\n",
    "plt.plot(conditional[:,0],sps.expon.cdf(conditional[:,0],loc=VaR,scale=sc),label='Fonction de répartition théorique')\n",
    "plt.plot(conditional[:,0],cumulativeF,label='Fonction de répartition empirique')\n",
    "plt.title(\"Comparaison entre la distribution théorique et empirique\")\n",
    "plt.legend(loc='best')"
   ]
  },
  {
   "cell_type": "code",
   "execution_count": 159,
   "metadata": {
    "colab": {
     "base_uri": "https://localhost:8080/",
     "height": 282
    },
    "colab_type": "code",
    "id": "uzneDziSTwHp",
    "outputId": "e1d519b2-21fa-45e7-a2d5-1c46610ff38e"
   },
   "outputs": [
    {
     "data": {
      "text/plain": [
       "<matplotlib.legend.Legend at 0x1f75e92e080>"
      ]
     },
     "execution_count": 159,
     "metadata": {},
     "output_type": "execute_result"
    },
    {
     "data": {
      "image/png": "[encoded data removed]",
      "text/plain": [
       "<Figure size 432x288 with 1 Axes>"
      ]
     },
     "metadata": {
      "needs_background": "light"
     },
     "output_type": "display_data"
    }
   ],
   "source": [
    "#Kolmogrov Smirnov Test:\n",
    "\n",
    "diff=np.abs(cumulativeF-sps.expon.cdf(conditional[:,0],loc=VaR,scale=sc))\n",
    "plt.plot(conditional[:,0],diff,label=\"$|\\widetilde{F}_n(X_{k:n})-F_\\lambda(X_{k:n})|$\")\n",
    "\n",
    "plt.legend(loc='best')"
   ]
  },
  {
   "cell_type": "code",
   "execution_count": 160,
   "metadata": {
    "colab": {
     "base_uri": "https://localhost:8080/",
     "height": 282
    },
    "colab_type": "code",
    "id": "tkfKcYh3Tyym",
    "outputId": "f243b6e2-135e-4c9f-9395-330908cb4aa7"
   },
   "outputs": [
    {
     "data": {
      "text/plain": [
       "<matplotlib.legend.Legend at 0x1f93bb446a0>"
      ]
     },
     "execution_count": 160,
     "metadata": {},
     "output_type": "execute_result"
    },
    {
     "data": {
      "image/png": "[encoded data removed]",
      "text/plain": [
       "<Figure size 432x288 with 1 Axes>"
      ]
     },
     "metadata": {
      "needs_background": "light"
     },
     "output_type": "display_data"
    }
   ],
   "source": [
    "#Q-Q plot\n",
    "th=VaR-sc*np.log(1-cumulativeF)\n",
    "\n",
    "plt.plot(th,th,label='y=f(x)')\n",
    "plt.plot(th,conditional[:,0],label='Quantile théorique vs empirique')\n",
    "plt.legend(loc='best')"
   ]
  },
  {
   "cell_type": "markdown",
   "metadata": {
    "colab_type": "text",
    "id": "n5xH4UKDoIuN"
   },
   "source": [
    "#### Intervalle de confiance"
   ]
  },
  {
   "cell_type": "code",
   "execution_count": 161,
   "metadata": {
    "colab": {},
    "colab_type": "code",
    "id": "Bi66wThUIcWo"
   },
   "outputs": [
    {
     "name": "stdout",
     "output_type": "stream",
     "text": [
      "0\n",
      "10\n",
      "20\n",
      "30\n",
      "40\n",
      "50\n",
      "60\n",
      "70\n",
      "80\n",
      "90\n"
     ]
    }
   ],
   "source": [
    "#Estimation naive\n",
    "m=int(1e2)\n",
    "\n",
    "naiveVaR,naiveCVaR=[],[]\n",
    "for i in range(m):\n",
    "    Z=np.random.normal(size=(n,T,I0)) \n",
    "    logIncr2=np.zeros((n,T,I0))\n",
    "    for t in range(T):\n",
    "        logIncr2[:,t,:]=-MatSigma*MatSigma/(2*Y)+MatSigma/np.sqrt(Y)*Z[:,t,:]\n",
    "    logS=np.cumsum(logIncr2,axis=1)\n",
    "    Sf=np.zeros((n,I0))\n",
    "    for j in range(I0):\n",
    "        Sf[:,j]=S0[j]*np.exp(logS[:,T-1,j])\n",
    "    \n",
    "    calls=callPrice(Sf,T,MatK,MatSigma,T0)\n",
    "    puts=putPrice(Sf,T,MatK,MatSigma,T0)\n",
    "\n",
    "    callInitial=callPrice(Si,0,MatK,MatSigma,T0)\n",
    "    putInitial=putPrice(Si,0,MatK,MatSigma,T0)\n",
    "\n",
    "    deltaCall=callInitial-calls\n",
    "    deltaPut=putInitial-puts\n",
    "\n",
    "    loss=np.dot(coeffC,deltaCall.T)+np.dot(coeffP,deltaPut.T)\n",
    "    sortedLoss=np.sort(loss)\n",
    "    naiveVaR.append(sortedLoss[int(n*alpha)])\n",
    "    CVaR=np.sum(sortedLoss[sortedLoss>naiveVaR[-1]])/(n*(1-alpha))\n",
    "    naiveCVaR.append(CVaR)\n",
    "    if(i%10==0):\n",
    "        print(i)"
   ]
  },
  {
   "cell_type": "code",
   "execution_count": 162,
   "metadata": {
    "colab": {},
    "colab_type": "code",
    "id": "QJrVkSfP2bcJ"
   },
   "outputs": [
    {
     "name": "stdout",
     "output_type": "stream",
     "text": [
      "0\n",
      "10\n",
      "20\n",
      "30\n",
      "40\n",
      "50\n",
      "60\n",
      "70\n",
      "80\n",
      "90\n"
     ]
    }
   ],
   "source": [
    "#Selection-Mutation\n",
    "\n",
    "la=roughEstimVaR/(T+1)\n",
    "VaR,CVaR=[],[]\n",
    "\n",
    "for i in range(m):\n",
    "    Z=np.random.normal(size=(n,T,I0)) \n",
    "    logIncr2=np.zeros((n,T,I0))\n",
    "    for t in range(T): \n",
    "      logIncr2[:,t,:]=-MatSigma*MatSigma/(2*Y)+MatSigma/np.sqrt(Y)*Z[:,t,:]\n",
    "    X = np.zeros((n, 2,I0))\n",
    "    X[:, 1,:] = logIncr2[:, 0,:]\n",
    "\n",
    "    c=1\n",
    "    for p in range(1, T):\n",
    "        G = np.exp(np.sum(la * ( X[:,1,:]  - X[:,0,:]) ,axis=1))\n",
    "        c*= np.mean(G)\n",
    "\n",
    "        probas = G/ np.sum(G)\n",
    "        indices = np.random.choice(np.arange(n), size = n, p = probas)\n",
    "        X[:,0,:] =X[indices, 1,:]\n",
    "        X[:,1,:] = X[:,0,:] + logIncr2[:, p,:]\n",
    "\n",
    "    Sf=np.zeros((n,I0))\n",
    "\n",
    "    for j in range(I0):\n",
    "      Sf[:,j]=S0[j]*np.exp(X[:,1,j])\n",
    "    \n",
    "    calls=callPrice(Sf,T,MatK,MatSigma,T0)\n",
    "    puts=putPrice(Sf,T,MatK,MatSigma,T0)\n",
    "\n",
    "    callInitial=callPrice(Si,0,MatK,MatSigma,T0)\n",
    "    putInitial=putPrice(Si,0,MatK,MatSigma,T0)\n",
    "\n",
    "    deltaCall=callInitial-calls\n",
    "    deltaPut=putInitial-puts\n",
    "\n",
    "    loss=np.dot(coeffC,deltaCall.T)+np.dot(coeffP,deltaPut.T)\n",
    "    A=np.zeros((n,2))\n",
    "\n",
    "    r=c*np.exp(-la*np.sum(X[:,0,:],axis=1))\n",
    "    A[:,0],A[:,1]=loss,r\n",
    "\n",
    "    indexes=np.argsort(A[:,0])\n",
    "    A=A[indexes,:]\n",
    "\n",
    "    k,sum=n-1,0\n",
    "    while(sum+A[k,1]/n <1-alpha):\n",
    "        sum,k=sum+A[k,1]/n,k-1\n",
    "\n",
    "    VaR.append(A[k,0])\n",
    "    cvar=np.sum(A[k+1:,0]*A[k+1:,1])/n + (1-alpha-np.sum(A[k+1:,1])/n)*A[k,0]\n",
    "    CVaR.append(cvar/(1-alpha))\n",
    "    if(i%10==0):\n",
    "        print(i)"
   ]
  },
  {
   "cell_type": "code",
   "execution_count": 163,
   "metadata": {},
   "outputs": [
    {
     "data": {
      "text/plain": [
       "{'whiskers': [<matplotlib.lines.Line2D at 0x1f93bbacb70>,\n",
       "  <matplotlib.lines.Line2D at 0x1f93bbaceb8>,\n",
       "  <matplotlib.lines.Line2D at 0x1f93bbd0630>,\n",
       "  <matplotlib.lines.Line2D at 0x1f93bbd0978>],\n",
       " 'caps': [<matplotlib.lines.Line2D at 0x1f93bbacf98>,\n",
       "  <matplotlib.lines.Line2D at 0x1f93bbc6588>,\n",
       "  <matplotlib.lines.Line2D at 0x1f93bbd0cc0>,\n",
       "  <matplotlib.lines.Line2D at 0x1f93bbd0da0>],\n",
       " 'boxes': [<matplotlib.lines.Line2D at 0x1f93bbac780>,\n",
       "  <matplotlib.lines.Line2D at 0x1f93bbd02e8>],\n",
       " 'medians': [<matplotlib.lines.Line2D at 0x1f93bbc68d0>,\n",
       "  <matplotlib.lines.Line2D at 0x1f93bbdb390>],\n",
       " 'fliers': [<matplotlib.lines.Line2D at 0x1f93bbc6f60>,\n",
       "  <matplotlib.lines.Line2D at 0x1f93bbdba20>],\n",
       " 'means': [<matplotlib.lines.Line2D at 0x1f93bbc6c18>,\n",
       "  <matplotlib.lines.Line2D at 0x1f93bbdb6d8>]}"
      ]
     },
     "execution_count": 163,
     "metadata": {},
     "output_type": "execute_result"
    },
    {
     "data": {
      "image/png": "[encoded data removed]",
      "text/plain": [
       "<Figure size 432x288 with 1 Axes>"
      ]
     },
     "metadata": {
      "needs_background": "light"
     },
     "output_type": "display_data"
    }
   ],
   "source": [
    "red_square = dict(markerfacecolor='r', marker='s')\n",
    "plt.boxplot([VaR,naiveVaR],bootstrap=1000,showmeans=True, flierprops=red_square,labels=('IPS VaR','Naive VaR'))"
   ]
  },
  {
   "cell_type": "code",
   "execution_count": 164,
   "metadata": {},
   "outputs": [
    {
     "data": {
      "text/plain": [
       "{'whiskers': [<matplotlib.lines.Line2D at 0x1f93be25d30>,\n",
       "  <matplotlib.lines.Line2D at 0x1f93be25e10>,\n",
       "  <matplotlib.lines.Line2D at 0x1f93be387f0>,\n",
       "  <matplotlib.lines.Line2D at 0x1f93be38b38>],\n",
       " 'caps': [<matplotlib.lines.Line2D at 0x1f93be2f400>,\n",
       "  <matplotlib.lines.Line2D at 0x1f93be2f748>,\n",
       "  <matplotlib.lines.Line2D at 0x1f93be38e80>,\n",
       "  <matplotlib.lines.Line2D at 0x1f93be38f60>],\n",
       " 'boxes': [<matplotlib.lines.Line2D at 0x1f93be25940>,\n",
       "  <matplotlib.lines.Line2D at 0x1f93be384a8>],\n",
       " 'medians': [<matplotlib.lines.Line2D at 0x1f93be2fa90>,\n",
       "  <matplotlib.lines.Line2D at 0x1f93be44550>],\n",
       " 'fliers': [<matplotlib.lines.Line2D at 0x1f93be2fe80>,\n",
       "  <matplotlib.lines.Line2D at 0x1f93be44be0>],\n",
       " 'means': [<matplotlib.lines.Line2D at 0x1f93be2fdd8>,\n",
       "  <matplotlib.lines.Line2D at 0x1f93be44898>]}"
      ]
     },
     "execution_count": 164,
     "metadata": {},
     "output_type": "execute_result"
    },
    {
     "data": {
      "image/png": "[encoded data removed]",
      "text/plain": [
       "<Figure size 432x288 with 1 Axes>"
      ]
     },
     "metadata": {
      "needs_background": "light"
     },
     "output_type": "display_data"
    }
   ],
   "source": [
    "plt.boxplot([CVaR,naiveCVaR],bootstrap=1000,showmeans=True, flierprops=red_square,labels=('IPS CVaR','Naive CVaR'))\n"
   ]
  },
  {
   "cell_type": "markdown",
   "metadata": {
    "colab_type": "text",
    "id": "Hy1x9Z8VSkng"
   },
   "source": [
    "### Cas Hedgé:"
   ]
  },
  {
   "cell_type": "markdown",
   "metadata": {
    "colab_type": "text",
    "id": "_Rkzdpw9V1VH"
   },
   "source": [
    "#### Estimation de la VaR et la CVaR"
   ]
  },
  {
   "cell_type": "code",
   "execution_count": 196,
   "metadata": {
    "colab": {},
    "colab_type": "code",
    "id": "qKL1kQe3SW_l"
   },
   "outputs": [],
   "source": [
    "X = np.zeros((n, 2,I0))\n",
    "X[:, 1,:] = logIncr[:, 0,:]\n",
    "\n",
    "\n",
    "c = 1\n",
    "la=-roughEstimVaRHedged/(T+1)\n",
    "for p in range(1, T):\n",
    "    G = np.exp(np.sum(la * ( X[:,1,:]  - X[:,0,:]) ,axis=1))\n",
    "    c*= np.mean(G)\n",
    "    \n",
    "    probas = G/ np.sum(G)\n",
    "    indices = np.random.choice(np.arange(n), size = n, p = probas)\n",
    "    X[:,0,:] =X[indices, 1,:]\n",
    "    X[:,1,:] = X[:,0,:] + logIncr[:, p,:]\n",
    "\n",
    "Sf=np.zeros((n,I0))\n",
    "\n",
    "for i in range(I0):\n",
    "  Sf[:,i]=S0[i]*np.exp(X[:,1,i])"
   ]
  },
  {
   "cell_type": "code",
   "execution_count": 197,
   "metadata": {
    "colab": {
     "base_uri": "https://localhost:8080/",
     "height": 366
    },
    "colab_type": "code",
    "id": "8mOSC1dKUFpq",
    "outputId": "c53f47fd-dbc7-42a4-be3b-d0867b244982"
   },
   "outputs": [
    {
     "data": {
      "text/plain": [
       "(array([4.783e+03, 8.508e+03, 4.405e+03, 1.568e+03, 5.270e+02, 1.530e+02,\n",
       "        4.200e+01, 6.000e+00, 4.000e+00, 4.000e+00]),\n",
       " array([-49.16733775, -16.35157674,  16.46418426,  49.27994527,\n",
       "         82.09570628, 114.91146728, 147.72722829, 180.54298929,\n",
       "        213.3587503 , 246.17451131, 278.99027231]),\n",
       " <a list of 10 Patch objects>)"
      ]
     },
     "execution_count": 197,
     "metadata": {},
     "output_type": "execute_result"
    },
    {
     "data": {
      "image/png": "[encoded data removed]",
      "text/plain": [
       "<Figure size 432x288 with 1 Axes>"
      ]
     },
     "metadata": {
      "needs_background": "light"
     },
     "output_type": "display_data"
    }
   ],
   "source": [
    "calls=hedgedCallPrice(Sf,T,MatK,MatSigma,T0,Si)\n",
    "puts=hedgedPutPrice(Sf,T,MatK,MatSigma,T0,Si)\n",
    "\n",
    "callInitial=hedgedCallPrice(Si,0,MatK,MatSigma,T0,Si)\n",
    "putInitial=hedgedPutPrice(Si,0,MatK,MatSigma,T0,Si)\n",
    "\n",
    "deltaCall=callInitial-calls\n",
    "deltaPut=putInitial-puts\n",
    "\n",
    "loss=np.dot(coeffC,deltaCall.T)+np.dot(coeffP,deltaPut.T)\n",
    "plt.hist(loss)"
   ]
  },
  {
   "cell_type": "code",
   "execution_count": 198,
   "metadata": {
    "colab": {
     "base_uri": "https://localhost:8080/",
     "height": 315
    },
    "colab_type": "code",
    "id": "X_HPVdjsUJEw",
    "outputId": "54b24c20-5e8b-497a-adfb-2375c5c0eff8"
   },
   "outputs": [
    {
     "name": "stdout",
     "output_type": "stream",
     "text": [
      "0.9223036665460556\n",
      "19972\n",
      "164.98621843372715 185.1170580524872\n"
     ]
    }
   ],
   "source": [
    "A=np.zeros((n,2))\n",
    "\n",
    "r=c*np.exp(-la*np.sum(X[:,0,:],axis=1))\n",
    "\n",
    "A[:,0],A[:,1]=loss,r\n",
    "print(np.mean(A[:,1]))\n",
    "indexes=np.argsort(A[:,0])\n",
    "\n",
    "A=A[indexes,:]\n",
    "\n",
    "k,sum=n-1,0\n",
    "\n",
    "while(sum+A[k,1]/n <1-alpha):\n",
    "  sum+=A[k,1]/n\n",
    "  k-=1\n",
    "\n",
    "print(k) #number of observation below VaR\n",
    "VaR=A[k,0]\n",
    "CVaR=np.sum(A[k+1:,0]*A[k+1:,1])/n + (1-alpha-np.sum(A[k+1:,1])/n)*A[k,0]\n",
    "CVaR=CVaR/(1-alpha)\n",
    "\n",
    "print(VaR,CVaR)"
   ]
  },
  {
   "cell_type": "markdown",
   "metadata": {
    "colab_type": "text",
    "id": "0lVg2fUpU5xY"
   },
   "source": [
    "#### Distribution au delà de la $VaR$"
   ]
  },
  {
   "cell_type": "code",
   "execution_count": 199,
   "metadata": {
    "colab": {
     "base_uri": "https://localhost:8080/",
     "height": 298
    },
    "colab_type": "code",
    "id": "gkc9fvOoVOWX",
    "outputId": "02726515-3ba9-4f10-c495-86ec6980ac6d"
   },
   "outputs": [
    {
     "data": {
      "text/plain": [
       "<matplotlib.legend.Legend at 0x1f93cbf60b8>"
      ]
     },
     "execution_count": 199,
     "metadata": {},
     "output_type": "execute_result"
    },
    {
     "data": {
      "image/png": "[encoded data removed]",
      "text/plain": [
       "<Figure size 432x288 with 1 Axes>"
      ]
     },
     "metadata": {
      "needs_background": "light"
     },
     "output_type": "display_data"
    }
   ],
   "source": [
    "conditional=A[A[:,0]>VaR]\n",
    "cumulativeF=np.cumsum(conditional[:,1])/(n*(1-alpha))\n",
    "\n",
    "sc=(CVaR-VaR) \n",
    "\n",
    "plt.plot(conditional[:,0],sps.expon.cdf(conditional[:,0],loc=VaR,scale=sc),label='Fonction de répartition théorique')\n",
    "plt.plot(conditional[:,0],cumulativeF,label='Fonction de répartition empirique')\n",
    "plt.title(\"Comparaison entre la distribution théorique et empirique\")\n",
    "plt.legend(loc='best')"
   ]
  },
  {
   "cell_type": "code",
   "execution_count": 200,
   "metadata": {
    "colab": {
     "base_uri": "https://localhost:8080/",
     "height": 282
    },
    "colab_type": "code",
    "id": "ZGwfY7UtVR0g",
    "outputId": "7671d4e7-14e8-4aaf-fa98-c88403ff3e34"
   },
   "outputs": [
    {
     "data": {
      "text/plain": [
       "<matplotlib.legend.Legend at 0x1f93cc3c240>"
      ]
     },
     "execution_count": 200,
     "metadata": {},
     "output_type": "execute_result"
    },
    {
     "data": {
      "image/png": "[encoded data removed]",
      "text/plain": [
       "<Figure size 432x288 with 1 Axes>"
      ]
     },
     "metadata": {
      "needs_background": "light"
     },
     "output_type": "display_data"
    }
   ],
   "source": [
    "#Kolmogrov Smirnov Test:\n",
    "\n",
    "diff=np.abs(cumulativeF-sps.expon.cdf(conditional[:,0],loc=VaR,scale=sc))\n",
    "plt.plot(conditional[:,0],diff,label=\"$|\\widetilde{F}_n(X_{k:n})-F_\\lambda(X_{k:n})|$\")\n",
    "\n",
    "plt.legend(loc='best')"
   ]
  },
  {
   "cell_type": "code",
   "execution_count": 202,
   "metadata": {
    "colab": {
     "base_uri": "https://localhost:8080/",
     "height": 282
    },
    "colab_type": "code",
    "id": "M6wWYo-kVVuL",
    "outputId": "5c270305-9979-487f-b751-558dec02b3f5"
   },
   "outputs": [
    {
     "data": {
      "text/plain": [
       "<matplotlib.legend.Legend at 0x1f93cd52748>"
      ]
     },
     "execution_count": 202,
     "metadata": {},
     "output_type": "execute_result"
    },
    {
     "data": {
      "image/png": "[encoded data removed]",
      "text/plain": [
       "<Figure size 432x288 with 1 Axes>"
      ]
     },
     "metadata": {
      "needs_background": "light"
     },
     "output_type": "display_data"
    }
   ],
   "source": [
    "#Q-Q plot\n",
    "th=VaR-sc*np.log(1-cumulativeF)\n",
    "\n",
    "plt.plot(th,th,label='y=f(x)')\n",
    "plt.plot(th,conditional[:,0],label='Quantile théorique vs empirique')\n",
    "plt.legend(loc='best')"
   ]
  },
  {
   "cell_type": "markdown",
   "metadata": {},
   "source": [
    "#### Intervalle de confiance :"
   ]
  },
  {
   "cell_type": "code",
   "execution_count": 203,
   "metadata": {},
   "outputs": [
    {
     "name": "stdout",
     "output_type": "stream",
     "text": [
      "0\n",
      "10\n",
      "20\n",
      "30\n",
      "40\n",
      "50\n",
      "60\n",
      "70\n",
      "80\n",
      "90\n"
     ]
    }
   ],
   "source": [
    "#Estimation naive\n",
    "m=int(1e2)\n",
    "\n",
    "naiveVaR,naiveCVaR=[],[]\n",
    "for i in range(m):\n",
    "    Z=np.random.normal(size=(n,T,I0)) \n",
    "    logIncr2=np.zeros((n,T,I0))\n",
    "    for t in range(T):\n",
    "        logIncr2[:,t,:]=-MatSigma*MatSigma/(2*Y)+MatSigma/np.sqrt(Y)*Z[:,t,:]\n",
    "    logS=np.cumsum(logIncr2,axis=1)\n",
    "    Sf=np.zeros((n,I0))\n",
    "    for j in range(I0):\n",
    "        Sf[:,j]=S0[j]*np.exp(logS[:,T-1,j])\n",
    "    \n",
    "    calls=hedgedCallPrice(Sf,T,MatK,MatSigma,T0,Si)\n",
    "    puts=hedgedPutPrice(Sf,T,MatK,MatSigma,T0,Si)\n",
    "\n",
    "    callInitial=hedgedCallPrice(Si,0,MatK,MatSigma,T0,Si)\n",
    "    putInitial=hedgedPutPrice(Si,0,MatK,MatSigma,T0,Si)\n",
    "\n",
    "    deltaCall=callInitial-calls\n",
    "    deltaPut=putInitial-puts\n",
    "\n",
    "    loss=np.dot(coeffC,deltaCall.T)+np.dot(coeffP,deltaPut.T)\n",
    "    sortedLoss=np.sort(loss)\n",
    "    naiveVaR.append(sortedLoss[int(n*alpha)])\n",
    "    CVaR=np.sum(sortedLoss[sortedLoss>naiveVaR[-1]])/(n*(1-alpha))\n",
    "    naiveCVaR.append(CVaR)\n",
    "    if(i%10==0):\n",
    "        print(i)"
   ]
  },
  {
   "cell_type": "code",
   "execution_count": 204,
   "metadata": {},
   "outputs": [
    {
     "name": "stdout",
     "output_type": "stream",
     "text": [
      "0\n",
      "10\n",
      "20\n",
      "30\n",
      "40\n",
      "50\n",
      "60\n",
      "70\n",
      "80\n",
      "90\n"
     ]
    }
   ],
   "source": [
    "#Selection-Mutation\n",
    "\n",
    "la=roughEstimVaR/(T+1)\n",
    "VaR,CVaR=[],[]\n",
    "\n",
    "for i in range(m):\n",
    "    Z=np.random.normal(size=(n,T,I0)) \n",
    "    logIncr2=np.zeros((n,T,I0))\n",
    "    for t in range(T): \n",
    "      logIncr2[:,t,:]=-MatSigma*MatSigma/(2*Y)+MatSigma/np.sqrt(Y)*Z[:,t,:]\n",
    "    X = np.zeros((n, 2,I0))\n",
    "    X[:, 1,:] = logIncr2[:, 0,:]\n",
    "\n",
    "    c=1\n",
    "    for p in range(1, T):\n",
    "        G = np.exp(np.sum(la * ( X[:,1,:]  - X[:,0,:]) ,axis=1))\n",
    "        c*= np.mean(G)\n",
    "\n",
    "        probas = G/ np.sum(G)\n",
    "        indices = np.random.choice(np.arange(n), size = n, p = probas)\n",
    "        X[:,0,:] =X[indices, 1,:]\n",
    "        X[:,1,:] = X[:,0,:] + logIncr2[:, p,:]\n",
    "\n",
    "    Sf=np.zeros((n,I0))\n",
    "\n",
    "    for j in range(I0):\n",
    "      Sf[:,j]=S0[j]*np.exp(X[:,1,j])\n",
    "    \n",
    "    calls=hedgedCallPrice(Sf,T,MatK,MatSigma,T0,Si)\n",
    "    puts=hedgedPutPrice(Sf,T,MatK,MatSigma,T0,Si)\n",
    "\n",
    "    callInitial=hedgedCallPrice(Si,0,MatK,MatSigma,T0,Si)\n",
    "    putInitial=hedgedPutPrice(Si,0,MatK,MatSigma,T0,Si)\n",
    "\n",
    "    deltaCall=callInitial-calls\n",
    "    deltaPut=putInitial-puts\n",
    "\n",
    "    loss=np.dot(coeffC,deltaCall.T)+np.dot(coeffP,deltaPut.T)\n",
    "    A=np.zeros((n,2))\n",
    "\n",
    "    r=c*np.exp(-la*np.sum(X[:,0,:],axis=1))\n",
    "    A[:,0],A[:,1]=loss,r\n",
    "\n",
    "    indexes=np.argsort(A[:,0])\n",
    "    A=A[indexes,:]\n",
    "\n",
    "    k,sum=n-1,0\n",
    "    while(sum+A[k,1]/n <1-alpha):\n",
    "        sum,k=sum+A[k,1]/n,k-1\n",
    "\n",
    "    VaR.append(A[k,0])\n",
    "    cvar=np.sum(A[k+1:,0]*A[k+1:,1])/n + (1-alpha-np.sum(A[k+1:,1])/n)*A[k,0]\n",
    "    CVaR.append(cvar/(1-alpha))\n",
    "    if(i%10==0):\n",
    "        print(i)"
   ]
  },
  {
   "cell_type": "code",
   "execution_count": 205,
   "metadata": {},
   "outputs": [
    {
     "data": {
      "text/plain": [
       "{'whiskers': [<matplotlib.lines.Line2D at 0x1f93cdb8ba8>,\n",
       "  <matplotlib.lines.Line2D at 0x1f93cdb8ef0>,\n",
       "  <matplotlib.lines.Line2D at 0x1f93cdd0668>,\n",
       "  <matplotlib.lines.Line2D at 0x1f93cdd09b0>],\n",
       " 'caps': [<matplotlib.lines.Line2D at 0x1f93cdb8fd0>,\n",
       "  <matplotlib.lines.Line2D at 0x1f93cdc35c0>,\n",
       "  <matplotlib.lines.Line2D at 0x1f93cdd0cf8>,\n",
       "  <matplotlib.lines.Line2D at 0x1f93cdd0dd8>],\n",
       " 'boxes': [<matplotlib.lines.Line2D at 0x1f93cdb87b8>,\n",
       "  <matplotlib.lines.Line2D at 0x1f93cdd0320>],\n",
       " 'medians': [<matplotlib.lines.Line2D at 0x1f93cdc3908>,\n",
       "  <matplotlib.lines.Line2D at 0x1f93cdda3c8>],\n",
       " 'fliers': [<matplotlib.lines.Line2D at 0x1f93cdc3f98>,\n",
       "  <matplotlib.lines.Line2D at 0x1f93cddaa58>],\n",
       " 'means': [<matplotlib.lines.Line2D at 0x1f93cdc3c50>,\n",
       "  <matplotlib.lines.Line2D at 0x1f93cdda710>]}"
      ]
     },
     "execution_count": 205,
     "metadata": {},
     "output_type": "execute_result"
    },
    {
     "data": {
      "image/png": "[encoded data removed]",
      "text/plain": [
       "<Figure size 432x288 with 1 Axes>"
      ]
     },
     "metadata": {
      "needs_background": "light"
     },
     "output_type": "display_data"
    }
   ],
   "source": [
    "red_square = dict(markerfacecolor='r', marker='s')\n",
    "plt.boxplot([VaR,naiveVaR],bootstrap=1000,showmeans=True, flierprops=red_square,labels=('IPS VaR','Naive VaR'))"
   ]
  },
  {
   "cell_type": "code",
   "execution_count": 206,
   "metadata": {},
   "outputs": [
    {
     "data": {
      "text/plain": [
       "{'whiskers': [<matplotlib.lines.Line2D at 0x1f93ce21f28>,\n",
       "  <matplotlib.lines.Line2D at 0x1f93ce2c550>,\n",
       "  <matplotlib.lines.Line2D at 0x1f93ce36c88>,\n",
       "  <matplotlib.lines.Line2D at 0x1f93ce36fd0>],\n",
       " 'caps': [<matplotlib.lines.Line2D at 0x1f93ce2c898>,\n",
       "  <matplotlib.lines.Line2D at 0x1f93ce2cbe0>,\n",
       "  <matplotlib.lines.Line2D at 0x1f93ce3f358>,\n",
       "  <matplotlib.lines.Line2D at 0x1f93ce3f6a0>],\n",
       " 'boxes': [<matplotlib.lines.Line2D at 0x1f93ce21dd8>,\n",
       "  <matplotlib.lines.Line2D at 0x1f93ce36940>],\n",
       " 'medians': [<matplotlib.lines.Line2D at 0x1f93ce2cf28>,\n",
       "  <matplotlib.lines.Line2D at 0x1f93ce3f9e8>],\n",
       " 'fliers': [<matplotlib.lines.Line2D at 0x1f93ce365f8>,\n",
       "  <matplotlib.lines.Line2D at 0x1f93ce3fdd8>],\n",
       " 'means': [<matplotlib.lines.Line2D at 0x1f93ce362b0>,\n",
       "  <matplotlib.lines.Line2D at 0x1f93ce3fd30>]}"
      ]
     },
     "execution_count": 206,
     "metadata": {},
     "output_type": "execute_result"
    },
    {
     "data": {
      "image/png": "[encoded data removed]",
      "text/plain": [
       "<Figure size 432x288 with 1 Axes>"
      ]
     },
     "metadata": {
      "needs_background": "light"
     },
     "output_type": "display_data"
    }
   ],
   "source": [
    "plt.boxplot([CVaR,naiveCVaR],bootstrap=1000,showmeans=True, flierprops=red_square,labels=('IPS CVaR','Naive CVaR'))\n"
   ]
  },
  {
   "cell_type": "markdown",
   "metadata": {
    "colab_type": "text",
    "id": "Se9i-oWxWXxf"
   },
   "source": [
    "# Cas Dépendant:"
   ]
  },
  {
   "cell_type": "markdown",
   "metadata": {},
   "source": [
    " On multiplie la matrice initiale $\\Sigma$ par la matrice $M$ des deux côtés et on obtient une nouvelle matrice de covariance $M^T \\Sigma M$ où M est défini de la facon suivante :\n",
    " $$M =\n",
    "\\begin{pmatrix}\n",
    "1 & \\rho & \\cdots & \\rho \\\\\n",
    "\\rho & 1 & \\cdots & \\vdots \\\\\n",
    "\\vdots  & \\vdots  & \\ddots &\\rho  \\\\\n",
    "\\rho &  \\cdots & \\rho & 1\n",
    "\\end{pmatrix}\n",
    "$$"
   ]
  },
  {
   "cell_type": "code",
   "execution_count": 207,
   "metadata": {},
   "outputs": [],
   "source": [
    "rho=0.1\n",
    "Cov=(1-rho)*np.eye(I0)+rho*np.ones((I0,I0)) \n",
    "L = lin.cholesky(Cov, lower=True)"
   ]
  },
  {
   "cell_type": "code",
   "execution_count": 208,
   "metadata": {},
   "outputs": [
    {
     "name": "stdout",
     "output_type": "stream",
     "text": [
      "285.19621815461693 42.56895961536152\n"
     ]
    }
   ],
   "source": [
    "roughEstimVaR= estimVaR(L)\n",
    "roughEstimVaRHedged=estimVaRHedged(L)\n",
    "\n",
    "print(roughEstimVaR,roughEstimVaRHedged)"
   ]
  },
  {
   "cell_type": "code",
   "execution_count": 209,
   "metadata": {},
   "outputs": [],
   "source": [
    "Z=np.random.normal(size=(n,T,I0)) \n",
    "for t in range(T): #correlation \n",
    "  Z[:,t,:]=np.dot(L,Z[:,t,:].T).T\n",
    "logIncr=np.zeros((n,T,I0))\n",
    "for t in range(T): \n",
    "  logIncr[:,t,:]=-MatSigma*MatSigma/(2*Y)+MatSigma/np.sqrt(Y)*Z[:,t,:]"
   ]
  },
  {
   "cell_type": "markdown",
   "metadata": {},
   "source": [
    "## Cas Non Hedgé:"
   ]
  },
  {
   "cell_type": "code",
   "execution_count": 253,
   "metadata": {},
   "outputs": [],
   "source": [
    "X = np.zeros((n, 2,I0))\n",
    "X[:, 1,:] = logIncr[:, 0,:]\n",
    "\n",
    "\n",
    "c = 1\n",
    "la=rho*roughEstimVaR/(T+1)\n",
    "for p in range(1, T):\n",
    "    G = np.exp(np.sum(la * ( X[:,1,:]  - X[:,0,:]) ,axis=1))\n",
    "    c*= np.mean(G)\n",
    "    \n",
    "    probas = G/ np.sum(G)\n",
    "    indices = np.random.choice(np.arange(n), size = n, p = probas)\n",
    "    X[:,0,:] =X[indices, 1,:]\n",
    "    X[:,1,:] = X[:,0,:] + logIncr[:, p,:]\n",
    "\n",
    "Sf=np.zeros((n,I0))\n",
    "\n",
    "for i in range(I0):\n",
    "  Sf[:,i]=S0[i]*np.exp(X[:,1,i])"
   ]
  },
  {
   "cell_type": "code",
   "execution_count": 254,
   "metadata": {},
   "outputs": [
    {
     "data": {
      "text/plain": [
       "(array([4.950e+02, 3.782e+03, 6.579e+03, 5.289e+03, 2.666e+03, 9.020e+02,\n",
       "        2.260e+02, 4.600e+01, 1.000e+01, 5.000e+00]),\n",
       " array([-238.03961925, -137.57741703,  -37.1152148 ,   63.34698743,\n",
       "         163.80918965,  264.27139188,  364.73359411,  465.19579633,\n",
       "         565.65799856,  666.12020079,  766.58240301]),\n",
       " <a list of 10 Patch objects>)"
      ]
     },
     "execution_count": 254,
     "metadata": {},
     "output_type": "execute_result"
    },
    {
     "data": {
      "image/png": "[encoded data removed]",
      "text/plain": [
       "<Figure size 432x288 with 1 Axes>"
      ]
     },
     "metadata": {
      "needs_background": "light"
     },
     "output_type": "display_data"
    }
   ],
   "source": [
    "calls=callPrice(Sf,T,MatK,MatSigma,T0)\n",
    "puts=putPrice(Sf,T,MatK,MatSigma,T0)\n",
    "\n",
    "callInitial=callPrice(Si,0,MatK,MatSigma,T0)\n",
    "putInitial=putPrice(Si,0,MatK,MatSigma,T0)\n",
    "\n",
    "deltaCall=callInitial-calls\n",
    "deltaPut=putInitial-puts\n",
    "\n",
    "loss=np.dot(coeffC,deltaCall.T)+np.dot(coeffP,deltaPut.T)\n",
    "plt.hist(loss)"
   ]
  },
  {
   "cell_type": "code",
   "execution_count": 255,
   "metadata": {},
   "outputs": [
    {
     "name": "stdout",
     "output_type": "stream",
     "text": [
      "0.9983771963408923\n",
      "19985\n",
      "566.9203095615351 629.7575148339105\n"
     ]
    },
    {
     "data": {
      "image/png": "[encoded data removed]",
      "text/plain": [
       "<Figure size 432x288 with 1 Axes>"
      ]
     },
     "metadata": {
      "needs_background": "light"
     },
     "output_type": "display_data"
    }
   ],
   "source": [
    "A=np.zeros((n,2))\n",
    "\n",
    "r=c*np.exp(-la*np.sum(X[:,0,:],axis=1))\n",
    "\n",
    "A[:,0],A[:,1]=loss,r\n",
    "print(np.mean(A[:,1]))\n",
    "indexes=np.argsort(A[:,0])\n",
    "\n",
    "A=A[indexes,:]\n",
    "plt.hist(A[:,0])\n",
    "k=n-1\n",
    "sum=0\n",
    "while(sum+A[k,1]/n <1-alpha):\n",
    "  sum+=A[k,1]/n\n",
    "  k-=1\n",
    "print(k)\n",
    "VaR=A[k,0]\n",
    "CVaR=np.sum(A[k+1:,0]*A[k+1:,1])/n + (1-alpha-np.sum(A[k+1:,1])/n)*A[k,0]\n",
    "CVaR=CVaR/(1-alpha)\n",
    "\n",
    "print(VaR,CVaR)"
   ]
  },
  {
   "cell_type": "markdown",
   "metadata": {},
   "source": [
    "### Distribution au delà de la VaR:"
   ]
  },
  {
   "cell_type": "code",
   "execution_count": 213,
   "metadata": {},
   "outputs": [
    {
     "data": {
      "text/plain": [
       "<matplotlib.legend.Legend at 0x1f93d0ede48>"
      ]
     },
     "execution_count": 213,
     "metadata": {},
     "output_type": "execute_result"
    },
    {
     "data": {
      "image/png": "[encoded data removed]",
      "text/plain": [
       "<Figure size 432x288 with 1 Axes>"
      ]
     },
     "metadata": {
      "needs_background": "light"
     },
     "output_type": "display_data"
    }
   ],
   "source": [
    "conditional=A[A[:,0]>VaR]\n",
    "cumulativeF=np.cumsum(conditional[:,1])/(n*(1-alpha))\n",
    "\n",
    "sc=(CVaR-VaR) \n",
    "\n",
    "plt.plot(conditional[:,0],sps.expon.cdf(conditional[:,0],loc=VaR,scale=sc),label='Fonction de répartition théorique')\n",
    "plt.plot(conditional[:,0],cumulativeF,label='Fonction de répartition empirique')\n",
    "plt.title(\"Comparaison entre la distribution théorique et empirique\")\n",
    "plt.legend(loc='best')"
   ]
  },
  {
   "cell_type": "code",
   "execution_count": 214,
   "metadata": {},
   "outputs": [
    {
     "data": {
      "text/plain": [
       "<matplotlib.legend.Legend at 0x1f93d104b00>"
      ]
     },
     "execution_count": 214,
     "metadata": {},
     "output_type": "execute_result"
    },
    {
     "data": {
      "image/png": "[encoded data removed]",
      "text/plain": [
       "<Figure size 432x288 with 1 Axes>"
      ]
     },
     "metadata": {
      "needs_background": "light"
     },
     "output_type": "display_data"
    }
   ],
   "source": [
    "#Kolmogrov Smirnov Test:\n",
    "\n",
    "diff=np.abs(cumulativeF-sps.expon.cdf(conditional[:,0],loc=VaR,scale=sc))\n",
    "plt.plot(conditional[:,0],diff,label=\"$|\\widetilde{F}_n(X_{k:n})-F_\\lambda(X_{k:n})|$\")\n",
    "\n",
    "plt.legend(loc='best')"
   ]
  },
  {
   "cell_type": "code",
   "execution_count": 215,
   "metadata": {},
   "outputs": [
    {
     "data": {
      "text/plain": [
       "<matplotlib.legend.Legend at 0x1f93d1c8390>"
      ]
     },
     "execution_count": 215,
     "metadata": {},
     "output_type": "execute_result"
    },
    {
     "data": {
      "image/png": "[encoded data removed]",
      "text/plain": [
       "<Figure size 432x288 with 1 Axes>"
      ]
     },
     "metadata": {
      "needs_background": "light"
     },
     "output_type": "display_data"
    }
   ],
   "source": [
    "#Q-Q plot\n",
    "th=VaR-sc*np.log(1-cumulativeF)\n",
    "\n",
    "plt.plot(th,th,label='y=f(x)')\n",
    "plt.plot(th,conditional[:,0],label='Quantile théorique vs empirique')\n",
    "plt.legend(loc='best')"
   ]
  },
  {
   "cell_type": "markdown",
   "metadata": {},
   "source": [
    "### Intervalle de confiance :"
   ]
  },
  {
   "cell_type": "code",
   "execution_count": 216,
   "metadata": {},
   "outputs": [
    {
     "name": "stdout",
     "output_type": "stream",
     "text": [
      "0\n",
      "10\n",
      "20\n",
      "30\n",
      "40\n",
      "50\n",
      "60\n",
      "70\n",
      "80\n",
      "90\n"
     ]
    }
   ],
   "source": [
    "#Estimation naive\n",
    "m=int(1e2)\n",
    "\n",
    "naiveVaR,naiveCVaR=[],[]\n",
    "for i in range(m):\n",
    "    Z=np.random.normal(size=(n,T,I0)) \n",
    "    for t in range(T): #correlation \n",
    "      Z[:,t,:]=np.dot(L,Z[:,t,:].T).T\n",
    "    logIncr2=np.zeros((n,T,I0))\n",
    "    for t in range(T):\n",
    "        logIncr2[:,t,:]=-MatSigma*MatSigma/(2*Y)+MatSigma/np.sqrt(Y)*Z[:,t,:]\n",
    "    logS=np.cumsum(logIncr2,axis=1)\n",
    "    Sf=np.zeros((n,I0))\n",
    "    for j in range(I0):\n",
    "        Sf[:,j]=S0[j]*np.exp(logS[:,T-1,j])\n",
    "    \n",
    "    calls=hedgedCallPrice(Sf,T,MatK,MatSigma,T0,Si)\n",
    "    puts=hedgedPutPrice(Sf,T,MatK,MatSigma,T0,Si)\n",
    "\n",
    "    callInitial=hedgedCallPrice(Si,0,MatK,MatSigma,T0,Si)\n",
    "    putInitial=hedgedPutPrice(Si,0,MatK,MatSigma,T0,Si)\n",
    "\n",
    "    deltaCall=callInitial-calls\n",
    "    deltaPut=putInitial-puts\n",
    "\n",
    "    loss=np.dot(coeffC,deltaCall.T)+np.dot(coeffP,deltaPut.T)\n",
    "    sortedLoss=np.sort(loss)\n",
    "    naiveVaR.append(sortedLoss[int(n*alpha)])\n",
    "    CVaR=np.sum(sortedLoss[sortedLoss>naiveVaR[-1]])/(n*(1-alpha))\n",
    "    naiveCVaR.append(CVaR)\n",
    "    if(i%10==0):\n",
    "        print(i)"
   ]
  },
  {
   "cell_type": "code",
   "execution_count": 217,
   "metadata": {},
   "outputs": [
    {
     "name": "stdout",
     "output_type": "stream",
     "text": [
      "0\n",
      "10\n",
      "20\n",
      "30\n",
      "40\n",
      "50\n",
      "60\n",
      "70\n",
      "80\n",
      "90\n"
     ]
    }
   ],
   "source": [
    "#Selection-Mutation\n",
    "\n",
    "la=rho*roughEstimVaR/(T+1)\n",
    "VaR,CVaR=[],[]\n",
    "\n",
    "for i in range(m):\n",
    "    Z=np.random.normal(size=(n,T,I0)) \n",
    "    for t in range(T): #correlation \n",
    "      Z[:,t,:]=np.dot(L,Z[:,t,:].T).T\n",
    "    logIncr2=np.zeros((n,T,I0))\n",
    "    for t in range(T): \n",
    "      logIncr2[:,t,:]=-MatSigma*MatSigma/(2*Y)+MatSigma/np.sqrt(Y)*Z[:,t,:]\n",
    "    X = np.zeros((n, 2,I0))\n",
    "    X[:, 1,:] = logIncr2[:, 0,:]\n",
    "\n",
    "    c=1\n",
    "    for p in range(1, T):\n",
    "        G = np.exp(np.sum(la * ( X[:,1,:]  - X[:,0,:]) ,axis=1))\n",
    "        c*= np.mean(G)\n",
    "\n",
    "        probas = G/ np.sum(G)\n",
    "        indices = np.random.choice(np.arange(n), size = n, p = probas)\n",
    "        X[:,0,:] =X[indices, 1,:]\n",
    "        X[:,1,:] = X[:,0,:] + logIncr2[:, p,:]\n",
    "\n",
    "    Sf=np.zeros((n,I0))\n",
    "\n",
    "    for j in range(I0):\n",
    "      Sf[:,j]=S0[j]*np.exp(X[:,1,j])\n",
    "    \n",
    "    calls=hedgedCallPrice(Sf,T,MatK,MatSigma,T0,Si)\n",
    "    puts=hedgedPutPrice(Sf,T,MatK,MatSigma,T0,Si)\n",
    "\n",
    "    callInitial=hedgedCallPrice(Si,0,MatK,MatSigma,T0,Si)\n",
    "    putInitial=hedgedPutPrice(Si,0,MatK,MatSigma,T0,Si)\n",
    "\n",
    "    deltaCall=callInitial-calls\n",
    "    deltaPut=putInitial-puts\n",
    "\n",
    "    loss=np.dot(coeffC,deltaCall.T)+np.dot(coeffP,deltaPut.T)\n",
    "    A=np.zeros((n,2))\n",
    "\n",
    "    r=c*np.exp(-la*np.sum(X[:,0,:],axis=1))\n",
    "    A[:,0],A[:,1]=loss,r\n",
    "\n",
    "    indexes=np.argsort(A[:,0])\n",
    "    A=A[indexes,:]\n",
    "\n",
    "    k,sum=n-1,0\n",
    "    while(sum+A[k,1]/n <1-alpha):\n",
    "        sum,k=sum+A[k,1]/n,k-1\n",
    "\n",
    "    VaR.append(A[k,0])\n",
    "    cvar=np.sum(A[k+1:,0]*A[k+1:,1])/n + (1-alpha-np.sum(A[k+1:,1])/n)*A[k,0]\n",
    "    CVaR.append(cvar/(1-alpha))\n",
    "    if(i%10==0):\n",
    "        print(i)"
   ]
  },
  {
   "cell_type": "code",
   "execution_count": 218,
   "metadata": {},
   "outputs": [
    {
     "data": {
      "text/plain": [
       "{'whiskers': [<matplotlib.lines.Line2D at 0x1f93d3c6d68>,\n",
       "  <matplotlib.lines.Line2D at 0x1f93d3ae390>,\n",
       "  <matplotlib.lines.Line2D at 0x1f93d1ea400>,\n",
       "  <matplotlib.lines.Line2D at 0x1f93d3bdda0>],\n",
       " 'caps': [<matplotlib.lines.Line2D at 0x1f93d3ae6d8>,\n",
       "  <matplotlib.lines.Line2D at 0x1f93d3aea20>,\n",
       "  <matplotlib.lines.Line2D at 0x1f93d3bde80>,\n",
       "  <matplotlib.lines.Line2D at 0x1f93d3ce470>],\n",
       " 'boxes': [<matplotlib.lines.Line2D at 0x1f93d3c6c18>,\n",
       "  <matplotlib.lines.Line2D at 0x1f93d3bd780>],\n",
       " 'medians': [<matplotlib.lines.Line2D at 0x1f93d3aed68>,\n",
       "  <matplotlib.lines.Line2D at 0x1f93d3ce7b8>],\n",
       " 'fliers': [<matplotlib.lines.Line2D at 0x1f93d3bd438>,\n",
       "  <matplotlib.lines.Line2D at 0x1f93d3cee48>],\n",
       " 'means': [<matplotlib.lines.Line2D at 0x1f93d3aee48>,\n",
       "  <matplotlib.lines.Line2D at 0x1f93d3ceb00>]}"
      ]
     },
     "execution_count": 218,
     "metadata": {},
     "output_type": "execute_result"
    },
    {
     "data": {
      "image/png": "[encoded data removed]",
      "text/plain": [
       "<Figure size 432x288 with 1 Axes>"
      ]
     },
     "metadata": {
      "needs_background": "light"
     },
     "output_type": "display_data"
    }
   ],
   "source": [
    "red_square = dict(markerfacecolor='r', marker='s')\n",
    "plt.boxplot([VaR,naiveVaR],bootstrap=1000,showmeans=True, flierprops=red_square,labels=('IPS VaR','Naive VaR'))"
   ]
  },
  {
   "cell_type": "code",
   "execution_count": 219,
   "metadata": {},
   "outputs": [
    {
     "data": {
      "text/plain": [
       "{'whiskers': [<matplotlib.lines.Line2D at 0x1f75d70db70>,\n",
       "  <matplotlib.lines.Line2D at 0x1f75d70deb8>,\n",
       "  <matplotlib.lines.Line2D at 0x1f75d720630>,\n",
       "  <matplotlib.lines.Line2D at 0x1f75d720978>],\n",
       " 'caps': [<matplotlib.lines.Line2D at 0x1f75d70df98>,\n",
       "  <matplotlib.lines.Line2D at 0x1f75d717588>,\n",
       "  <matplotlib.lines.Line2D at 0x1f75d720cc0>,\n",
       "  <matplotlib.lines.Line2D at 0x1f75d720da0>],\n",
       " 'boxes': [<matplotlib.lines.Line2D at 0x1f75d70d780>,\n",
       "  <matplotlib.lines.Line2D at 0x1f75d7202e8>],\n",
       " 'medians': [<matplotlib.lines.Line2D at 0x1f75d7178d0>,\n",
       "  <matplotlib.lines.Line2D at 0x1f75d72b390>],\n",
       " 'fliers': [<matplotlib.lines.Line2D at 0x1f75d717f60>,\n",
       "  <matplotlib.lines.Line2D at 0x1f75d72ba20>],\n",
       " 'means': [<matplotlib.lines.Line2D at 0x1f75d717c18>,\n",
       "  <matplotlib.lines.Line2D at 0x1f75d72b6d8>]}"
      ]
     },
     "execution_count": 219,
     "metadata": {},
     "output_type": "execute_result"
    },
    {
     "data": {
      "image/png": "[encoded data removed]",
      "text/plain": [
       "<Figure size 432x288 with 1 Axes>"
      ]
     },
     "metadata": {
      "needs_background": "light"
     },
     "output_type": "display_data"
    }
   ],
   "source": [
    "plt.boxplot([CVaR,naiveCVaR],bootstrap=1000,showmeans=True, flierprops=red_square,labels=('IPS CVaR','Naive CVaR'))\n"
   ]
  },
  {
   "cell_type": "markdown",
   "metadata": {},
   "source": [
    "## Cas hedgé :"
   ]
  },
  {
   "cell_type": "code",
   "execution_count": 240,
   "metadata": {},
   "outputs": [],
   "source": [
    "X = np.zeros((n, 2,I0))\n",
    "X[:, 1,:] = logIncr[:, 0,:]\n",
    "\n",
    "\n",
    "c = 1\n",
    "la=roughEstimVaRHedged/(T+1)\n",
    "for p in range(1, T):\n",
    "    G = np.exp(np.sum(la * ( X[:,1,:]  - X[:,0,:]) ,axis=1))\n",
    "    c*= np.mean(G)\n",
    "    \n",
    "    probas = G/ np.sum(G)\n",
    "    indices = np.random.choice(np.arange(n), size = n, p = probas)\n",
    "    X[:,0,:] =X[indices, 1,:]\n",
    "    X[:,1,:] = X[:,0,:] + logIncr[:, p,:]\n",
    "\n",
    "Sf=np.zeros((n,I0))\n",
    "\n",
    "for i in range(I0):\n",
    "  Sf[:,i]=S0[i]*np.exp(X[:,1,i])"
   ]
  },
  {
   "cell_type": "code",
   "execution_count": 241,
   "metadata": {},
   "outputs": [
    {
     "data": {
      "text/plain": [
       "(array([4.856e+03, 8.541e+03, 4.281e+03, 1.535e+03, 5.140e+02, 1.970e+02,\n",
       "        4.800e+01, 2.100e+01, 5.000e+00, 2.000e+00]),\n",
       " array([-48.88513718, -16.28490088,  16.31533542,  48.91557172,\n",
       "         81.51580802, 114.11604431, 146.71628061, 179.31651691,\n",
       "        211.91675321, 244.51698951, 277.11722581]),\n",
       " <a list of 10 Patch objects>)"
      ]
     },
     "execution_count": 241,
     "metadata": {},
     "output_type": "execute_result"
    },
    {
     "data": {
      "image/png": "[encoded data removed]",
      "text/plain": [
       "<Figure size 432x288 with 1 Axes>"
      ]
     },
     "metadata": {
      "needs_background": "light"
     },
     "output_type": "display_data"
    }
   ],
   "source": [
    "calls=hedgedCallPrice(Sf,T,MatK,MatSigma,T0,Si)\n",
    "puts=hedgedPutPrice(Sf,T,MatK,MatSigma,T0,Si)\n",
    "\n",
    "callInitial=hedgedCallPrice(Si,0,MatK,MatSigma,T0,Si)\n",
    "putInitial=hedgedPutPrice(Si,0,MatK,MatSigma,T0,Si)\n",
    "\n",
    "deltaCall=callInitial-calls\n",
    "deltaPut=putInitial-puts\n",
    "\n",
    "loss=np.dot(coeffC,deltaCall.T)+np.dot(coeffP,deltaPut.T)\n",
    "plt.hist(loss)"
   ]
  },
  {
   "cell_type": "code",
   "execution_count": 242,
   "metadata": {},
   "outputs": [
    {
     "name": "stdout",
     "output_type": "stream",
     "text": [
      "1.0276710238809557\n",
      "19981\n",
      "193.18679063109286 209.75214843194308\n"
     ]
    }
   ],
   "source": [
    "A=np.zeros((n,2))\n",
    "\n",
    "r=c*np.exp(-la*np.sum(X[:,0,:],axis=1))\n",
    "\n",
    "A[:,0],A[:,1]=loss,r\n",
    "print(np.mean(A[:,1]))\n",
    "indexes=np.argsort(A[:,0])\n",
    "\n",
    "A=A[indexes,:]\n",
    "\n",
    "k,sum=n-1,0\n",
    "\n",
    "while(sum+A[k,1]/n <1-alpha):\n",
    "  sum+=A[k,1]/n\n",
    "  k-=1\n",
    "\n",
    "print(k) #number of observation below VaR\n",
    "VaR=A[k,0]\n",
    "CVaR=np.sum(A[k+1:,0]*A[k+1:,1])/n + (1-alpha-np.sum(A[k+1:,1])/n)*A[k,0]\n",
    "CVaR=CVaR/(1-alpha)\n",
    "\n",
    "print(VaR,CVaR)"
   ]
  },
  {
   "cell_type": "markdown",
   "metadata": {},
   "source": [
    "### Distribution au delà de la $Var$"
   ]
  },
  {
   "cell_type": "code",
   "execution_count": 243,
   "metadata": {},
   "outputs": [
    {
     "data": {
      "text/plain": [
       "<matplotlib.legend.Legend at 0x1f93e8b7b38>"
      ]
     },
     "execution_count": 243,
     "metadata": {},
     "output_type": "execute_result"
    },
    {
     "data": {
      "image/png": "[encoded data removed]",
      "text/plain": [
       "<Figure size 432x288 with 1 Axes>"
      ]
     },
     "metadata": {
      "needs_background": "light"
     },
     "output_type": "display_data"
    }
   ],
   "source": [
    "conditional=A[A[:,0]>VaR]\n",
    "cumulativeF=np.cumsum(conditional[:,1])/(n*(1-alpha))\n",
    "\n",
    "sc=(CVaR-VaR) \n",
    "\n",
    "plt.plot(conditional[:,0],sps.expon.cdf(conditional[:,0],loc=VaR,scale=sc),label='Fonction de répartition théorique')\n",
    "plt.plot(conditional[:,0],cumulativeF,label='Fonction de répartition empirique')\n",
    "plt.title(\"Comparaison entre la distribution théorique et empirique\")\n",
    "plt.legend(loc='best')"
   ]
  },
  {
   "cell_type": "code",
   "execution_count": 244,
   "metadata": {},
   "outputs": [
    {
     "data": {
      "text/plain": [
       "<matplotlib.legend.Legend at 0x1f93e8fa7b8>"
      ]
     },
     "execution_count": 244,
     "metadata": {},
     "output_type": "execute_result"
    },
    {
     "data": {
      "image/png": "[encoded data removed]",
      "text/plain": [
       "<Figure size 432x288 with 1 Axes>"
      ]
     },
     "metadata": {
      "needs_background": "light"
     },
     "output_type": "display_data"
    }
   ],
   "source": [
    "#Kolmogrov Smirnov Test:\n",
    "\n",
    "diff=np.abs(cumulativeF-sps.expon.cdf(conditional[:,0],loc=VaR,scale=sc))\n",
    "plt.plot(conditional[:,0],diff,label=\"$|\\widetilde{F}_n(X_{k:n})-F_\\lambda(X_{k:n})|$\")\n",
    "\n",
    "plt.legend(loc='best')"
   ]
  },
  {
   "cell_type": "code",
   "execution_count": 245,
   "metadata": {},
   "outputs": [
    {
     "data": {
      "text/plain": [
       "<matplotlib.legend.Legend at 0x1f93e993da0>"
      ]
     },
     "execution_count": 245,
     "metadata": {},
     "output_type": "execute_result"
    },
    {
     "data": {
      "image/png": "[encoded data removed]",
      "text/plain": [
       "<Figure size 432x288 with 1 Axes>"
      ]
     },
     "metadata": {
      "needs_background": "light"
     },
     "output_type": "display_data"
    }
   ],
   "source": [
    "#Q-Q plot\n",
    "th=VaR-sc*np.log(1-cumulativeF)\n",
    "\n",
    "plt.plot(th,th,label='y=f(x)')\n",
    "plt.plot(th,conditional[:,0],label='Quantile théorique vs empirique')\n",
    "plt.legend(loc='best')"
   ]
  },
  {
   "cell_type": "markdown",
   "metadata": {},
   "source": [
    "### Intervalle de confiance:"
   ]
  },
  {
   "cell_type": "code",
   "execution_count": 246,
   "metadata": {},
   "outputs": [
    {
     "name": "stdout",
     "output_type": "stream",
     "text": [
      "0\n",
      "10\n",
      "20\n",
      "30\n",
      "40\n",
      "50\n",
      "60\n",
      "70\n",
      "80\n",
      "90\n"
     ]
    }
   ],
   "source": [
    "#Estimation naive\n",
    "m=int(1e2)\n",
    "\n",
    "naiveVaR,naiveCVaR=[],[]\n",
    "for i in range(m):\n",
    "    Z=np.random.normal(size=(n,T,I0)) \n",
    "    logIncr2=np.zeros((n,T,I0))\n",
    "    for t in range(T):\n",
    "        logIncr2[:,t,:]=-MatSigma*MatSigma/(2*Y)+MatSigma/np.sqrt(Y)*Z[:,t,:]\n",
    "    logS=np.cumsum(logIncr2,axis=1)\n",
    "    Sf=np.zeros((n,I0))\n",
    "    for j in range(I0):\n",
    "        Sf[:,j]=S0[j]*np.exp(logS[:,T-1,j])\n",
    "    \n",
    "    calls=hedgedCallPrice(Sf,T,MatK,MatSigma,T0,Si)\n",
    "    puts=hedgedPutPrice(Sf,T,MatK,MatSigma,T0,Si)\n",
    "\n",
    "    callInitial=hedgedCallPrice(Si,0,MatK,MatSigma,T0,Si)\n",
    "    putInitial=hedgedPutPrice(Si,0,MatK,MatSigma,T0,Si)\n",
    "\n",
    "    deltaCall=callInitial-calls\n",
    "    deltaPut=putInitial-puts\n",
    "\n",
    "    loss=np.dot(coeffC,deltaCall.T)+np.dot(coeffP,deltaPut.T)\n",
    "    sortedLoss=np.sort(loss)\n",
    "    naiveVaR.append(sortedLoss[int(n*alpha)])\n",
    "    CVaR=np.sum(sortedLoss[sortedLoss>naiveVaR[-1]])/(n*(1-alpha))\n",
    "    naiveCVaR.append(CVaR)\n",
    "    if(i%10==0):\n",
    "        print(i)"
   ]
  },
  {
   "cell_type": "code",
   "execution_count": 247,
   "metadata": {},
   "outputs": [
    {
     "name": "stdout",
     "output_type": "stream",
     "text": [
      "0\n",
      "10\n",
      "20\n",
      "30\n",
      "40\n",
      "50\n",
      "60\n",
      "70\n",
      "80\n",
      "90\n"
     ]
    }
   ],
   "source": [
    "#Selection-Mutation\n",
    "\n",
    "la=roughEstimVaRHedged/(T+1)\n",
    "VaR,CVaR=[],[]\n",
    "\n",
    "for i in range(m):\n",
    "    Z=np.random.normal(size=(n,T,I0)) \n",
    "    logIncr2=np.zeros((n,T,I0))\n",
    "    for t in range(T): \n",
    "      logIncr2[:,t,:]=-MatSigma*MatSigma/(2*Y)+MatSigma/np.sqrt(Y)*Z[:,t,:]\n",
    "    X = np.zeros((n, 2,I0))\n",
    "    X[:, 1,:] = logIncr2[:, 0,:]\n",
    "\n",
    "    c=1\n",
    "    for p in range(1, T):\n",
    "        G = np.exp(np.sum(la * ( X[:,1,:]  - X[:,0,:]) ,axis=1))\n",
    "        c*= np.mean(G)\n",
    "\n",
    "        probas = G/ np.sum(G)\n",
    "        indices = np.random.choice(np.arange(n), size = n, p = probas)\n",
    "        X[:,0,:] =X[indices, 1,:]\n",
    "        X[:,1,:] = X[:,0,:] + logIncr2[:, p,:]\n",
    "\n",
    "    Sf=np.zeros((n,I0))\n",
    "\n",
    "    for j in range(I0):\n",
    "      Sf[:,j]=S0[j]*np.exp(X[:,1,j])\n",
    "    \n",
    "    calls=hedgedCallPrice(Sf,T,MatK,MatSigma,T0,Si)\n",
    "    puts=hedgedPutPrice(Sf,T,MatK,MatSigma,T0,Si)\n",
    "\n",
    "    callInitial=hedgedCallPrice(Si,0,MatK,MatSigma,T0,Si)\n",
    "    putInitial=hedgedPutPrice(Si,0,MatK,MatSigma,T0,Si)\n",
    "\n",
    "    deltaCall=callInitial-calls\n",
    "    deltaPut=putInitial-puts\n",
    "\n",
    "    loss=np.dot(coeffC,deltaCall.T)+np.dot(coeffP,deltaPut.T)\n",
    "    A=np.zeros((n,2))\n",
    "\n",
    "    r=c*np.exp(-la*np.sum(X[:,0,:],axis=1))\n",
    "    A[:,0],A[:,1]=loss,r\n",
    "\n",
    "    indexes=np.argsort(A[:,0])\n",
    "    A=A[indexes,:]\n",
    "\n",
    "    k,sum=n-1,0\n",
    "    while(sum+A[k,1]/n <1-alpha):\n",
    "        sum,k=sum+A[k,1]/n,k-1\n",
    "\n",
    "    VaR.append(A[k,0])\n",
    "    cvar=np.sum(A[k+1:,0]*A[k+1:,1])/n + (1-alpha-np.sum(A[k+1:,1])/n)*A[k,0]\n",
    "    CVaR.append(cvar/(1-alpha))\n",
    "    if(i%10==0):\n",
    "        print(i)"
   ]
  },
  {
   "cell_type": "code",
   "execution_count": 248,
   "metadata": {},
   "outputs": [
    {
     "data": {
      "text/plain": [
       "{'whiskers': [<matplotlib.lines.Line2D at 0x1f93e995390>,\n",
       "  <matplotlib.lines.Line2D at 0x1f93e9951d0>,\n",
       "  <matplotlib.lines.Line2D at 0x1f93ce53748>,\n",
       "  <matplotlib.lines.Line2D at 0x1f93c04a080>],\n",
       " 'caps': [<matplotlib.lines.Line2D at 0x1f93e995668>,\n",
       "  <matplotlib.lines.Line2D at 0x1f93e8f1b70>,\n",
       "  <matplotlib.lines.Line2D at 0x1f93c04abe0>,\n",
       "  <matplotlib.lines.Line2D at 0x1f93ce71128>],\n",
       " 'boxes': [<matplotlib.lines.Line2D at 0x1f93e9cecc0>,\n",
       "  <matplotlib.lines.Line2D at 0x1f93cbda7f0>],\n",
       " 'medians': [<matplotlib.lines.Line2D at 0x1f93c038668>,\n",
       "  <matplotlib.lines.Line2D at 0x1f93d0d6860>],\n",
       " 'fliers': [<matplotlib.lines.Line2D at 0x1f93ccb72e8>,\n",
       "  <matplotlib.lines.Line2D at 0x1f93d0d6cc0>],\n",
       " 'means': [<matplotlib.lines.Line2D at 0x1f93ccb7f60>,\n",
       "  <matplotlib.lines.Line2D at 0x1f93d0d68d0>]}"
      ]
     },
     "execution_count": 248,
     "metadata": {},
     "output_type": "execute_result"
    },
    {
     "data": {
      "image/png": "[encoded data removed]",
      "text/plain": [
       "<Figure size 432x288 with 1 Axes>"
      ]
     },
     "metadata": {
      "needs_background": "light"
     },
     "output_type": "display_data"
    }
   ],
   "source": [
    "red_square = dict(markerfacecolor='r', marker='s')\n",
    "plt.boxplot([VaR,naiveVaR],bootstrap=1000,showmeans=True, flierprops=red_square,labels=('IPS VaR','Naive VaR'))"
   ]
  },
  {
   "cell_type": "code",
   "execution_count": 249,
   "metadata": {},
   "outputs": [
    {
     "data": {
      "text/plain": [
       "{'whiskers': [<matplotlib.lines.Line2D at 0x1f93d1b3be0>,\n",
       "  <matplotlib.lines.Line2D at 0x1f93d1b3f28>,\n",
       "  <matplotlib.lines.Line2D at 0x1f93ea046a0>,\n",
       "  <matplotlib.lines.Line2D at 0x1f93ea049e8>],\n",
       " 'caps': [<matplotlib.lines.Line2D at 0x1f93d1a22b0>,\n",
       "  <matplotlib.lines.Line2D at 0x1f93d1a25f8>,\n",
       "  <matplotlib.lines.Line2D at 0x1f93ea04d30>,\n",
       "  <matplotlib.lines.Line2D at 0x1f93ea04e10>],\n",
       " 'boxes': [<matplotlib.lines.Line2D at 0x1f93d1b37f0>,\n",
       "  <matplotlib.lines.Line2D at 0x1f93ea04358>],\n",
       " 'medians': [<matplotlib.lines.Line2D at 0x1f93d1a2940>,\n",
       "  <matplotlib.lines.Line2D at 0x1f93ea03400>],\n",
       " 'fliers': [<matplotlib.lines.Line2D at 0x1f93d1a2fd0>,\n",
       "  <matplotlib.lines.Line2D at 0x1f93ea03a90>],\n",
       " 'means': [<matplotlib.lines.Line2D at 0x1f93d1a2c88>,\n",
       "  <matplotlib.lines.Line2D at 0x1f93ea03748>]}"
      ]
     },
     "execution_count": 249,
     "metadata": {},
     "output_type": "execute_result"
    },
    {
     "data": {
      "image/png": "[encoded data removed]",
      "text/plain": [
       "<Figure size 432x288 with 1 Axes>"
      ]
     },
     "metadata": {
      "needs_background": "light"
     },
     "output_type": "display_data"
    }
   ],
   "source": [
    "plt.boxplot([CVaR,naiveCVaR],bootstrap=1000,showmeans=True, flierprops=red_square,labels=('IPS CVaR','Naive CVaR'))\n"
   ]
  }
 ],
 "metadata": {
  "colab": {
   "name": "Untitled13.ipynb",
   "provenance": []
  },
  "kernelspec": {
   "display_name": "Python 3",
   "language": "python",
   "name": "python3"
  },
  "language_info": {
   "codemirror_mode": {
    "name": "ipython",
    "version": 3
   },
   "file_extension": ".py",
   "mimetype": "text/x-python",
   "name": "python",
   "nbconvert_exporter": "python",
   "pygments_lexer": "ipython3",
   "version": "3.7.3"
  }
 },
 "nbformat": 4,
 "nbformat_minor": 1
}
