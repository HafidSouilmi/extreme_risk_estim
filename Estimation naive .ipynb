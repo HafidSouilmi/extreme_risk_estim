{
 "cells": [
  {
   "cell_type": "code",
   "execution_count": 40,
   "metadata": {
    "colab": {},
    "colab_type": "code",
    "id": "Pg9WUrxFhV6I"
   },
   "outputs": [],
   "source": [
    "import numpy as np\n",
    "import scipy.linalg as lin\n",
    "import matplotlib.pyplot as plt\n",
    "import scipy.stats as sps"
   ]
  },
  {
   "cell_type": "markdown",
   "metadata": {
    "colab_type": "text",
    "id": "XB59qyK1RIjW"
   },
   "source": [
    "# Troisième cas : Estimation naive\n",
    "\n",
    "$ I_0=10, \\alpha_i=10, \\beta_i=5 $ pour $i \\in [1,5]$ et $\\alpha_i=-10, \\beta_i=-5 $ pour $i \\in [6,10]$"
   ]
  },
  {
   "cell_type": "markdown",
   "metadata": {
    "colab_type": "text",
    "id": "vOv3jFVuRNf7"
   },
   "source": [
    "## Preset :"
   ]
  },
  {
   "cell_type": "code",
   "execution_count": 41,
   "metadata": {
    "colab": {},
    "colab_type": "code",
    "id": "g5qO6_MFRJn5"
   },
   "outputs": [],
   "source": [
    "T0,T,Y=120,10,252\n",
    "\n",
    "alpha=1-1e-4\n",
    "I0=10\n",
    "sigma = np.array([0.1,0.15,0.2,0.25,0.3,0.35,0.4,0.5,0.6,0.7]) #yearly std\n",
    "S0=np.array([500,400,300,200,100,50,40,30,20,10])\n",
    "K=np.array([510,390,310,190,90,55,35,34,17,12])\n",
    "n=2*int(1e4)\n",
    "\n",
    "coeffC=np.array([10 for k in range(5)]+[-10 for k in range(5)])\n",
    "coeffP=np.array([5 for k in range(5)]+[-5 for k in range(5)])"
   ]
  },
  {
   "cell_type": "code",
   "execution_count": 42,
   "metadata": {
    "colab": {},
    "colab_type": "code",
    "id": "J5iEydIIieOT"
   },
   "outputs": [],
   "source": [
    "def d1(to,x,y,sig):\n",
    "    return np.log(x/y)/(sig*np.sqrt(to)) + sig*np.sqrt(to)/2\n",
    "def d2(to,x,y,sig):\n",
    "    return np.log(x/y)/(sig*np.sqrt(to)) - sig*np.sqrt(to)/2\n",
    "\n",
    "\n",
    "def callPrice(S,t,K,sigma,T):\n",
    "    return S*sps.norm.cdf(d1((T-t)/Y,S,K,sigma))-K*sps.norm.cdf(d2((T-t)/Y,S,K,sigma))\n",
    "def putPrice(S,t,K,sigma,T):\n",
    "    return K*sps.norm.cdf(d1((T-t)/Y,K,S,sigma))-S*sps.norm.cdf(d2((T-t)/Y,K,S,sigma))"
   ]
  },
  {
   "cell_type": "code",
   "execution_count": 43,
   "metadata": {
    "colab": {},
    "colab_type": "code",
    "id": "8x8TQLUeihzt"
   },
   "outputs": [],
   "source": [
    "def dCall(S,t,K,sigma,T):\n",
    "  return sps.norm.cdf(d1((T-t)/Y,S,K,sigma))+sps.norm.pdf(d1((T-t)/Y,S,K,sigma))/(sigma*np.sqrt((T-t)/Y))-K*sps.norm.pdf(d2((T-t)/Y,S,K,sigma))/(sigma*np.sqrt((T-t)/Y)*S)\n",
    "def hedgedCallPrice(S,t,K,sigma,T,S0):\n",
    "  return callPrice(S,t,K,sigma,T)-dCall(S0,0,K,sigma,T)*S\n",
    "\n",
    "def dPut(S,t,K,sigma,T):\n",
    "  return -sps.norm.cdf(d2((T-t)/Y,K,S,sigma))+sps.norm.pdf(d2((T-t)/Y,K,S,sigma))/(sigma*np.sqrt((T-t)/Y))-K*sps.norm.pdf(d1((T-t)/Y,K,S,sigma))/(sigma*np.sqrt((T-t)/Y)*S)\n",
    "def hedgedPutPrice(S,t,K,sigma,T,S0):\n",
    "  return putPrice(S,t,K,sigma,T)-dPut(S0,0,K,sigma,T)*S"
   ]
  },
  {
   "cell_type": "code",
   "execution_count": 44,
   "metadata": {
    "colab": {},
    "colab_type": "code",
    "id": "FWSywGVFij1W"
   },
   "outputs": [],
   "source": [
    "#Greeks\n",
    "#for a call:\n",
    "def thetaC(S0,K,sigma,T,T0):\n",
    "    return -S0*sigma*sps.norm.pdf(d1((T0-T)/Y,S0,K,sigma))/(2*np.sqrt((T0-T)/Y))\n",
    "def deltaC(S0,K,sigma,T,T0):\n",
    "    return sps.norm.cdf(d1((T0-T)/Y,S0,K,sigma))\n",
    "def gammaC(S0,K,sigma,T,T0):\n",
    "    return sps.norm.pdf(d1((T0-T)/Y,K,S0,sigma))/(sigma*S0*np.sqrt((T0-T)/Y))\n",
    "\n",
    "#for a put:\n",
    "def thetaP(S0,K,sigma,T,T0):\n",
    "    return -S0*sigma*sps.norm.pdf(d1((T0-T)/Y,S0,K,sigma))/(2*np.sqrt((T0-T)/Y))\n",
    "def deltaP(S0,K,sigma,T,T0):\n",
    "    return sps.norm.cdf(d1((T0-T)/Y,K,S0,sigma))-1\n",
    "def gammaP(S0,K,sigma,T,T0):\n",
    "    return sps.norm.pdf(d1((T0-T)/Y,K,S0,sigma))/(sigma*S0*np.sqrt((T0-T)/Y))\n"
   ]
  },
  {
   "cell_type": "code",
   "execution_count": 45,
   "metadata": {
    "colab": {},
    "colab_type": "code",
    "id": "y9SgO0hsimM6"
   },
   "outputs": [],
   "source": [
    "C=np.diag(sigma*np.sqrt(T/Y)*S0)\n",
    "delta=coeffC*deltaC(S0,K,sigma,T,T0)+coeffP*deltaP(S0,K,sigma,T,T0)\n",
    "deltaH=delta-coeffC*dCall(S0,0,K,sigma,T0)-coeffP*dPut(S0,0,K,sigma,T0)\n",
    "Theta=np.dot(coeffC.T,thetaC(S0,K,sigma,T,T0))+np.dot(coeffP.T,thetaP(S0,K,sigma,T,T0))"
   ]
  },
  {
   "cell_type": "code",
   "execution_count": 46,
   "metadata": {
    "colab": {},
    "colab_type": "code",
    "id": "2qtT7Fgeiqwy"
   },
   "outputs": [],
   "source": [
    "def estimVaR(L):\n",
    "  a=-Theta*T/Y\n",
    "  b=-np.dot(L.T,np.dot(C.T,delta))\n",
    "  \n",
    "  z=sps.norm.ppf(alpha)\n",
    "  return a+lin.norm(b)*z\n",
    "\n",
    "def estimVaRHedged(L):\n",
    "  a=-Theta*T/Y\n",
    "  b=-np.dot(L.T,np.dot(C,deltaH))\n",
    "  \n",
    "  z=sps.norm.ppf(alpha)\n",
    "  return a+lin.norm(b)*z"
   ]
  },
  {
   "cell_type": "code",
   "execution_count": 47,
   "metadata": {
    "colab": {},
    "colab_type": "code",
    "id": "vzm4BInNWICu"
   },
   "outputs": [],
   "source": [
    "Si=np.zeros((n,I0))\n",
    "MatSigma=np.zeros((n,I0))\n",
    "MatK=np.zeros((n,I0)) \n",
    "for i in range(I0):\n",
    "  Si[:,i]+=S0[i]\n",
    "  MatK[:,i]+=K[i]\n",
    "  MatSigma[:,i]+=sigma[i]"
   ]
  },
  {
   "cell_type": "code",
   "execution_count": 52,
   "metadata": {},
   "outputs": [
    {
     "data": {
      "text/plain": [
       "[]"
      ]
     },
     "execution_count": 52,
     "metadata": {},
     "output_type": "execute_result"
    },
    {
     "data": {
      "image/png": "[encoded data removed]",
      "text/plain": [
       "<Figure size 432x288 with 1 Axes>"
      ]
     },
     "metadata": {
      "needs_background": "light"
     },
     "output_type": "display_data"
    }
   ],
   "source": [
    "def position(l,k):\n",
    "    a,b=0,k\n",
    "    i=k\n",
    "    while(b-a>0):\n",
    "        if(b-a==1):\n",
    "            if(l[k]>=l[a]): i=b\n",
    "            else : i=a\n",
    "            b=a\n",
    "        else :\n",
    "            mi=int(a+(b-a)/2)\n",
    "            if(l[mi]<l[k]): a=mi\n",
    "            elif(l[mi]>l[k]) : b=mi\n",
    "            else :\n",
    "                i=mi\n",
    "                b=a\n",
    "    return i\n",
    "\n",
    "Z=np.random.normal(size=(n,T,I0)) \n",
    "logIncr2=np.zeros((n,T,I0))\n",
    "for t in range(T):\n",
    "    logIncr2[:,t,:]=-MatSigma*MatSigma/(2*Y)+MatSigma/np.sqrt(Y)*Z[:,t,:]\n",
    "logS=np.cumsum(logIncr2,axis=1)\n",
    "Sf=np.zeros((n,I0))\n",
    "for j in range(I0):\n",
    "    Sf[:,j]=S0[j]*np.exp(logS[:,T-1,j])\n",
    "\n",
    "calls=callPrice(Sf,T,MatK,MatSigma,T0)\n",
    "puts=putPrice(Sf,T,MatK,MatSigma,T0)\n",
    "\n",
    "callInitial=callPrice(Si,0,MatK,MatSigma,T0)\n",
    "putInitial=putPrice(Si,0,MatK,MatSigma,T0)\n",
    "\n",
    "deltaCall=callInitial-calls\n",
    "deltaPut=putInitial-puts\n",
    "\n",
    "loss1=np.dot(coeffC,deltaCall.T)+np.dot(coeffP,deltaPut.T)\n",
    "values1=[]\n",
    "for k in range(1,n):\n",
    "    i=position(loss1,k)\n",
    "    loss1[:k+1]=np.concatenate((loss1[:i],np.array(loss1[k]),loss1[i:k]), axis=None)\n",
    "    values1.append(loss1[int(alpha*k)])\n",
    "plt.plot(np.arange(1,len(values1)+1),values1, label='Convergence of VaR non-hedged using quantiles')\n",
    "\n",
    "calls=hedgedCallPrice(Sf,T,MatK,MatSigma,T0,Si)\n",
    "puts=hedgedPutPrice(Sf,T,MatK,MatSigma,T0,Si)\n",
    "\n",
    "callInitial=hedgedCallPrice(Si,0,MatK,MatSigma,T0,Si)\n",
    "putInitial=hedgedPutPrice(Si,0,MatK,MatSigma,T0,Si)\n",
    "\n",
    "deltaCall=callInitial-calls\n",
    "deltaPut=putInitial-puts\n",
    "\n",
    "loss2=np.dot(coeffC,deltaCall.T)+np.dot(coeffP,deltaPut.T)\n",
    "    \n",
    "values2=[]\n",
    "for k in range(1,n):\n",
    "    i=position(loss2,k)\n",
    "    loss2[:k+1]=np.concatenate((loss2[:i],np.array(loss2[k]),loss2[i:k]), axis=None)\n",
    "    values2.append(loss2[int(alpha*k)])\n",
    "plt.plot(np.arange(1,len(values2)+1),values2,label='Convergence of VaR hedged using quantiles')\n",
    "plt.legend(loc='best')\n",
    "plt.title(\"3ème cas\")\n",
    "plt.plot()"
   ]
  },
  {
   "cell_type": "code",
   "execution_count": 55,
   "metadata": {},
   "outputs": [
    {
     "data": {
      "text/plain": [
       "[]"
      ]
     },
     "execution_count": 55,
     "metadata": {},
     "output_type": "execute_result"
    },
    {
     "data": {
      "image/png": "[encoded data removed]",
      "text/plain": [
       "<Figure size 432x288 with 1 Axes>"
      ]
     },
     "metadata": {
      "needs_background": "light"
     },
     "output_type": "display_data"
    }
   ],
   "source": [
    "cond1=loss1[loss1>=loss1[int(alpha*n)]]\n",
    "\n",
    "cvarValues1=[]\n",
    "for k in range(len(cond1)):\n",
    "    cvarValues1.append(cond1[:k])\n",
    "\n",
    "cond2=loss2[loss2>=loss2[int(alpha*n)]]\n",
    "\n",
    "cvarValues2=[]\n",
    "for k in range(len(cond2)):\n",
    "    cvarValues2.append(cond2[:k])\n",
    "    \n",
    "    \n",
    "cvarValues1=np.array(cvarValues1)/(1-alpha) + loss1[int(alpha*n)]\n",
    "cvarValues2=np.array(cvarValues2)/(1-alpha) + loss2[int(alpha*n)]\n",
    "\n",
    "\n",
    "plt.plot(cond1,label='Convergence of CVaR non-hedged' )\n",
    "plt.plot(cond2,label='Convergence of CVaR hedged' )\n",
    "plt.legend(loc='best')\n",
    "plt.plot()"
   ]
  }
 ],
 "metadata": {
  "colab": {
   "name": "Untitled13.ipynb",
   "provenance": []
  },
  "kernelspec": {
   "display_name": "Python 3",
   "language": "python",
   "name": "python3"
  },
  "language_info": {
   "codemirror_mode": {
    "name": "ipython",
    "version": 3
   },
   "file_extension": ".py",
   "mimetype": "text/x-python",
   "name": "python",
   "nbconvert_exporter": "python",
   "pygments_lexer": "ipython3",
   "version": "3.7.3"
  }
 },
 "nbformat": 4,
 "nbformat_minor": 1
}
