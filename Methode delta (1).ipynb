{
 "cells": [
  {
   "cell_type": "code",
   "execution_count": 123,
   "metadata": {
    "colab": {},
    "colab_type": "code",
    "id": "Pg9WUrxFhV6I"
   },
   "outputs": [],
   "source": [
    "import numpy as np\n",
    "import scipy.linalg as lin\n",
    "import matplotlib.pyplot as plt\n",
    "import scipy.stats as sps"
   ]
  },
  {
   "cell_type": "markdown",
   "metadata": {
    "colab_type": "text",
    "id": "XB59qyK1RIjW"
   },
   "source": [
    "# Deuxième cas : Méthode delta :\n",
    "\n",
    "$ I_0=10, \\alpha_i=10, \\beta_i=5 $"
   ]
  },
  {
   "cell_type": "markdown",
   "metadata": {
    "colab_type": "text",
    "id": "vOv3jFVuRNf7"
   },
   "source": [
    "## Préliminaire :"
   ]
  },
  {
   "cell_type": "markdown",
   "metadata": {},
   "source": [
    "Paramètres de la simulation :"
   ]
  },
  {
   "cell_type": "code",
   "execution_count": 124,
   "metadata": {
    "colab": {},
    "colab_type": "code",
    "id": "g5qO6_MFRJn5"
   },
   "outputs": [],
   "source": [
    "T0,T,Y=120,10,252\n",
    "\n",
    "alpha=1-1e-5\n",
    "I0=10\n",
    "sigma = np.array([0.1,0.15,0.2,0.25,0.3,0.35,0.4,0.5,0.6,0.7]) #yearly std\n",
    "S0=np.array([500,400,300,200,100,50,40,30,20,10])\n",
    "K=np.array([510,390,310,190,90,55,35,34,17,12])\n",
    "n=2*int(1e4)\n",
    "\n",
    "coeffC=np.zeros(I0)+10\n",
    "coeffP=np.zeros(I0)+5"
   ]
  },
  {
   "cell_type": "code",
   "execution_count": 125,
   "metadata": {
    "colab": {},
    "colab_type": "code",
    "id": "J5iEydIIieOT"
   },
   "outputs": [],
   "source": [
    "def d1(to,x,y,sig):\n",
    "    return np.log(x/y)/(sig*np.sqrt(to)) + sig*np.sqrt(to)/2\n",
    "def d2(to,x,y,sig):\n",
    "    return np.log(x/y)/(sig*np.sqrt(to)) - sig*np.sqrt(to)/2\n",
    "\n",
    "\n",
    "def callPrice(S,t,K,sigma,T):\n",
    "    return S*sps.norm.cdf(d1((T-t)/Y,S,K,sigma))-K*sps.norm.cdf(d2((T-t)/Y,S,K,sigma))\n",
    "def putPrice(S,t,K,sigma,T):\n",
    "    return K*sps.norm.cdf(d1((T-t)/Y,K,S,sigma))-S*sps.norm.cdf(d2((T-t)/Y,K,S,sigma))"
   ]
  },
  {
   "cell_type": "code",
   "execution_count": 126,
   "metadata": {
    "colab": {},
    "colab_type": "code",
    "id": "8x8TQLUeihzt"
   },
   "outputs": [],
   "source": [
    "def dCall(S,t,K,sigma,T):\n",
    "  return sps.norm.cdf(d1((T-t)/Y,S,K,sigma))+sps.norm.pdf(d1((T-t)/Y,S,K,sigma))/(sigma*np.sqrt((T-t)/Y))-K*sps.norm.pdf(d2((T-t)/Y,S,K,sigma))/(sigma*np.sqrt((T-t)/Y)*S)\n",
    "def hedgedCallPrice(S,t,K,sigma,T,S0):\n",
    "  return callPrice(S,t,K,sigma,T)-dCall(S0,0,K,sigma,T)*S\n",
    "\n",
    "def dPut(S,t,K,sigma,T):\n",
    "  return -sps.norm.cdf(d2((T-t)/Y,K,S,sigma))+sps.norm.pdf(d2((T-t)/Y,K,S,sigma))/(sigma*np.sqrt((T-t)/Y))-K*sps.norm.pdf(d1((T-t)/Y,K,S,sigma))/(sigma*np.sqrt((T-t)/Y)*S)\n",
    "def hedgedPutPrice(S,t,K,sigma,T,S0):\n",
    "  return putPrice(S,t,K,sigma,T)-dPut(S0,0,K,sigma,T)*S"
   ]
  },
  {
   "cell_type": "markdown",
   "metadata": {},
   "source": [
    "Définition des Greeks du modèle de Black-Scholes :"
   ]
  },
  {
   "cell_type": "code",
   "execution_count": 127,
   "metadata": {
    "colab": {},
    "colab_type": "code",
    "id": "FWSywGVFij1W"
   },
   "outputs": [],
   "source": [
    "#Greeks\n",
    "#for a call:\n",
    "def thetaC(S0,K,sigma,T,T0):\n",
    "    return -S0*sigma*sps.norm.pdf(d1((T0-T)/Y,S0,K,sigma))/(2*np.sqrt((T0-T)/Y))\n",
    "def deltaC(S0,K,sigma,T,T0):\n",
    "    return sps.norm.cdf(d1((T0-T)/Y,S0,K,sigma))\n",
    "def gammaC(S0,K,sigma,T,T0):\n",
    "    return sps.norm.pdf(d1((T0-T)/Y,K,S0,sigma))/(sigma*S0*np.sqrt((T0-T)/Y))\n",
    "\n",
    "#for a put:\n",
    "def thetaP(S0,K,sigma,T,T0):\n",
    "    return -S0*sigma*sps.norm.pdf(d1((T0-T)/Y,S0,K,sigma))/(2*np.sqrt((T0-T)/Y))\n",
    "def deltaP(S0,K,sigma,T,T0):\n",
    "    return sps.norm.cdf(d1((T0-T)/Y,K,S0,sigma))-1\n",
    "def gammaP(S0,K,sigma,T,T0):\n",
    "    return sps.norm.pdf(d1((T0-T)/Y,K,S0,sigma))/(sigma*S0*np.sqrt((T0-T)/Y))\n"
   ]
  },
  {
   "cell_type": "markdown",
   "metadata": {},
   "source": [
    "On définit deux quantités : $\\delta$ et $\\Theta$, avec $\\delta$ défini pour le cas hedgé et non hedgé:"
   ]
  },
  {
   "cell_type": "code",
   "execution_count": 128,
   "metadata": {
    "colab": {},
    "colab_type": "code",
    "id": "y9SgO0hsimM6"
   },
   "outputs": [],
   "source": [
    "C=np.diag(sigma*np.sqrt(T/Y)*S0)\n",
    "delta=coeffC*deltaC(S0,K,sigma,T,T0)+coeffP*deltaP(S0,K,sigma,T,T0)\n",
    "deltaH=delta-coeffC*dCall(S0,0,K,sigma,T0)-coeffP*dPut(S0,0,K,sigma,T0)\n",
    "Theta=np.dot(coeffC.T,thetaC(S0,K,sigma,T,T0))+np.dot(coeffP.T,thetaP(S0,K,sigma,T,T0))"
   ]
  },
  {
   "cell_type": "markdown",
   "metadata": {},
   "source": [
    "Deux méthodes pour calculer des estimations grossières de la VaR utiliser ci-dessous:"
   ]
  },
  {
   "cell_type": "code",
   "execution_count": 129,
   "metadata": {
    "colab": {},
    "colab_type": "code",
    "id": "2qtT7Fgeiqwy"
   },
   "outputs": [],
   "source": [
    "def estimVaR(L):\n",
    "  a=-Theta*T/Y\n",
    "  b=-np.dot(L.T,np.dot(C.T,delta))\n",
    "  \n",
    "  z=sps.norm.ppf(alpha)\n",
    "  return a+lin.norm(b)*z\n",
    "\n",
    "def estimVaRHedged(L):\n",
    "  a=-Theta*T/Y\n",
    "  b=-np.dot(L.T,np.dot(C,deltaH))\n",
    "  \n",
    "  z=sps.norm.ppf(alpha)\n",
    "  return a+lin.norm(b)*z"
   ]
  },
  {
   "cell_type": "markdown",
   "metadata": {},
   "source": [
    "Pour exploiter la force d'optimisation de numpy, on définit les matrices suivantes: (éviter les boucles for):"
   ]
  },
  {
   "cell_type": "code",
   "execution_count": 130,
   "metadata": {
    "colab": {},
    "colab_type": "code",
    "id": "vzm4BInNWICu"
   },
   "outputs": [],
   "source": [
    "Si=np.zeros((n,I0))\n",
    "MatSigma=np.zeros((n,I0))\n",
    "MatK=np.zeros((n,I0)) \n",
    "for i in range(I0):\n",
    "  Si[:,i]+=S0[i]\n",
    "  MatK[:,i]+=K[i]\n",
    "  MatSigma[:,i]+=sigma[i]"
   ]
  },
  {
   "cell_type": "markdown",
   "metadata": {
    "colab_type": "text",
    "id": "i_WseUFSSDWk"
   },
   "source": [
    "## Cas Indépendant:\n",
    "\n",
    "On utilise $logIncr$ comme incrément de la chaîne de Markov.\n",
    "\n",
    "$logIncr \\sim \\mathcal N(\\mu,\\Sigma)$\n",
    " avec \n",
    " $$\\Sigma =\n",
    "\\begin{pmatrix}\n",
    "\\sigma_{1}^{2} & 0 & \\cdots & 0 \\\\\n",
    "0 & \\sigma_{2}^{2} & \\cdots & \\vdots \\\\\n",
    "\\vdots  & \\vdots  & \\ddots & 0  \\\\\n",
    "0 &  \\cdots & 0 & \\sigma_{I_{0}}^{2}\n",
    "\\end{pmatrix}\n",
    "$$ et $$\\mu= \\frac{-1}{2}\\begin{pmatrix}\n",
    "\\sigma_{1}^{2} \\\\\n",
    "\\sigma_{2}^{2}  \\\\\n",
    "\\vdots   \\\\\n",
    "\\sigma_{I_{0}}^{2}\n",
    "\\end{pmatrix}$$"
   ]
  },
  {
   "cell_type": "code",
   "execution_count": 131,
   "metadata": {
    "colab": {
     "base_uri": "https://localhost:8080/",
     "height": 34
    },
    "colab_type": "code",
    "id": "-1qEroCFZndM",
    "outputId": "084dad2b-f6a1-45eb-e704-ef9d1e2d467d"
   },
   "outputs": [
    {
     "name": "stdout",
     "output_type": "stream",
     "text": [
      "357.42733444577016 168.09812303847636\n"
     ]
    }
   ],
   "source": [
    "roughEstimVaR= estimVaR(np.eye(I0))\n",
    "roughEstimVaRHedged=estimVaRHedged(np.eye(I0))\n",
    "\n",
    "print(roughEstimVaR,roughEstimVaRHedged)"
   ]
  },
  {
   "cell_type": "code",
   "execution_count": 132,
   "metadata": {
    "colab": {},
    "colab_type": "code",
    "id": "XY_CTKSPS0k3"
   },
   "outputs": [],
   "source": [
    "a=-Theta*T/Y\n",
    "L=np.eye(I0)\n",
    "CovSqrt=np.dot(C,L)\n",
    "b=-np.dot(CovSqrt.T,delta)"
   ]
  },
  {
   "cell_type": "markdown",
   "metadata": {
    "colab_type": "text",
    "id": "7kw6LFLISGEV"
   },
   "source": [
    "### Cas non-hedgé:"
   ]
  },
  {
   "cell_type": "markdown",
   "metadata": {
    "colab_type": "text",
    "id": "_Bsnao5vVYnT"
   },
   "source": [
    "#### Estimation de la VaR et la CVaR"
   ]
  },
  {
   "cell_type": "code",
   "execution_count": 133,
   "metadata": {
    "colab": {},
    "colab_type": "code",
    "id": "5aqVLxzTSKnZ"
   },
   "outputs": [
    {
     "name": "stdout",
     "output_type": "stream",
     "text": [
      "[-1.25124857 -2.35235276 -1.7116603  -2.13169205 -1.4377814  -0.48791859\n",
      " -0.79181013 -0.48039593 -0.6241769  -0.25218015]\n"
     ]
    },
    {
     "data": {
      "text/plain": [
       "(array([5.000e+00, 1.800e+01, 8.800e+01, 2.990e+02, 9.970e+02, 2.598e+03,\n",
       "        4.943e+03, 6.395e+03, 4.103e+03, 5.540e+02]),\n",
       " array([-59.72556434, -25.04021464,   9.64513506,  44.33048476,\n",
       "         79.01583446, 113.70118416, 148.38653386, 183.07188356,\n",
       "        217.75723326, 252.44258296, 287.12793266]),\n",
       " <a list of 10 Patch objects>)"
      ]
     },
     "execution_count": 133,
     "metadata": {},
     "output_type": "execute_result"
    },
    {
     "data": {
      "image/png": "[encoded data removed]",
      "text/plain": [
       "<Figure size 432x288 with 1 Axes>"
      ]
     },
     "metadata": {
      "needs_background": "light"
     },
     "output_type": "display_data"
    }
   ],
   "source": [
    "mu=(roughEstimVaR-a)*b/np.sum(b*b)\n",
    "print(mu)\n",
    "\n",
    "Z=np.random.normal(size=(I0,n))\n",
    "for i in range(I0):\n",
    "  Z[i,:]=mu[i]+Z[i,:]\n",
    "  \n",
    "\n",
    "dS=np.dot(CovSqrt,Z)\n",
    "Sf=Si+dS.T\n",
    "\n",
    "calls=callPrice(Sf,T,K,sigma,T0)\n",
    "puts=putPrice(Sf,T,K,sigma,T0)\n",
    "\n",
    "\n",
    "callInitial=callPrice(Si,0,K,sigma,T0)\n",
    "putInitial=putPrice(Si,0,K,sigma,T0)\n",
    "\n",
    "deltaCall=callInitial-calls\n",
    "deltaPut=putInitial-puts\n",
    "\n",
    "loss=np.dot(coeffC,deltaCall.T)+np.dot(coeffP,deltaPut.T)\n",
    "sortedLoss=np.sort(loss)\n",
    "plt.hist(loss)"
   ]
  },
  {
   "cell_type": "code",
   "execution_count": 134,
   "metadata": {
    "colab": {
     "base_uri": "https://localhost:8080/",
     "height": 315
    },
    "colab_type": "code",
    "id": "aUbaULZLjNb1",
    "outputId": "8ec29467-d0dc-4dc7-ea27-7bb3374be1c8"
   },
   "outputs": [
    {
     "name": "stdout",
     "output_type": "stream",
     "text": [
      "0.4939971472038707\n",
      "19203\n",
      "248.81924380629047 254.99659927264662\n"
     ]
    },
    {
     "data": {
      "image/png": "[encoded data removed]",
      "text/plain": [
       "<Figure size 432x288 with 1 Axes>"
      ]
     },
     "metadata": {
      "needs_background": "light"
     },
     "output_type": "display_data"
    }
   ],
   "source": [
    "A=np.zeros((n,2))\n",
    "\n",
    "r=np.exp(0.5*np.dot(mu.T,mu)-np.dot(mu.T,Z))\n",
    "\n",
    "A[:,0],A[:,1]=loss,r\n",
    "\n",
    "print(np.mean(A[:,1]))\n",
    "indexes=np.argsort(A[:,0]) #on prend les indices pour lesquelles le vecteur A[:,0]=pertes sera ordonné\n",
    "\n",
    "A=A[indexes,:] #on ordonne notre vecteur 2d selon la première composante\n",
    "\n",
    "k,sum=n-1,0\n",
    "while(sum+A[k,1]/n <1-alpha):\n",
    "  sum,k=sum+A[k,1]/n,k-1\n",
    "\n",
    "print(k) #Number of observations below VaR\n",
    "\n",
    "VaR=A[k,0]\n",
    "CVaR=np.sum(A[k+1:,0]*A[k+1:,1])/n + (1-alpha-np.sum(A[k+1:,1])/n)*A[k,0]\n",
    "CVaR=CVaR/(1-alpha)\n",
    "\n",
    "print(VaR,CVaR)"
   ]
  },
  {
   "cell_type": "markdown",
   "metadata": {
    "colab_type": "text",
    "id": "ef0WcW6xh2BA"
   },
   "source": [
    "#### Convergence des estimateurs :\n",
    "\n",
    "Cette partie de code a été commenté parce qu'elle prend beaucoup de temps à s'executer. Une deuxième version avec un tri par insertion avec une complexité de $O(nlog(n)) $ ."
   ]
  },
  {
   "cell_type": "code",
   "execution_count": 135,
   "metadata": {
    "colab": {},
    "colab_type": "code",
    "id": "SDN4NlQwh7wB"
   },
   "outputs": [
    {
     "data": {
      "text/plain": [
       "'\\nVaRvalues=[]\\nESvalues=[]\\nA=np.zeros((n,2))\\nA[:,0],A[:,1]=loss,r\\nfor i in range(10,n,10):\\n  B=A[:i,:i]\\n  indexes=np.argsort(B[:,0])\\n\\n  B=B[indexes,:]\\n  k,sum=i-1,0\\n  while(sum+B[k,1]/i <1-alpha):\\n    sum,k=sum+B[k,1]/i,k-1\\n\\n  VaRvalues.append(B[k,0])\\n  ES=np.sum(B[k+1:,0]*B[k+1:,1])/i + (1-alpha-np.sum(B[k+1:,1])/i)*B[k,0]\\n  ESvalues.append(ES/(1-alpha))\\n  '"
      ]
     },
     "execution_count": 135,
     "metadata": {},
     "output_type": "execute_result"
    }
   ],
   "source": [
    "'''\n",
    "VaRvalues=[]\n",
    "ESvalues=[]\n",
    "A=np.zeros((n,2))\n",
    "A[:,0],A[:,1]=loss,r\n",
    "for i in range(10,n,10):\n",
    "  B=A[:i,:i]\n",
    "  indexes=np.argsort(B[:,0])\n",
    "\n",
    "  B=B[indexes,:]\n",
    "  k,sum=i-1,0\n",
    "  while(sum+B[k,1]/i <1-alpha):\n",
    "    sum,k=sum+B[k,1]/i,k-1\n",
    "\n",
    "  VaRvalues.append(B[k,0])\n",
    "  ES=np.sum(B[k+1:,0]*B[k+1:,1])/i + (1-alpha-np.sum(B[k+1:,1])/i)*B[k,0]\n",
    "  ESvalues.append(ES/(1-alpha))\n",
    "  '''\n",
    "#Very time consuming methode to show convergence"
   ]
  },
  {
   "cell_type": "code",
   "execution_count": 136,
   "metadata": {
    "colab": {
     "base_uri": "https://localhost:8080/",
     "height": 282
    },
    "colab_type": "code",
    "id": "p79kEWI_2lJU",
    "outputId": "283339cd-0b39-4966-93c5-e65ed336e81e"
   },
   "outputs": [],
   "source": [
    "#plt.subplot(2,1,1)\n",
    "#plt.plot(np.arange(10,n,10),VaRvalues,label=\"Convergence du quantile empirique\")\n",
    "\n",
    "#plt.subplot(2,1,2)\n",
    "#plt.plot(np.arange(10,n,10),ESvalues,label=\"Convergence de la CVaR\")\n",
    "#plt.legend(loc='best')"
   ]
  },
  {
   "cell_type": "markdown",
   "metadata": {
    "colab_type": "text",
    "id": "5DO6Em4ITpK2"
   },
   "source": [
    "#### Distribution au delà de la $VaR$"
   ]
  },
  {
   "cell_type": "code",
   "execution_count": 137,
   "metadata": {
    "colab": {
     "base_uri": "https://localhost:8080/",
     "height": 298
    },
    "colab_type": "code",
    "id": "eXKIstEMTudx",
    "outputId": "920adcc4-1daf-4c4e-cc1e-5f7ab5364bd1"
   },
   "outputs": [
    {
     "data": {
      "text/plain": [
       "<matplotlib.legend.Legend at 0x1ca45bdefd0>"
      ]
     },
     "execution_count": 137,
     "metadata": {},
     "output_type": "execute_result"
    },
    {
     "data": {
      "image/png": "[encoded data removed]",
      "text/plain": [
       "<Figure size 432x288 with 1 Axes>"
      ]
     },
     "metadata": {
      "needs_background": "light"
     },
     "output_type": "display_data"
    }
   ],
   "source": [
    "conditional=A[A[:,0]>VaR]\n",
    "cumulativeF=np.cumsum(conditional[:,1])/(n*(1-alpha))\n",
    "\n",
    "sc=(CVaR-VaR) #1/lambda\n",
    "\n",
    "plt.plot(conditional[:,0],sps.expon.cdf(conditional[:,0],loc=VaR,scale=sc),label='Fonction de répartition théorique')\n",
    "plt.plot(conditional[:,0],cumulativeF,label='Fonction de répartition empirique')\n",
    "plt.title(\"Comparaison entre la distribution théorique et empirique\")\n",
    "plt.legend(loc='best')"
   ]
  },
  {
   "cell_type": "code",
   "execution_count": 138,
   "metadata": {
    "colab": {
     "base_uri": "https://localhost:8080/",
     "height": 282
    },
    "colab_type": "code",
    "id": "uzneDziSTwHp",
    "outputId": "e1d519b2-21fa-45e7-a2d5-1c46610ff38e"
   },
   "outputs": [
    {
     "data": {
      "text/plain": [
       "<matplotlib.legend.Legend at 0x1ca44bd39b0>"
      ]
     },
     "execution_count": 138,
     "metadata": {},
     "output_type": "execute_result"
    },
    {
     "data": {
      "image/png": "[encoded data removed]",
      "text/plain": [
       "<Figure size 432x288 with 1 Axes>"
      ]
     },
     "metadata": {
      "needs_background": "light"
     },
     "output_type": "display_data"
    }
   ],
   "source": [
    "#Kolmogrov Smirnov Test:\n",
    "\n",
    "diff=np.abs(cumulativeF-sps.expon.cdf(conditional[:,0],loc=VaR,scale=sc))\n",
    "plt.plot(conditional[:,0],diff,label=\"$|\\widetilde{F}_n(X_{k:n})-F_\\lambda(X_{k:n})|$\")\n",
    "\n",
    "plt.legend(loc='best')"
   ]
  },
  {
   "cell_type": "code",
   "execution_count": 139,
   "metadata": {
    "colab": {
     "base_uri": "https://localhost:8080/",
     "height": 282
    },
    "colab_type": "code",
    "id": "tkfKcYh3Tyym",
    "outputId": "f243b6e2-135e-4c9f-9395-330908cb4aa7"
   },
   "outputs": [
    {
     "data": {
      "text/plain": [
       "<matplotlib.legend.Legend at 0x1ca45ca1898>"
      ]
     },
     "execution_count": 139,
     "metadata": {},
     "output_type": "execute_result"
    },
    {
     "data": {
      "image/png": "[encoded data removed]",
      "text/plain": [
       "<Figure size 432x288 with 1 Axes>"
      ]
     },
     "metadata": {
      "needs_background": "light"
     },
     "output_type": "display_data"
    }
   ],
   "source": [
    "#Q-Q plot\n",
    "th=VaR-sc*np.log(1-cumulativeF)\n",
    "\n",
    "plt.plot(th,th,label='y=f(x)')\n",
    "plt.plot(th,conditional[:,0],label='Quantile théorique vs empirique')\n",
    "plt.legend(loc='best')"
   ]
  },
  {
   "cell_type": "markdown",
   "metadata": {
    "colab_type": "text",
    "id": "n5xH4UKDoIuN"
   },
   "source": [
    "#### Intervalle de confiance"
   ]
  },
  {
   "cell_type": "code",
   "execution_count": 140,
   "metadata": {
    "colab": {},
    "colab_type": "code",
    "id": "Bi66wThUIcWo"
   },
   "outputs": [
    {
     "name": "stdout",
     "output_type": "stream",
     "text": [
      "0\n",
      "10\n",
      "20\n",
      "30\n",
      "40\n",
      "50\n",
      "60\n",
      "70\n",
      "80\n",
      "90\n"
     ]
    }
   ],
   "source": [
    "#Estimation naive\n",
    "m=int(1e2)\n",
    "\n",
    "naiveVaR,naiveCVaR=[],[]\n",
    "for i in range(m):\n",
    "    Z=np.random.normal(size=(n,I0)) \n",
    "    dS=np.dot(CovSqrt,Z.T)\n",
    "    Sf=Si+dS.T\n",
    "    \n",
    "    calls=callPrice(Sf,T,MatK,MatSigma,T0)\n",
    "    puts=putPrice(Sf,T,MatK,MatSigma,T0)\n",
    "\n",
    "    callInitial=callPrice(Si,0,MatK,MatSigma,T0)\n",
    "    putInitial=putPrice(Si,0,MatK,MatSigma,T0)\n",
    "\n",
    "    deltaCall=callInitial-calls\n",
    "    deltaPut=putInitial-puts\n",
    "\n",
    "    loss=np.dot(coeffC,deltaCall.T)+np.dot(coeffP,deltaPut.T)\n",
    "    sortedLoss=np.sort(loss)\n",
    "    naiveVaR.append(sortedLoss[int(n*alpha)])\n",
    "    CVaR=np.sum(sortedLoss[sortedLoss>naiveVaR[-1]])/(n*(1-alpha))\n",
    "    naiveCVaR.append(CVaR)\n",
    "    if(i%10==0):\n",
    "        print(i)"
   ]
  },
  {
   "cell_type": "code",
   "execution_count": 141,
   "metadata": {
    "colab": {},
    "colab_type": "code",
    "id": "QJrVkSfP2bcJ"
   },
   "outputs": [
    {
     "name": "stdout",
     "output_type": "stream",
     "text": [
      "0\n",
      "10\n",
      "20\n",
      "30\n",
      "40\n",
      "50\n",
      "60\n",
      "70\n",
      "80\n",
      "90\n"
     ]
    }
   ],
   "source": [
    "#Methode delta\n",
    "\n",
    "\n",
    "VaR,CVaR=[],[]\n",
    "\n",
    "for i in range(m):\n",
    "    mu=(roughEstimVaR-a)*b/np.sum(b*b)\n",
    "\n",
    "    Z=np.random.normal(size=(I0,n))\n",
    "    for j in range(I0):\n",
    "      Z[j,:]=mu[j]+Z[j,:]\n",
    "\n",
    "    dS=np.dot(CovSqrt,Z)\n",
    "    Sf=Si+dS.T\n",
    "\n",
    "    calls=callPrice(Sf,T,K,sigma,T0)\n",
    "    puts=putPrice(Sf,T,K,sigma,T0)\n",
    "\n",
    "\n",
    "    callInitial=callPrice(Si,0,K,sigma,T0)\n",
    "    putInitial=putPrice(Si,0,K,sigma,T0)\n",
    "\n",
    "    deltaCall=callInitial-calls\n",
    "    deltaPut=putInitial-puts\n",
    "\n",
    "    loss=np.dot(coeffC,deltaCall.T)+np.dot(coeffP,deltaPut.T)\n",
    "    A=np.zeros((n,2))\n",
    "\n",
    "    r=np.exp(0.5*np.dot(mu.T,mu)-np.dot(mu.T,Z))\n",
    "    A[:,0],A[:,1]=loss,r\n",
    "\n",
    "    indexes=np.argsort(A[:,0])\n",
    "    A=A[indexes,:]\n",
    "\n",
    "    k,sum=n-1,0\n",
    "    while(sum+A[k,1]/n <1-alpha):\n",
    "        sum,k=sum+A[k,1]/n,k-1\n",
    "\n",
    "    VaR.append(A[k,0])\n",
    "    cvar=np.sum(A[k+1:,0]*A[k+1:,1])/n + (1-alpha-np.sum(A[k+1:,1])/n)*A[k,0]\n",
    "    CVaR.append(cvar/(1-alpha))\n",
    "    if(i%10==0):\n",
    "        print(i)"
   ]
  },
  {
   "cell_type": "code",
   "execution_count": 142,
   "metadata": {},
   "outputs": [
    {
     "data": {
      "text/plain": [
       "{'whiskers': [<matplotlib.lines.Line2D at 0x1ca45ed7e48>,\n",
       "  <matplotlib.lines.Line2D at 0x1ca45ee34a8>,\n",
       "  <matplotlib.lines.Line2D at 0x1ca45eebbe0>,\n",
       "  <matplotlib.lines.Line2D at 0x1ca45eebf28>],\n",
       " 'caps': [<matplotlib.lines.Line2D at 0x1ca45ee37f0>,\n",
       "  <matplotlib.lines.Line2D at 0x1ca45ee3b38>,\n",
       "  <matplotlib.lines.Line2D at 0x1ca45ef32b0>,\n",
       "  <matplotlib.lines.Line2D at 0x1ca45ef35f8>],\n",
       " 'boxes': [<matplotlib.lines.Line2D at 0x1ca45ed7cf8>,\n",
       "  <matplotlib.lines.Line2D at 0x1ca45eeb898>],\n",
       " 'medians': [<matplotlib.lines.Line2D at 0x1ca45ee3e80>,\n",
       "  <matplotlib.lines.Line2D at 0x1ca45ef3940>],\n",
       " 'fliers': [<matplotlib.lines.Line2D at 0x1ca45eeb550>,\n",
       "  <matplotlib.lines.Line2D at 0x1ca45ef3fd0>],\n",
       " 'means': [<matplotlib.lines.Line2D at 0x1ca45ee3f60>,\n",
       "  <matplotlib.lines.Line2D at 0x1ca45ef3c88>]}"
      ]
     },
     "execution_count": 142,
     "metadata": {},
     "output_type": "execute_result"
    },
    {
     "data": {
      "image/png": "[encoded data removed]",
      "text/plain": [
       "<Figure size 432x288 with 1 Axes>"
      ]
     },
     "metadata": {
      "needs_background": "light"
     },
     "output_type": "display_data"
    }
   ],
   "source": [
    "red_square = dict(markerfacecolor='r', marker='s')\n",
    "plt.boxplot([VaR,naiveVaR],bootstrap=1000,showmeans=True, flierprops=red_square,labels=('Delta VaR','Naive VaR'))"
   ]
  },
  {
   "cell_type": "markdown",
   "metadata": {},
   "source": [
    "On trouve un intervalle de confiance très précis."
   ]
  },
  {
   "cell_type": "code",
   "execution_count": 143,
   "metadata": {},
   "outputs": [
    {
     "data": {
      "text/plain": [
       "{'whiskers': [<matplotlib.lines.Line2D at 0x1ca45f447f0>,\n",
       "  <matplotlib.lines.Line2D at 0x1ca45f44b38>,\n",
       "  <matplotlib.lines.Line2D at 0x1ca45f592b0>,\n",
       "  <matplotlib.lines.Line2D at 0x1ca45f595f8>],\n",
       " 'caps': [<matplotlib.lines.Line2D at 0x1ca45f44e80>,\n",
       "  <matplotlib.lines.Line2D at 0x1ca45f44f60>,\n",
       "  <matplotlib.lines.Line2D at 0x1ca45f59940>,\n",
       "  <matplotlib.lines.Line2D at 0x1ca45f59c88>],\n",
       " 'boxes': [<matplotlib.lines.Line2D at 0x1ca45f443c8>,\n",
       "  <matplotlib.lines.Line2D at 0x1ca45f4bf28>],\n",
       " 'medians': [<matplotlib.lines.Line2D at 0x1ca45f4b550>,\n",
       "  <matplotlib.lines.Line2D at 0x1ca45f59fd0>],\n",
       " 'fliers': [<matplotlib.lines.Line2D at 0x1ca45f4bbe0>,\n",
       "  <matplotlib.lines.Line2D at 0x1ca45f646a0>],\n",
       " 'means': [<matplotlib.lines.Line2D at 0x1ca45f4b898>,\n",
       "  <matplotlib.lines.Line2D at 0x1ca45f64358>]}"
      ]
     },
     "execution_count": 143,
     "metadata": {},
     "output_type": "execute_result"
    },
    {
     "data": {
      "image/png": "[encoded data removed]",
      "text/plain": [
       "<Figure size 432x288 with 1 Axes>"
      ]
     },
     "metadata": {
      "needs_background": "light"
     },
     "output_type": "display_data"
    }
   ],
   "source": [
    "plt.boxplot([CVaR,naiveCVaR],bootstrap=1000,showmeans=True, flierprops=red_square,labels=('Delta CVaR','Naive CVaR'))\n"
   ]
  },
  {
   "cell_type": "markdown",
   "metadata": {},
   "source": [
    "Dans le cas naif on a une unique observations."
   ]
  },
  {
   "cell_type": "markdown",
   "metadata": {
    "colab_type": "text",
    "id": "Hy1x9Z8VSkng"
   },
   "source": [
    "### Cas Hedgé:"
   ]
  },
  {
   "cell_type": "markdown",
   "metadata": {
    "colab_type": "text",
    "id": "_Rkzdpw9V1VH"
   },
   "source": [
    "#### Estimation de la VaR et la CVaR"
   ]
  },
  {
   "cell_type": "code",
   "execution_count": 144,
   "metadata": {
    "colab": {},
    "colab_type": "code",
    "id": "qKL1kQe3SW_l"
   },
   "outputs": [],
   "source": [
    "mu=(roughEstimVaRHedged-a)*b/np.sum(b*b)\n",
    "\n",
    "Z=np.random.normal(size=(I0,n))\n",
    "for i in range(I0):\n",
    "    Z[i,:]=mu[i]+Z[i,:]\n",
    "\n",
    "dS=np.dot(CovSqrt,Z)\n",
    "Sf=Si+dS.T"
   ]
  },
  {
   "cell_type": "code",
   "execution_count": 145,
   "metadata": {
    "colab": {
     "base_uri": "https://localhost:8080/",
     "height": 366
    },
    "colab_type": "code",
    "id": "8mOSC1dKUFpq",
    "outputId": "c53f47fd-dbc7-42a4-be3b-d0867b244982"
   },
   "outputs": [
    {
     "data": {
      "text/plain": [
       "(array([1.000e+00, 0.000e+00, 9.000e+00, 4.100e+01, 1.440e+02, 5.230e+02,\n",
       "        1.806e+03, 4.733e+03, 8.581e+03, 4.162e+03]),\n",
       " array([-353.25928989, -312.89280238, -272.52631487, -232.15982736,\n",
       "        -191.79333985, -151.42685234, -111.06036483,  -70.69387732,\n",
       "         -30.32738981,   10.0390977 ,   50.40558521]),\n",
       " <a list of 10 Patch objects>)"
      ]
     },
     "execution_count": 145,
     "metadata": {},
     "output_type": "execute_result"
    },
    {
     "data": {
      "image/png": "[encoded data removed]",
      "text/plain": [
       "<Figure size 432x288 with 1 Axes>"
      ]
     },
     "metadata": {
      "needs_background": "light"
     },
     "output_type": "display_data"
    }
   ],
   "source": [
    "calls=hedgedCallPrice(Sf,T,MatK,MatSigma,T0,Si)\n",
    "puts=hedgedPutPrice(Sf,T,MatK,MatSigma,T0,Si)\n",
    "\n",
    "callInitial=hedgedCallPrice(Si,0,MatK,MatSigma,T0,Si)\n",
    "putInitial=hedgedPutPrice(Si,0,MatK,MatSigma,T0,Si)\n",
    "\n",
    "deltaCall=callInitial-calls\n",
    "deltaPut=putInitial-puts\n",
    "\n",
    "loss=np.dot(coeffC,deltaCall.T)+np.dot(coeffP,deltaPut.T)\n",
    "plt.hist(loss)"
   ]
  },
  {
   "cell_type": "code",
   "execution_count": 146,
   "metadata": {
    "colab": {
     "base_uri": "https://localhost:8080/",
     "height": 315
    },
    "colab_type": "code",
    "id": "X_HPVdjsUJEw",
    "outputId": "54b24c20-5e8b-497a-adfb-2375c5c0eff8"
   },
   "outputs": [
    {
     "name": "stdout",
     "output_type": "stream",
     "text": [
      "0.9868577065633586\n",
      "19999\n",
      "50.405585208470015 50.405585208470015\n"
     ]
    }
   ],
   "source": [
    "A=np.zeros((n,2))\n",
    "\n",
    "r=np.exp(0.5*np.dot(mu.T,mu)-np.dot(mu.T,Z))\n",
    "\n",
    "A[:,0],A[:,1]=loss,r\n",
    "print(np.mean(A[:,1]))\n",
    "indexes=np.argsort(A[:,0])\n",
    "\n",
    "A=A[indexes,:]\n",
    "\n",
    "k,sum=n-1,0\n",
    "\n",
    "while(sum+A[k,1]/n <1-alpha):\n",
    "  sum+=A[k,1]/n\n",
    "  k-=1\n",
    "\n",
    "print(k) #number of observation below VaR\n",
    "VaR=A[k,0]\n",
    "CVaR=np.sum(A[k+1:,0]*A[k+1:,1])/n + (1-alpha-np.sum(A[k+1:,1])/n)*A[k,0]\n",
    "CVaR=CVaR/(1-alpha)\n",
    "\n",
    "print(VaR,CVaR)"
   ]
  },
  {
   "cell_type": "markdown",
   "metadata": {
    "colab_type": "text",
    "id": "0lVg2fUpU5xY"
   },
   "source": [
    "#### Distribution au delà de la $VaR$"
   ]
  },
  {
   "cell_type": "code",
   "execution_count": 147,
   "metadata": {
    "colab": {
     "base_uri": "https://localhost:8080/",
     "height": 298
    },
    "colab_type": "code",
    "id": "gkc9fvOoVOWX",
    "outputId": "02726515-3ba9-4f10-c495-86ec6980ac6d",
    "scrolled": true
   },
   "outputs": [
    {
     "data": {
      "text/plain": [
       "<matplotlib.legend.Legend at 0x1ca43fd0ef0>"
      ]
     },
     "execution_count": 147,
     "metadata": {},
     "output_type": "execute_result"
    },
    {
     "data": {
      "image/png": "[encoded data removed]",
      "text/plain": [
       "<Figure size 432x288 with 1 Axes>"
      ]
     },
     "metadata": {
      "needs_background": "light"
     },
     "output_type": "display_data"
    }
   ],
   "source": [
    "conditional=A[A[:,0]>VaR]\n",
    "cumulativeF=np.cumsum(conditional[:,1])/(n*(1-alpha))\n",
    "\n",
    "sc=(CVaR-VaR) \n",
    "\n",
    "plt.plot(conditional[:,0],sps.expon.cdf(conditional[:,0],loc=VaR,scale=sc),label='Fonction de répartition théorique')\n",
    "plt.plot(conditional[:,0],cumulativeF,label='Fonction de répartition empirique')\n",
    "plt.title(\"Comparaison entre la distribution théorique et empirique\")\n",
    "plt.legend(loc='best')"
   ]
  },
  {
   "cell_type": "markdown",
   "metadata": {},
   "source": [
    "<h3>Remarque </h3>\n",
    "\n",
    "Aucune observation ne vérifie la condition X>VaR même après l'échantillonnage d'importance"
   ]
  },
  {
   "cell_type": "code",
   "execution_count": 148,
   "metadata": {
    "colab": {
     "base_uri": "https://localhost:8080/",
     "height": 282
    },
    "colab_type": "code",
    "id": "ZGwfY7UtVR0g",
    "outputId": "7671d4e7-14e8-4aaf-fa98-c88403ff3e34"
   },
   "outputs": [
    {
     "data": {
      "text/plain": [
       "<matplotlib.legend.Legend at 0x1ca44016cf8>"
      ]
     },
     "execution_count": 148,
     "metadata": {},
     "output_type": "execute_result"
    },
    {
     "data": {
      "image/png": "[encoded data removed]",
      "text/plain": [
       "<Figure size 432x288 with 1 Axes>"
      ]
     },
     "metadata": {
      "needs_background": "light"
     },
     "output_type": "display_data"
    }
   ],
   "source": [
    "#Kolmogrov Smirnov Test:\n",
    "\n",
    "diff=np.abs(cumulativeF-sps.expon.cdf(conditional[:,0],loc=VaR,scale=sc))\n",
    "plt.plot(conditional[:,0],diff,label=\"$|\\widetilde{F}_n(X_{k:n})-F_\\lambda(X_{k:n})|$\")\n",
    "\n",
    "plt.legend(loc='best')"
   ]
  },
  {
   "cell_type": "code",
   "execution_count": 149,
   "metadata": {
    "colab": {
     "base_uri": "https://localhost:8080/",
     "height": 282
    },
    "colab_type": "code",
    "id": "M6wWYo-kVVuL",
    "outputId": "5c270305-9979-487f-b751-558dec02b3f5"
   },
   "outputs": [
    {
     "data": {
      "text/plain": [
       "<matplotlib.legend.Legend at 0x1ca44bd36a0>"
      ]
     },
     "execution_count": 149,
     "metadata": {},
     "output_type": "execute_result"
    },
    {
     "data": {
      "image/png": "[encoded data removed]",
      "text/plain": [
       "<Figure size 432x288 with 1 Axes>"
      ]
     },
     "metadata": {
      "needs_background": "light"
     },
     "output_type": "display_data"
    }
   ],
   "source": [
    "#Q-Q plot\n",
    "th=VaR-sc*np.log(1-cumulativeF)\n",
    "\n",
    "plt.plot(th,th,label='y=f(x)')\n",
    "plt.plot(th,conditional[:,0],label='Quantile théorique vs empirique')\n",
    "plt.legend(loc='best')"
   ]
  },
  {
   "cell_type": "markdown",
   "metadata": {},
   "source": [
    "#### Intervalle de confiance :"
   ]
  },
  {
   "cell_type": "code",
   "execution_count": 150,
   "metadata": {},
   "outputs": [
    {
     "name": "stdout",
     "output_type": "stream",
     "text": [
      "0\n",
      "10\n",
      "20\n",
      "30\n",
      "40\n",
      "50\n",
      "60\n",
      "70\n",
      "80\n",
      "90\n"
     ]
    }
   ],
   "source": [
    "#Estimation naive\n",
    "m=int(1e2)\n",
    "\n",
    "naiveVaR,naiveCVaR=[],[]\n",
    "for i in range(m):\n",
    "    Z=np.random.normal(size=(I0,n))\n",
    "    \n",
    "    dS=np.dot(CovSqrt,Z)\n",
    "    Sf=Si+dS.T\n",
    "    \n",
    "    calls=hedgedCallPrice(Sf,T,MatK,MatSigma,T0,Si)\n",
    "    puts=hedgedPutPrice(Sf,T,MatK,MatSigma,T0,Si)\n",
    "\n",
    "    callInitial=hedgedCallPrice(Si,0,MatK,MatSigma,T0,Si)\n",
    "    putInitial=hedgedPutPrice(Si,0,MatK,MatSigma,T0,Si)\n",
    "\n",
    "    deltaCall=callInitial-calls\n",
    "    deltaPut=putInitial-puts\n",
    "\n",
    "    loss=np.dot(coeffC,deltaCall.T)+np.dot(coeffP,deltaPut.T)\n",
    "    sortedLoss=np.sort(loss)\n",
    "    naiveVaR.append(sortedLoss[int(n*alpha)])\n",
    "    CVaR=np.sum(sortedLoss[sortedLoss>naiveVaR[-1]])/(n*(1-alpha))\n",
    "    naiveCVaR.append(CVaR)\n",
    "    if(i%10==0):\n",
    "        print(i)"
   ]
  },
  {
   "cell_type": "code",
   "execution_count": 151,
   "metadata": {},
   "outputs": [
    {
     "name": "stdout",
     "output_type": "stream",
     "text": [
      "0\n",
      "10\n",
      "20\n",
      "30\n",
      "40\n",
      "50\n",
      "60\n",
      "70\n",
      "80\n",
      "90\n"
     ]
    }
   ],
   "source": [
    "#Methode delta\n",
    "\n",
    "VaR,CVaR=[],[]\n",
    "\n",
    "for i in range(m):\n",
    "    Z=np.random.normal(size=(I0,n))\n",
    "    for j in range(I0):\n",
    "        Z[j,:]=mu[j]+Z[j,:]\n",
    "\n",
    "    dS=np.dot(CovSqrt,Z)\n",
    "    Sf=Si+dS.T\n",
    "\n",
    "    calls=hedgedCallPrice(Sf,T,MatK,MatSigma,T0,Si)\n",
    "    puts=hedgedPutPrice(Sf,T,MatK,MatSigma,T0,Si)\n",
    "\n",
    "    callInitial=hedgedCallPrice(Si,0,MatK,MatSigma,T0,Si)\n",
    "    putInitial=hedgedPutPrice(Si,0,MatK,MatSigma,T0,Si)\n",
    "\n",
    "    deltaCall=callInitial-calls\n",
    "    deltaPut=putInitial-puts\n",
    "\n",
    "    loss=np.dot(coeffC,deltaCall.T)+np.dot(coeffP,deltaPut.T)\n",
    "    A=np.zeros((n,2))\n",
    "\n",
    "    r=np.exp(0.5*np.dot(mu.T,mu)-np.dot(mu.T,Z))\n",
    "    A[:,0],A[:,1]=loss,r\n",
    "\n",
    "    indexes=np.argsort(A[:,0])\n",
    "    A=A[indexes,:]\n",
    "\n",
    "    k,sum=n-1,0\n",
    "    while(sum+A[k,1]/n <1-alpha):\n",
    "        sum,k=sum+A[k,1]/n,k-1\n",
    "\n",
    "    VaR.append(A[k,0])\n",
    "    cvar=np.sum(A[k+1:,0]*A[k+1:,1])/n + (1-alpha-np.sum(A[k+1:,1])/n)*A[k,0]\n",
    "    CVaR.append(cvar/(1-alpha))\n",
    "    if(i%10==0):\n",
    "        print(i)"
   ]
  },
  {
   "cell_type": "code",
   "execution_count": 152,
   "metadata": {},
   "outputs": [
    {
     "data": {
      "text/plain": [
       "{'whiskers': [<matplotlib.lines.Line2D at 0x1ca44083630>,\n",
       "  <matplotlib.lines.Line2D at 0x1ca44083978>,\n",
       "  <matplotlib.lines.Line2D at 0x1ca4408ce48>,\n",
       "  <matplotlib.lines.Line2D at 0x1ca44b9b438>],\n",
       " 'caps': [<matplotlib.lines.Line2D at 0x1ca44083cc0>,\n",
       "  <matplotlib.lines.Line2D at 0x1ca44083da0>,\n",
       "  <matplotlib.lines.Line2D at 0x1ca44b9b780>,\n",
       "  <matplotlib.lines.Line2D at 0x1ca44b9bac8>],\n",
       " 'boxes': [<matplotlib.lines.Line2D at 0x1ca44083208>,\n",
       "  <matplotlib.lines.Line2D at 0x1ca4408cd68>],\n",
       " 'medians': [<matplotlib.lines.Line2D at 0x1ca4408c390>,\n",
       "  <matplotlib.lines.Line2D at 0x1ca44b9be10>],\n",
       " 'fliers': [<matplotlib.lines.Line2D at 0x1ca4408ca20>,\n",
       "  <matplotlib.lines.Line2D at 0x1ca44b894e0>],\n",
       " 'means': [<matplotlib.lines.Line2D at 0x1ca4408c6d8>,\n",
       "  <matplotlib.lines.Line2D at 0x1ca44b9bef0>]}"
      ]
     },
     "execution_count": 152,
     "metadata": {},
     "output_type": "execute_result"
    },
    {
     "data": {
      "image/png": "[encoded data removed]",
      "text/plain": [
       "<Figure size 432x288 with 1 Axes>"
      ]
     },
     "metadata": {
      "needs_background": "light"
     },
     "output_type": "display_data"
    }
   ],
   "source": [
    "red_square = dict(markerfacecolor='r', marker='s')\n",
    "plt.boxplot([VaR,naiveVaR],bootstrap=1000,showmeans=True, flierprops=red_square,labels=('Delta VaR','Naive VaR'))"
   ]
  },
  {
   "cell_type": "code",
   "execution_count": 153,
   "metadata": {
    "scrolled": false
   },
   "outputs": [
    {
     "data": {
      "text/plain": [
       "{'whiskers': [<matplotlib.lines.Line2D at 0x1ca44102e80>,\n",
       "  <matplotlib.lines.Line2D at 0x1ca4410a4e0>,\n",
       "  <matplotlib.lines.Line2D at 0x1ca41756c18>,\n",
       "  <matplotlib.lines.Line2D at 0x1ca41756f60>],\n",
       " 'caps': [<matplotlib.lines.Line2D at 0x1ca4410a828>,\n",
       "  <matplotlib.lines.Line2D at 0x1ca4410ab70>,\n",
       "  <matplotlib.lines.Line2D at 0x1ca4175f2e8>,\n",
       "  <matplotlib.lines.Line2D at 0x1ca4175f630>],\n",
       " 'boxes': [<matplotlib.lines.Line2D at 0x1ca44102d30>,\n",
       "  <matplotlib.lines.Line2D at 0x1ca417568d0>],\n",
       " 'medians': [<matplotlib.lines.Line2D at 0x1ca4410aeb8>,\n",
       "  <matplotlib.lines.Line2D at 0x1ca4175f978>],\n",
       " 'fliers': [<matplotlib.lines.Line2D at 0x1ca41756588>,\n",
       "  <matplotlib.lines.Line2D at 0x1ca4175fd68>],\n",
       " 'means': [<matplotlib.lines.Line2D at 0x1ca4410af98>,\n",
       "  <matplotlib.lines.Line2D at 0x1ca4175fcc0>]}"
      ]
     },
     "execution_count": 153,
     "metadata": {},
     "output_type": "execute_result"
    },
    {
     "data": {
      "image/png": "[encoded data removed]",
      "text/plain": [
       "<Figure size 432x288 with 1 Axes>"
      ]
     },
     "metadata": {
      "needs_background": "light"
     },
     "output_type": "display_data"
    }
   ],
   "source": [
    "plt.boxplot([CVaR,naiveCVaR],bootstrap=1000,showmeans=True, flierprops=red_square,labels=('Delta CVaR','Naive CVaR'))\n"
   ]
  },
  {
   "cell_type": "markdown",
   "metadata": {},
   "source": [
    "<h3>Conclusion partielle :</h3>\n",
    "La méthode Delta qui consiste à changer la moyenne de la gaussienne $Z$, a amélioré l'estimation dans le cas non couvert, mais a été sans effet dans le cas couvert.\n"
   ]
  },
  {
   "cell_type": "markdown",
   "metadata": {
    "colab_type": "text",
    "id": "Se9i-oWxWXxf"
   },
   "source": [
    "# Cas Dépendant:"
   ]
  },
  {
   "cell_type": "markdown",
   "metadata": {},
   "source": [
    " On multiplie la matrice initiale $\\Sigma$ par la matrice $M$ des deux côtés et on obtient une nouvelle matrice de covariance $M^T \\Sigma M$ où M est défini de la facon suivante :\n",
    " $$M =\n",
    "\\begin{pmatrix}\n",
    "1 & \\rho & \\cdots & \\rho \\\\\n",
    "\\rho & 1 & \\cdots & \\vdots \\\\\n",
    "\\vdots  & \\vdots  & \\ddots &\\rho  \\\\\n",
    "\\rho &  \\cdots & \\rho & 1\n",
    "\\end{pmatrix}\n",
    "$$"
   ]
  },
  {
   "cell_type": "code",
   "execution_count": 154,
   "metadata": {},
   "outputs": [],
   "source": [
    "rho=0.1\n",
    "Cov=(1-rho)*np.eye(I0)+rho*np.ones((I0,I0)) \n",
    "L = lin.cholesky(Cov, lower=True)"
   ]
  },
  {
   "cell_type": "code",
   "execution_count": 155,
   "metadata": {},
   "outputs": [
    {
     "name": "stdout",
     "output_type": "stream",
     "text": [
      "441.54680983707533 163.3069135242055\n"
     ]
    }
   ],
   "source": [
    "roughEstimVaR= estimVaR(L)\n",
    "roughEstimVaRHedged=estimVaRHedged(L)\n",
    "\n",
    "print(roughEstimVaR,roughEstimVaRHedged)"
   ]
  },
  {
   "cell_type": "code",
   "execution_count": 156,
   "metadata": {},
   "outputs": [],
   "source": [
    "a=-Theta*T/Y\n",
    "L=np.eye(I0)\n",
    "CovSqrt=np.dot(C,L)\n",
    "b=-np.dot(CovSqrt.T,delta)"
   ]
  },
  {
   "cell_type": "markdown",
   "metadata": {},
   "source": [
    "## Cas Non Hedgé:"
   ]
  },
  {
   "cell_type": "code",
   "execution_count": 157,
   "metadata": {},
   "outputs": [
    {
     "name": "stdout",
     "output_type": "stream",
     "text": [
      "[-1.59737029 -3.0030631  -2.1851416  -2.72136298 -1.83550203 -0.62288715\n",
      " -1.01084149 -0.61328356 -0.79683738 -0.32193849]\n"
     ]
    }
   ],
   "source": [
    "mu=(roughEstimVaR-a)*b/np.sum(b*b)\n",
    "print(mu)\n",
    "\n",
    "Z=np.random.normal(size=(I0,n))\n",
    "for i in range(I0):\n",
    "  Z[i,:]=mu[i]+Z[i,:]\n",
    "\n",
    "dS=np.dot(CovSqrt,Z)\n",
    "Sf=Si+dS.T\n",
    "\n",
    "calls=callPrice(Sf,T,K,sigma,T0)\n",
    "puts=putPrice(Sf,T,K,sigma,T0)\n",
    "\n",
    "\n",
    "callInitial=callPrice(Si,0,K,sigma,T0)\n",
    "putInitial=putPrice(Si,0,K,sigma,T0)\n",
    "\n",
    "deltaCall=callInitial-calls\n",
    "deltaPut=putInitial-puts\n",
    "\n",
    "loss=np.dot(coeffC,deltaCall.T)+np.dot(coeffP,deltaPut.T)"
   ]
  },
  {
   "cell_type": "code",
   "execution_count": 158,
   "metadata": {},
   "outputs": [
    {
     "data": {
      "text/plain": [
       "(array([2.000e+00, 3.000e+00, 4.000e+01, 1.300e+02, 5.830e+02, 1.768e+03,\n",
       "        4.280e+03, 6.690e+03, 5.414e+03, 1.090e+03]),\n",
       " array([-111.89827143,  -72.20819002,  -32.5181086 ,    7.17197282,\n",
       "          46.86205424,   86.55213565,  126.24221707,  165.93229849,\n",
       "         205.6223799 ,  245.31246132,  285.00254274]),\n",
       " <a list of 10 Patch objects>)"
      ]
     },
     "execution_count": 158,
     "metadata": {},
     "output_type": "execute_result"
    },
    {
     "data": {
      "image/png": "[encoded data removed]",
      "text/plain": [
       "<Figure size 432x288 with 1 Axes>"
      ]
     },
     "metadata": {
      "needs_background": "light"
     },
     "output_type": "display_data"
    }
   ],
   "source": [
    "calls=callPrice(Sf,T,MatK,MatSigma,T0)\n",
    "puts=putPrice(Sf,T,MatK,MatSigma,T0)\n",
    "\n",
    "callInitial=callPrice(Si,0,MatK,MatSigma,T0)\n",
    "putInitial=putPrice(Si,0,MatK,MatSigma,T0)\n",
    "\n",
    "deltaCall=callInitial-calls\n",
    "deltaPut=putInitial-puts\n",
    "\n",
    "loss=np.dot(coeffC,deltaCall.T)+np.dot(coeffP,deltaPut.T)\n",
    "plt.hist(loss)"
   ]
  },
  {
   "cell_type": "code",
   "execution_count": 159,
   "metadata": {},
   "outputs": [
    {
     "name": "stdout",
     "output_type": "stream",
     "text": [
      "0.16290945450178912\n",
      "18869\n",
      "244.71050977119233 252.4334998340142\n"
     ]
    },
    {
     "data": {
      "image/png": "[encoded data removed]",
      "text/plain": [
       "<Figure size 432x288 with 1 Axes>"
      ]
     },
     "metadata": {
      "needs_background": "light"
     },
     "output_type": "display_data"
    }
   ],
   "source": [
    "A=np.zeros((n,2))\n",
    "\n",
    "r=np.exp(0.5*np.dot(mu.T,mu)-np.dot(mu.T,Z))\n",
    "\n",
    "A[:,0],A[:,1]=loss,r\n",
    "print(np.mean(A[:,1]))\n",
    "indexes=np.argsort(A[:,0])\n",
    "\n",
    "A=A[indexes,:]\n",
    "k=n-1\n",
    "sum=0\n",
    "while(sum+A[k,1]/n <1-alpha):\n",
    "  sum+=A[k,1]/n\n",
    "  k-=1\n",
    "print(k)\n",
    "VaR=A[k,0]\n",
    "CVaR=np.sum(A[k+1:,0]*A[k+1:,1])/n + (1-alpha-np.sum(A[k+1:,1])/n)*A[k,0]\n",
    "CVaR=CVaR/(1-alpha)\n",
    "\n",
    "print(VaR,CVaR)"
   ]
  },
  {
   "cell_type": "markdown",
   "metadata": {},
   "source": [
    "### Distribution au delà de la VaR:"
   ]
  },
  {
   "cell_type": "code",
   "execution_count": 160,
   "metadata": {},
   "outputs": [
    {
     "data": {
      "text/plain": [
       "<matplotlib.legend.Legend at 0x1ca41687f60>"
      ]
     },
     "execution_count": 160,
     "metadata": {},
     "output_type": "execute_result"
    },
    {
     "data": {
      "image/png": "[encoded data removed]",
      "text/plain": [
       "<Figure size 432x288 with 1 Axes>"
      ]
     },
     "metadata": {
      "needs_background": "light"
     },
     "output_type": "display_data"
    }
   ],
   "source": [
    "conditional=A[A[:,0]>VaR]\n",
    "cumulativeF=np.cumsum(conditional[:,1])/(n*(1-alpha))\n",
    "\n",
    "sc=(CVaR-VaR) \n",
    "\n",
    "plt.plot(conditional[:,0],sps.expon.cdf(conditional[:,0],loc=VaR,scale=sc),label='Fonction de répartition théorique')\n",
    "plt.plot(conditional[:,0],cumulativeF,label='Fonction de répartition empirique')\n",
    "plt.title(\"Comparaison entre la distribution théorique et empirique\")\n",
    "plt.legend(loc='best')"
   ]
  },
  {
   "cell_type": "code",
   "execution_count": 161,
   "metadata": {},
   "outputs": [
    {
     "data": {
      "text/plain": [
       "<matplotlib.legend.Legend at 0x1ca4165ee48>"
      ]
     },
     "execution_count": 161,
     "metadata": {},
     "output_type": "execute_result"
    },
    {
     "data": {
      "image/png": "[encoded data removed]",
      "text/plain": [
       "<Figure size 432x288 with 1 Axes>"
      ]
     },
     "metadata": {
      "needs_background": "light"
     },
     "output_type": "display_data"
    }
   ],
   "source": [
    "#Kolmogrov Smirnov Test:\n",
    "\n",
    "diff=np.abs(cumulativeF-sps.expon.cdf(conditional[:,0],loc=VaR,scale=sc))\n",
    "plt.plot(conditional[:,0],diff,label=\"$|\\widetilde{F}_n(X_{k:n})-F_\\lambda(X_{k:n})|$\")\n",
    "\n",
    "plt.legend(loc='best')"
   ]
  },
  {
   "cell_type": "code",
   "execution_count": 162,
   "metadata": {},
   "outputs": [
    {
     "data": {
      "text/plain": [
       "<matplotlib.legend.Legend at 0x1ca41802438>"
      ]
     },
     "execution_count": 162,
     "metadata": {},
     "output_type": "execute_result"
    },
    {
     "data": {
      "image/png": "[encoded data removed]",
      "text/plain": [
       "<Figure size 432x288 with 1 Axes>"
      ]
     },
     "metadata": {
      "needs_background": "light"
     },
     "output_type": "display_data"
    }
   ],
   "source": [
    "#Q-Q plot\n",
    "th=VaR-sc*np.log(1-cumulativeF)\n",
    "\n",
    "plt.plot(th,th,label='y=f(x)')\n",
    "plt.plot(th,conditional[:,0],label='Quantile théorique vs empirique')\n",
    "plt.legend(loc='best')"
   ]
  },
  {
   "cell_type": "markdown",
   "metadata": {},
   "source": [
    "### Intervalle de confiance :"
   ]
  },
  {
   "cell_type": "code",
   "execution_count": 163,
   "metadata": {},
   "outputs": [
    {
     "name": "stdout",
     "output_type": "stream",
     "text": [
      "0\n",
      "10\n",
      "20\n",
      "30\n",
      "40\n",
      "50\n",
      "60\n",
      "70\n",
      "80\n",
      "90\n"
     ]
    }
   ],
   "source": [
    "#Estimation naive\n",
    "m=int(1e2)\n",
    "\n",
    "naiveVaR,naiveCVaR=[],[]\n",
    "for i in range(m):\n",
    "    Z=np.random.normal(size=(n,I0)) \n",
    "    \n",
    "    dS=np.dot(CovSqrt,Z.T)\n",
    "    Sf=Si+dS.T\n",
    "    calls=hedgedCallPrice(Sf,T,MatK,MatSigma,T0,Si)\n",
    "    puts=hedgedPutPrice(Sf,T,MatK,MatSigma,T0,Si)\n",
    "\n",
    "    callInitial=hedgedCallPrice(Si,0,MatK,MatSigma,T0,Si)\n",
    "    putInitial=hedgedPutPrice(Si,0,MatK,MatSigma,T0,Si)\n",
    "\n",
    "    deltaCall=callInitial-calls\n",
    "    deltaPut=putInitial-puts\n",
    "\n",
    "    loss=np.dot(coeffC,deltaCall.T)+np.dot(coeffP,deltaPut.T)\n",
    "    sortedLoss=np.sort(loss)\n",
    "    naiveVaR.append(sortedLoss[int(n*alpha)])\n",
    "    CVaR=np.sum(sortedLoss[sortedLoss>naiveVaR[-1]])/(n*(1-alpha))\n",
    "    naiveCVaR.append(CVaR)\n",
    "    if(i%10==0):\n",
    "        print(i)"
   ]
  },
  {
   "cell_type": "code",
   "execution_count": 164,
   "metadata": {},
   "outputs": [],
   "source": [
    "#Méthode delta\n",
    "\n",
    "\n",
    "VaR,CVaR=[],[]\n",
    "\n",
    "for i in range(m):\n",
    "    Z=np.random.normal(size=(I0,n))\n",
    "    for i in range(I0):\n",
    "      Z[i,:]=mu[i]+Z[i,:]\n",
    "\n",
    "    dS=np.dot(CovSqrt,Z)\n",
    "    Sf=Si+dS.T\n",
    "    \n",
    "    calls=hedgedCallPrice(Sf,T,MatK,MatSigma,T0,Si)\n",
    "    puts=hedgedPutPrice(Sf,T,MatK,MatSigma,T0,Si)\n",
    "\n",
    "    callInitial=hedgedCallPrice(Si,0,MatK,MatSigma,T0,Si)\n",
    "    putInitial=hedgedPutPrice(Si,0,MatK,MatSigma,T0,Si)\n",
    "\n",
    "    deltaCall=callInitial-calls\n",
    "    deltaPut=putInitial-puts\n",
    "\n",
    "    loss=np.dot(coeffC,deltaCall.T)+np.dot(coeffP,deltaPut.T)\n",
    "    A=np.zeros((n,2))\n",
    "\n",
    "    r=np.exp(0.5*np.dot(mu.T,mu)-np.dot(mu.T,Z))\n",
    "    A[:,0],A[:,1]=loss,r\n",
    "\n",
    "    indexes=np.argsort(A[:,0])\n",
    "    A=A[indexes,:]\n",
    "\n",
    "    k,sum=n-1,0\n",
    "    while(sum+A[k,1]/n <1-alpha):\n",
    "        sum,k=sum+A[k,1]/n,k-1\n",
    "\n",
    "    VaR.append(A[k,0])\n",
    "    cvar=np.sum(A[k+1:,0]*A[k+1:,1])/n + (1-alpha-np.sum(A[k+1:,1])/n)*A[k,0]\n",
    "    CVaR.append(cvar/(1-alpha))\n",
    "    if(i%10==0):\n",
    "        print(i)"
   ]
  },
  {
   "cell_type": "code",
   "execution_count": 165,
   "metadata": {},
   "outputs": [
    {
     "data": {
      "text/plain": [
       "{'whiskers': [<matplotlib.lines.Line2D at 0x1ca4188cf98>,\n",
       "  <matplotlib.lines.Line2D at 0x1ca41881320>,\n",
       "  <matplotlib.lines.Line2D at 0x1ca41893a58>,\n",
       "  <matplotlib.lines.Line2D at 0x1ca41893da0>],\n",
       " 'caps': [<matplotlib.lines.Line2D at 0x1ca41881668>,\n",
       "  <matplotlib.lines.Line2D at 0x1ca418819b0>,\n",
       "  <matplotlib.lines.Line2D at 0x1ca41893e80>,\n",
       "  <matplotlib.lines.Line2D at 0x1ca4189e470>],\n",
       " 'boxes': [<matplotlib.lines.Line2D at 0x1ca4188cb70>,\n",
       "  <matplotlib.lines.Line2D at 0x1ca41893710>],\n",
       " 'medians': [<matplotlib.lines.Line2D at 0x1ca41881cf8>,\n",
       "  <matplotlib.lines.Line2D at 0x1ca4189e7b8>],\n",
       " 'fliers': [<matplotlib.lines.Line2D at 0x1ca418933c8>,\n",
       "  <matplotlib.lines.Line2D at 0x1ca4189ee48>],\n",
       " 'means': [<matplotlib.lines.Line2D at 0x1ca41881dd8>,\n",
       "  <matplotlib.lines.Line2D at 0x1ca4189eb00>]}"
      ]
     },
     "execution_count": 165,
     "metadata": {},
     "output_type": "execute_result"
    },
    {
     "data": {
      "image/png": "[encoded data removed]",
      "text/plain": [
       "<Figure size 432x288 with 1 Axes>"
      ]
     },
     "metadata": {
      "needs_background": "light"
     },
     "output_type": "display_data"
    }
   ],
   "source": [
    "red_square = dict(markerfacecolor='r', marker='s')\n",
    "plt.boxplot([VaR,naiveVaR],bootstrap=1000,showmeans=True, flierprops=red_square,labels=('Delta VaR','Naive VaR'))"
   ]
  },
  {
   "cell_type": "code",
   "execution_count": 166,
   "metadata": {},
   "outputs": [
    {
     "data": {
      "text/plain": [
       "{'whiskers': [<matplotlib.lines.Line2D at 0x1ca45ff1470>,\n",
       "  <matplotlib.lines.Line2D at 0x1ca45ff17b8>,\n",
       "  <matplotlib.lines.Line2D at 0x1ca45ffbef0>,\n",
       "  <matplotlib.lines.Line2D at 0x1ca45ffbfd0>],\n",
       " 'caps': [<matplotlib.lines.Line2D at 0x1ca45ff1b00>,\n",
       "  <matplotlib.lines.Line2D at 0x1ca45ff1e48>,\n",
       "  <matplotlib.lines.Line2D at 0x1ca460055c0>,\n",
       "  <matplotlib.lines.Line2D at 0x1ca46005908>],\n",
       " 'boxes': [<matplotlib.lines.Line2D at 0x1ca45ff1048>,\n",
       "  <matplotlib.lines.Line2D at 0x1ca45ffbba8>],\n",
       " 'medians': [<matplotlib.lines.Line2D at 0x1ca45ff1f28>,\n",
       "  <matplotlib.lines.Line2D at 0x1ca46005c50>],\n",
       " 'fliers': [<matplotlib.lines.Line2D at 0x1ca45ffb860>,\n",
       "  <matplotlib.lines.Line2D at 0x1ca4600f320>],\n",
       " 'means': [<matplotlib.lines.Line2D at 0x1ca45ffb518>,\n",
       "  <matplotlib.lines.Line2D at 0x1ca46005f98>]}"
      ]
     },
     "execution_count": 166,
     "metadata": {},
     "output_type": "execute_result"
    },
    {
     "data": {
      "image/png": "[encoded data removed]",
      "text/plain": [
       "<Figure size 432x288 with 1 Axes>"
      ]
     },
     "metadata": {
      "needs_background": "light"
     },
     "output_type": "display_data"
    }
   ],
   "source": [
    "plt.boxplot([CVaR,naiveCVaR],bootstrap=1000,showmeans=True, flierprops=red_square,labels=('Delta CVaR','Naive CVaR'))\n"
   ]
  },
  {
   "cell_type": "markdown",
   "metadata": {},
   "source": [
    "## Cas hedgé :"
   ]
  },
  {
   "cell_type": "code",
   "execution_count": 167,
   "metadata": {},
   "outputs": [
    {
     "name": "stdout",
     "output_type": "stream",
     "text": [
      "[-1.65657521  1.73785813 -1.63051406  1.75812881  1.74802249 -0.77218736\n",
      "  0.89115189 -0.59876799  0.55129057 -0.28258229]\n"
     ]
    }
   ],
   "source": [
    "b=-np.dot(CovSqrt.T,deltaH)\n",
    "mu=(roughEstimVaRHedged-a)*b/np.sum(b*b)\n",
    "print(mu)\n",
    "\n",
    "Z=np.random.normal(size=(I0,n))\n",
    "for i in range(I0):\n",
    "  Z[i,:]=mu[i]+Z[i,:]\n",
    "\n",
    "dS=np.dot(CovSqrt,Z)\n",
    "Sf=Si+dS.T"
   ]
  },
  {
   "cell_type": "code",
   "execution_count": 168,
   "metadata": {},
   "outputs": [
    {
     "data": {
      "text/plain": [
       "(array([6.000e+00, 1.300e+01, 7.100e+01, 3.260e+02, 1.026e+03, 2.821e+03,\n",
       "        5.184e+03, 6.235e+03, 3.769e+03, 5.490e+02]),\n",
       " array([-453.38340115, -404.56036527, -355.73732939, -306.91429352,\n",
       "        -258.09125764, -209.26822176, -160.44518588, -111.62215001,\n",
       "         -62.79911413,  -13.97607825,   34.84695763]),\n",
       " <a list of 10 Patch objects>)"
      ]
     },
     "execution_count": 168,
     "metadata": {},
     "output_type": "execute_result"
    },
    {
     "data": {
      "image/png": "[encoded data removed]",
      "text/plain": [
       "<Figure size 432x288 with 1 Axes>"
      ]
     },
     "metadata": {
      "needs_background": "light"
     },
     "output_type": "display_data"
    }
   ],
   "source": [
    "calls=hedgedCallPrice(Sf,T,MatK,MatSigma,T0,Si)\n",
    "puts=hedgedPutPrice(Sf,T,MatK,MatSigma,T0,Si)\n",
    "\n",
    "callInitial=hedgedCallPrice(Si,0,MatK,MatSigma,T0,Si)\n",
    "putInitial=hedgedPutPrice(Si,0,MatK,MatSigma,T0,Si)\n",
    "\n",
    "deltaCall=callInitial-calls\n",
    "deltaPut=putInitial-puts\n",
    "\n",
    "loss=np.dot(coeffC,deltaCall.T)+np.dot(coeffP,deltaPut.T)\n",
    "plt.hist(loss)"
   ]
  },
  {
   "cell_type": "code",
   "execution_count": 169,
   "metadata": {},
   "outputs": [
    {
     "name": "stdout",
     "output_type": "stream",
     "text": [
      "1.0302037012139198\n",
      "19999\n",
      "34.84695762538897 34.84695762538897\n"
     ]
    }
   ],
   "source": [
    "A=np.zeros((n,2))\n",
    "r=np.exp(0.5*np.dot(mu.T,mu)-np.dot(mu.T,Z))\n",
    "\n",
    "A[:,0],A[:,1]=loss,r\n",
    "print(np.mean(A[:,1]))\n",
    "indexes=np.argsort(A[:,0])\n",
    "\n",
    "A=A[indexes,:]\n",
    "\n",
    "k,sum=n-1,0\n",
    "\n",
    "while(sum+A[k,1]/n <1-alpha):\n",
    "  sum+=A[k,1]/n\n",
    "  k-=1\n",
    "\n",
    "print(k) #number of observation below VaR\n",
    "VaR=A[k,0]\n",
    "CVaR=np.sum(A[k+1:,0]*A[k+1:,1])/n + (1-alpha-np.sum(A[k+1:,1])/n)*A[k,0]\n",
    "CVaR=CVaR/(1-alpha)\n",
    "\n",
    "print(VaR,CVaR)"
   ]
  },
  {
   "cell_type": "markdown",
   "metadata": {},
   "source": [
    "### Distribution au delà de la $Var$"
   ]
  },
  {
   "cell_type": "code",
   "execution_count": 170,
   "metadata": {},
   "outputs": [
    {
     "data": {
      "text/plain": [
       "<matplotlib.legend.Legend at 0x1ca4483bf28>"
      ]
     },
     "execution_count": 170,
     "metadata": {},
     "output_type": "execute_result"
    },
    {
     "data": {
      "image/png": "[encoded data removed]",
      "text/plain": [
       "<Figure size 432x288 with 1 Axes>"
      ]
     },
     "metadata": {
      "needs_background": "light"
     },
     "output_type": "display_data"
    }
   ],
   "source": [
    "conditional=A[A[:,0]>VaR]\n",
    "cumulativeF=np.cumsum(conditional[:,1])/(n*(1-alpha))\n",
    "\n",
    "sc=(CVaR-VaR) \n",
    "\n",
    "plt.plot(conditional[:,0],sps.expon.cdf(conditional[:,0],loc=VaR,scale=sc),label='Fonction de répartition théorique')\n",
    "plt.plot(conditional[:,0],cumulativeF,label='Fonction de répartition empirique')\n",
    "plt.title(\"Comparaison entre la distribution théorique et empirique\")\n",
    "plt.legend(loc='best')"
   ]
  },
  {
   "cell_type": "code",
   "execution_count": 171,
   "metadata": {},
   "outputs": [
    {
     "data": {
      "text/plain": [
       "<matplotlib.legend.Legend at 0x1ca4488f208>"
      ]
     },
     "execution_count": 171,
     "metadata": {},
     "output_type": "execute_result"
    },
    {
     "data": {
      "image/png": "[encoded data removed]",
      "text/plain": [
       "<Figure size 432x288 with 1 Axes>"
      ]
     },
     "metadata": {
      "needs_background": "light"
     },
     "output_type": "display_data"
    }
   ],
   "source": [
    "#Kolmogrov Smirnov Test:\n",
    "\n",
    "diff=np.abs(cumulativeF-sps.expon.cdf(conditional[:,0],loc=VaR,scale=sc))\n",
    "plt.plot(conditional[:,0],diff,label=\"$|\\widetilde{F}_n(X_{k:n})-F_\\lambda(X_{k:n})|$\")\n",
    "\n",
    "plt.legend(loc='best')"
   ]
  },
  {
   "cell_type": "code",
   "execution_count": 172,
   "metadata": {},
   "outputs": [
    {
     "data": {
      "text/plain": [
       "<matplotlib.legend.Legend at 0x1ca4490ef28>"
      ]
     },
     "execution_count": 172,
     "metadata": {},
     "output_type": "execute_result"
    },
    {
     "data": {
      "image/png": "[encoded data removed]",
      "text/plain": [
       "<Figure size 432x288 with 1 Axes>"
      ]
     },
     "metadata": {
      "needs_background": "light"
     },
     "output_type": "display_data"
    }
   ],
   "source": [
    "#Q-Q plot\n",
    "th=VaR-sc*np.log(1-cumulativeF)\n",
    "\n",
    "plt.plot(th,th,label='y=f(x)')\n",
    "plt.plot(th,conditional[:,0],label='Quantile théorique vs empirique')\n",
    "plt.legend(loc='best')"
   ]
  },
  {
   "cell_type": "markdown",
   "metadata": {},
   "source": [
    "### Intervalle de confiance:"
   ]
  },
  {
   "cell_type": "code",
   "execution_count": 173,
   "metadata": {},
   "outputs": [
    {
     "name": "stdout",
     "output_type": "stream",
     "text": [
      "0\n",
      "10\n",
      "20\n",
      "30\n",
      "40\n",
      "50\n",
      "60\n",
      "70\n",
      "80\n",
      "90\n"
     ]
    }
   ],
   "source": [
    "#Estimation naive\n",
    "m=int(1e2)\n",
    "\n",
    "naiveVaR,naiveCVaR=[],[]\n",
    "for i in range(m):\n",
    "    Z=np.random.normal(size=(n,I0)) \n",
    "    dS=np.dot(CovSqrt,Z.T)\n",
    "    Sf=Si+dS.T\n",
    "    \n",
    "    calls=hedgedCallPrice(Sf,T,MatK,MatSigma,T0,Si)\n",
    "    puts=hedgedPutPrice(Sf,T,MatK,MatSigma,T0,Si)\n",
    "\n",
    "    callInitial=hedgedCallPrice(Si,0,MatK,MatSigma,T0,Si)\n",
    "    putInitial=hedgedPutPrice(Si,0,MatK,MatSigma,T0,Si)\n",
    "\n",
    "    deltaCall=callInitial-calls\n",
    "    deltaPut=putInitial-puts\n",
    "\n",
    "    loss=np.dot(coeffC,deltaCall.T)+np.dot(coeffP,deltaPut.T)\n",
    "    sortedLoss=np.sort(loss)\n",
    "    naiveVaR.append(sortedLoss[int(n*alpha)])\n",
    "    CVaR=np.sum(sortedLoss[sortedLoss>naiveVaR[-1]])/(n*(1-alpha))\n",
    "    naiveCVaR.append(CVaR)\n",
    "    if(i%10==0):\n",
    "        print(i)"
   ]
  },
  {
   "cell_type": "code",
   "execution_count": 174,
   "metadata": {},
   "outputs": [],
   "source": [
    "#Methode delta\n",
    "la=roughEstimVaR/(T+1)\n",
    "VaR,CVaR=[],[]\n",
    "\n",
    "for i in range(m):\n",
    "    Z=np.random.normal(size=(I0,n)) \n",
    "    for i in range(I0):\n",
    "      Z[i,:]=mu[i]+Z[i,:]\n",
    "\n",
    "    dS=np.dot(CovSqrt,Z)\n",
    "    Sf=Si+dS.T\n",
    "    \n",
    "    calls=hedgedCallPrice(Sf,T,MatK,MatSigma,T0,Si)\n",
    "    puts=hedgedPutPrice(Sf,T,MatK,MatSigma,T0,Si)\n",
    "\n",
    "    callInitial=hedgedCallPrice(Si,0,MatK,MatSigma,T0,Si)\n",
    "    putInitial=hedgedPutPrice(Si,0,MatK,MatSigma,T0,Si)\n",
    "\n",
    "    deltaCall=callInitial-calls\n",
    "    deltaPut=putInitial-puts\n",
    "\n",
    "    loss=np.dot(coeffC,deltaCall.T)+np.dot(coeffP,deltaPut.T)\n",
    "    A=np.zeros((n,2))\n",
    "\n",
    "    r=np.exp(0.5*np.dot(mu.T,mu)-np.dot(mu.T,Z))\n",
    "    A[:,0],A[:,1]=loss,r\n",
    "\n",
    "    indexes=np.argsort(A[:,0])\n",
    "    A=A[indexes,:]\n",
    "\n",
    "    k,sum=n-1,0\n",
    "    while(sum+A[k,1]/n <1-alpha):\n",
    "        sum,k=sum+A[k,1]/n,k-1\n",
    "\n",
    "    VaR.append(A[k,0])\n",
    "    cvar=np.sum(A[k+1:,0]*A[k+1:,1])/n + (1-alpha-np.sum(A[k+1:,1])/n)*A[k,0]\n",
    "    CVaR.append(cvar/(1-alpha))\n",
    "    if(i%10==0):\n",
    "        print(i)"
   ]
  },
  {
   "cell_type": "code",
   "execution_count": 175,
   "metadata": {},
   "outputs": [
    {
     "data": {
      "text/plain": [
       "{'whiskers': [<matplotlib.lines.Line2D at 0x1ca44985e48>,\n",
       "  <matplotlib.lines.Line2D at 0x1ca44985f28>,\n",
       "  <matplotlib.lines.Line2D at 0x1ca4461c908>,\n",
       "  <matplotlib.lines.Line2D at 0x1ca4461cc50>],\n",
       " 'caps': [<matplotlib.lines.Line2D at 0x1ca44610518>,\n",
       "  <matplotlib.lines.Line2D at 0x1ca44610860>,\n",
       "  <matplotlib.lines.Line2D at 0x1ca4461cf98>,\n",
       "  <matplotlib.lines.Line2D at 0x1ca44625320>],\n",
       " 'boxes': [<matplotlib.lines.Line2D at 0x1ca44985a20>,\n",
       "  <matplotlib.lines.Line2D at 0x1ca4461c5c0>],\n",
       " 'medians': [<matplotlib.lines.Line2D at 0x1ca44610ba8>,\n",
       "  <matplotlib.lines.Line2D at 0x1ca44625668>],\n",
       " 'fliers': [<matplotlib.lines.Line2D at 0x1ca44610f98>,\n",
       "  <matplotlib.lines.Line2D at 0x1ca44625cf8>],\n",
       " 'means': [<matplotlib.lines.Line2D at 0x1ca44610ef0>,\n",
       "  <matplotlib.lines.Line2D at 0x1ca446259b0>]}"
      ]
     },
     "execution_count": 175,
     "metadata": {},
     "output_type": "execute_result"
    },
    {
     "data": {
      "image/png": "[encoded data removed]",
      "text/plain": [
       "<Figure size 432x288 with 1 Axes>"
      ]
     },
     "metadata": {
      "needs_background": "light"
     },
     "output_type": "display_data"
    }
   ],
   "source": [
    "red_square = dict(markerfacecolor='r', marker='s')\n",
    "plt.boxplot([VaR,naiveVaR],bootstrap=1000,showmeans=True, flierprops=red_square,labels=('Delta VaR','Naive VaR'))"
   ]
  },
  {
   "cell_type": "code",
   "execution_count": 176,
   "metadata": {},
   "outputs": [
    {
     "data": {
      "text/plain": [
       "{'whiskers': [<matplotlib.lines.Line2D at 0x1ca4466cfd0>,\n",
       "  <matplotlib.lines.Line2D at 0x1ca44676630>,\n",
       "  <matplotlib.lines.Line2D at 0x1ca44682d68>,\n",
       "  <matplotlib.lines.Line2D at 0x1ca44682e48>],\n",
       " 'caps': [<matplotlib.lines.Line2D at 0x1ca44676978>,\n",
       "  <matplotlib.lines.Line2D at 0x1ca44676cc0>,\n",
       "  <matplotlib.lines.Line2D at 0x1ca4468d438>,\n",
       "  <matplotlib.lines.Line2D at 0x1ca4468d780>],\n",
       " 'boxes': [<matplotlib.lines.Line2D at 0x1ca4466ce80>,\n",
       "  <matplotlib.lines.Line2D at 0x1ca44682a20>],\n",
       " 'medians': [<matplotlib.lines.Line2D at 0x1ca44676da0>,\n",
       "  <matplotlib.lines.Line2D at 0x1ca4468dac8>],\n",
       " 'fliers': [<matplotlib.lines.Line2D at 0x1ca446826d8>,\n",
       "  <matplotlib.lines.Line2D at 0x1ca4468deb8>],\n",
       " 'means': [<matplotlib.lines.Line2D at 0x1ca44682390>,\n",
       "  <matplotlib.lines.Line2D at 0x1ca4468de10>]}"
      ]
     },
     "execution_count": 176,
     "metadata": {},
     "output_type": "execute_result"
    },
    {
     "data": {
      "image/png": "[encoded data removed]",
      "text/plain": [
       "<Figure size 432x288 with 1 Axes>"
      ]
     },
     "metadata": {
      "needs_background": "light"
     },
     "output_type": "display_data"
    }
   ],
   "source": [
    "plt.boxplot([CVaR,naiveCVaR],bootstrap=1000,showmeans=True, flierprops=red_square,labels=('Delta CVaR','Naive CVaR'))\n"
   ]
  }
 ],
 "metadata": {
  "colab": {
   "name": "Untitled13.ipynb",
   "provenance": []
  },
  "kernelspec": {
   "display_name": "Python 3",
   "language": "python",
   "name": "python3"
  },
  "language_info": {
   "codemirror_mode": {
    "name": "ipython",
    "version": 3
   },
   "file_extension": ".py",
   "mimetype": "text/x-python",
   "name": "python",
   "nbconvert_exporter": "python",
   "pygments_lexer": "ipython3",
   "version": "3.7.3"
  }
 },
 "nbformat": 4,
 "nbformat_minor": 1
}
