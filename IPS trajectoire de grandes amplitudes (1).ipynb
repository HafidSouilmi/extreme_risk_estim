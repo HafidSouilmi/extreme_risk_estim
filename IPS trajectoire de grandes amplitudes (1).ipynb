{
 "cells": [
  {
   "cell_type": "code",
   "execution_count": 1,
   "metadata": {
    "colab": {},
    "colab_type": "code",
    "id": "Pg9WUrxFhV6I"
   },
   "outputs": [],
   "source": [
    "import numpy as np\n",
    "import scipy.linalg as lin\n",
    "import matplotlib.pyplot as plt\n",
    "import scipy.stats as sps"
   ]
  },
  {
   "cell_type": "markdown",
   "metadata": {
    "colab_type": "text",
    "id": "XB59qyK1RIjW"
   },
   "source": [
    "# Premier cas : Trajectoires avec de grandes amplitudes:\n",
    "\n",
    "$ I_0=10, \\alpha_i=10, \\beta_i=5 $\n",
    "\n",
    "On considère les poids suivants :$G_p(X_{0:p}^{(k,m)})=exp(\\lambda \\sum_{i=1}^{I_0}X_{p,i}^{(k,m)})$\n",
    "et donc :\n",
    "$\\prod_{p=1}^{n-1} G_p( X^{(k,m)}_{0:p}) = \\exp \\Bigl( \\lambda \\sum_{i=1}^{I_0}\\sum_{p=1}^{n-1} X^{(k,m)}_{p,i} \\Bigr)$"
   ]
  },
  {
   "cell_type": "markdown",
   "metadata": {},
   "source": [
    "Pour le premier cas, le signe de $\\lambda$ doit être inversé.\n",
    "\n",
    "On choisit comme valeur de $\\lambda = \\frac{2\\hat{x}_\\alpha}{T(T-1)}$"
   ]
  },
  {
   "cell_type": "markdown",
   "metadata": {
    "colab_type": "text",
    "id": "vOv3jFVuRNf7"
   },
   "source": [
    "## Preset :"
   ]
  },
  {
   "cell_type": "code",
   "execution_count": 2,
   "metadata": {
    "colab": {},
    "colab_type": "code",
    "id": "g5qO6_MFRJn5"
   },
   "outputs": [],
   "source": [
    "T0,T,Y=120,10,252\n",
    "\n",
    "alpha=1-1e-4\n",
    "I0=10\n",
    "sigma = np.array([0.1,0.15,0.2,0.25,0.3,0.35,0.4,0.5,0.6,0.7]) #yearly std\n",
    "S0=np.array([500,400,300,200,100,50,40,30,20,10])\n",
    "K=np.array([510,390,310,190,90,55,35,34,17,12])\n",
    "n=2*int(1e4)\n",
    "\n",
    "coeffC=np.zeros(I0)+10\n",
    "coeffP=np.zeros(I0)+5"
   ]
  },
  {
   "cell_type": "code",
   "execution_count": 3,
   "metadata": {
    "colab": {},
    "colab_type": "code",
    "id": "J5iEydIIieOT"
   },
   "outputs": [],
   "source": [
    "def d1(to,x,y,sig):\n",
    "    return np.log(x/y)/(sig*np.sqrt(to)) + sig*np.sqrt(to)/2\n",
    "def d2(to,x,y,sig):\n",
    "    return np.log(x/y)/(sig*np.sqrt(to)) - sig*np.sqrt(to)/2\n",
    "\n",
    "\n",
    "def callPrice(S,t,K,sigma,T):\n",
    "    return S*sps.norm.cdf(d1((T-t)/Y,S,K,sigma))-K*sps.norm.cdf(d2((T-t)/Y,S,K,sigma))\n",
    "def putPrice(S,t,K,sigma,T):\n",
    "    return K*sps.norm.cdf(d1((T-t)/Y,K,S,sigma))-S*sps.norm.cdf(d2((T-t)/Y,K,S,sigma))"
   ]
  },
  {
   "cell_type": "code",
   "execution_count": 4,
   "metadata": {
    "colab": {},
    "colab_type": "code",
    "id": "8x8TQLUeihzt"
   },
   "outputs": [],
   "source": [
    "def dCall(S,t,K,sigma,T):\n",
    "  return sps.norm.cdf(d1((T-t)/Y,S,K,sigma))+sps.norm.pdf(d1((T-t)/Y,S,K,sigma))/(sigma*np.sqrt((T-t)/Y))-K*sps.norm.pdf(d2((T-t)/Y,S,K,sigma))/(sigma*np.sqrt((T-t)/Y)*S)\n",
    "def hedgedCallPrice(S,t,K,sigma,T,S0):\n",
    "  return callPrice(S,t,K,sigma,T)-dCall(S0,0,K,sigma,T)*S\n",
    "\n",
    "def dPut(S,t,K,sigma,T):\n",
    "  return -sps.norm.cdf(d2((T-t)/Y,K,S,sigma))+sps.norm.pdf(d2((T-t)/Y,K,S,sigma))/(sigma*np.sqrt((T-t)/Y))-K*sps.norm.pdf(d1((T-t)/Y,K,S,sigma))/(sigma*np.sqrt((T-t)/Y)*S)\n",
    "def hedgedPutPrice(S,t,K,sigma,T,S0):\n",
    "  return putPrice(S,t,K,sigma,T)-dPut(S0,0,K,sigma,T)*S"
   ]
  },
  {
   "cell_type": "markdown",
   "metadata": {},
   "source": [
    "Définition des Greeks du modèle de Black-Scholes :"
   ]
  },
  {
   "cell_type": "code",
   "execution_count": 5,
   "metadata": {
    "colab": {},
    "colab_type": "code",
    "id": "FWSywGVFij1W"
   },
   "outputs": [],
   "source": [
    "#Greeks\n",
    "#for a call:\n",
    "def thetaC(S0,K,sigma,T,T0):\n",
    "    return -S0*sigma*sps.norm.pdf(d1((T0-T)/Y,S0,K,sigma))/(2*np.sqrt((T0-T)/Y))\n",
    "def deltaC(S0,K,sigma,T,T0):\n",
    "    return sps.norm.cdf(d1((T0-T)/Y,S0,K,sigma))\n",
    "def gammaC(S0,K,sigma,T,T0):\n",
    "    return sps.norm.pdf(d1((T0-T)/Y,K,S0,sigma))/(sigma*S0*np.sqrt((T0-T)/Y))\n",
    "\n",
    "#for a put:\n",
    "def thetaP(S0,K,sigma,T,T0):\n",
    "    return -S0*sigma*sps.norm.pdf(d1((T0-T)/Y,S0,K,sigma))/(2*np.sqrt((T0-T)/Y))\n",
    "def deltaP(S0,K,sigma,T,T0):\n",
    "    return sps.norm.cdf(d1((T0-T)/Y,K,S0,sigma))-1\n",
    "def gammaP(S0,K,sigma,T,T0):\n",
    "    return sps.norm.pdf(d1((T0-T)/Y,K,S0,sigma))/(sigma*S0*np.sqrt((T0-T)/Y))\n"
   ]
  },
  {
   "cell_type": "markdown",
   "metadata": {},
   "source": [
    "On définit deux quantités : $\\delta$ et $\\Theta$, avec $\\delta$ défini pour le cas hedgé et non hedgé:"
   ]
  },
  {
   "cell_type": "code",
   "execution_count": 6,
   "metadata": {
    "colab": {},
    "colab_type": "code",
    "id": "y9SgO0hsimM6"
   },
   "outputs": [],
   "source": [
    "C=np.diag(sigma*np.sqrt(T/Y)*S0)\n",
    "delta=coeffC*deltaC(S0,K,sigma,T,T0)+coeffP*deltaP(S0,K,sigma,T,T0)\n",
    "deltaH=delta-coeffC*dCall(S0,0,K,sigma,T0)-coeffP*dPut(S0,0,K,sigma,T0)\n",
    "Theta=np.dot(coeffC.T,thetaC(S0,K,sigma,T,T0))+np.dot(coeffP.T,thetaP(S0,K,sigma,T,T0))"
   ]
  },
  {
   "cell_type": "markdown",
   "metadata": {},
   "source": [
    "Deux méthodes pour calculer des estimations grossières de la VaR utiliser ci-dessous:"
   ]
  },
  {
   "cell_type": "code",
   "execution_count": 7,
   "metadata": {
    "colab": {},
    "colab_type": "code",
    "id": "2qtT7Fgeiqwy"
   },
   "outputs": [],
   "source": [
    "def estimVaR(L):\n",
    "  a=-Theta*T/Y\n",
    "  b=-np.dot(L.T,np.dot(C.T,delta))\n",
    "  \n",
    "  z=sps.norm.ppf(alpha)\n",
    "  return a+lin.norm(b)*z\n",
    "\n",
    "def estimVaRHedged(L):\n",
    "  a=-Theta*T/Y\n",
    "  b=-np.dot(L.T,np.dot(C,deltaH))\n",
    "  \n",
    "  z=sps.norm.ppf(alpha)\n",
    "  return a+lin.norm(b)*z"
   ]
  },
  {
   "cell_type": "markdown",
   "metadata": {},
   "source": [
    "Pour exploiter la force d'optimisation de numpy, on définit les matrices suivantes: (éviter les boucles for):"
   ]
  },
  {
   "cell_type": "code",
   "execution_count": 8,
   "metadata": {
    "colab": {},
    "colab_type": "code",
    "id": "vzm4BInNWICu"
   },
   "outputs": [],
   "source": [
    "Si=np.zeros((n,I0))\n",
    "MatSigma=np.zeros((n,I0))\n",
    "MatK=np.zeros((n,I0)) \n",
    "for i in range(I0):\n",
    "  Si[:,i]+=S0[i]\n",
    "  MatK[:,i]+=K[i]\n",
    "  MatSigma[:,i]+=sigma[i]"
   ]
  },
  {
   "cell_type": "markdown",
   "metadata": {
    "colab_type": "text",
    "id": "i_WseUFSSDWk"
   },
   "source": [
    "## Cas Indépendant:\n",
    "\n",
    "On utilise $logIncr$ comme incrément de la chaîne de Markov, afin d'appliquer l'algorithme Selection-Mutation.\n",
    "\n",
    "$logIncr \\sim \\mathcal N(\\mu,\\Sigma)$\n",
    " avec \n",
    " $$\\Sigma =\n",
    "\\begin{pmatrix}\n",
    "\\sigma_{1}^{2} & 0 & \\cdots & 0 \\\\\n",
    "0 & \\sigma_{2}^{2} & \\cdots & \\vdots \\\\\n",
    "\\vdots  & \\vdots  & \\ddots & 0  \\\\\n",
    "0 &  \\cdots & 0 & \\sigma_{I_{0}}^{2}\n",
    "\\end{pmatrix}\n",
    "$$ et $$\\mu= \\frac{-1}{2}\\begin{pmatrix}\n",
    "\\sigma_{1}^{2} \\\\\n",
    "\\sigma_{2}^{2}  \\\\\n",
    "\\vdots   \\\\\n",
    "\\sigma_{I_{0}}^{2}\n",
    "\\end{pmatrix}$$"
   ]
  },
  {
   "cell_type": "markdown",
   "metadata": {},
   "source": [
    "On estime les valeurs de la VaR dans le cas hedgé et non hedgé. On va utiliser ces deux estimations pour le calibrage du paramètres $\\lambda$"
   ]
  },
  {
   "cell_type": "code",
   "execution_count": 9,
   "metadata": {
    "colab": {
     "base_uri": "https://localhost:8080/",
     "height": 34
    },
    "colab_type": "code",
    "id": "-1qEroCFZndM",
    "outputId": "084dad2b-f6a1-45eb-e704-ef9d1e2d467d",
    "scrolled": true
   },
   "outputs": [
    {
     "name": "stdout",
     "output_type": "stream",
     "text": [
      "318.505254924711 153.40877475100825\n"
     ]
    }
   ],
   "source": [
    "roughEstimVaR= estimVaR(np.eye(I0))\n",
    "roughEstimVaRHedged=estimVaRHedged(np.eye(I0))\n",
    "\n",
    "print(roughEstimVaR,roughEstimVaRHedged)"
   ]
  },
  {
   "cell_type": "markdown",
   "metadata": {},
   "source": [
    "On initialise les incréments qui vont être communs entre la partie hedgée et non hedgée."
   ]
  },
  {
   "cell_type": "code",
   "execution_count": 10,
   "metadata": {
    "colab": {},
    "colab_type": "code",
    "id": "XY_CTKSPS0k3"
   },
   "outputs": [],
   "source": [
    "Z=np.random.normal(size=(n,T,I0)) \n",
    "logIncr=np.zeros((n,T,I0))\n",
    "for t in range(T): \n",
    "  logIncr[:,t,:]=-MatSigma*MatSigma/(2*Y)+MatSigma/np.sqrt(Y)*Z[:,t,:]"
   ]
  },
  {
   "cell_type": "markdown",
   "metadata": {
    "colab_type": "text",
    "id": "7kw6LFLISGEV"
   },
   "source": [
    "### Cas non-hedgé:"
   ]
  },
  {
   "cell_type": "markdown",
   "metadata": {
    "colab_type": "text",
    "id": "_Bsnao5vVYnT"
   },
   "source": [
    "#### Estimation de la VaR et la CVaR"
   ]
  },
  {
   "cell_type": "code",
   "execution_count": 11,
   "metadata": {
    "colab": {},
    "colab_type": "code",
    "id": "5aqVLxzTSKnZ"
   },
   "outputs": [],
   "source": [
    "X = np.zeros((n, T+1,I0))\n",
    "X[:, 1,:] = logIncr[:, 0,:]\n",
    "\n",
    "c = 1\n",
    "la=2*roughEstimVaR/(T*(T-1))\n",
    "\n",
    "\n",
    "for p in range(1, T):\n",
    "    G = np.exp(np.sum(la * ( X[:,p,:]),axis=1))\n",
    "    c*= np.mean(G)\n",
    "    \n",
    "    probas = G/ np.sum(G)\n",
    "    indices = np.random.choice(np.arange(n), size = n, p = probas)\n",
    "    X =X[indices,:,:]\n",
    "    X[:,p+1,:] = X[:,p,:] + logIncr[:, p,:]\n",
    "\n",
    "Sf=np.zeros((n,I0))\n",
    "for i in range(I0):\n",
    "  Sf[:,i]=S0[i]*np.exp(X[:,T,i])"
   ]
  },
  {
   "cell_type": "code",
   "execution_count": 12,
   "metadata": {
    "colab": {
     "base_uri": "https://localhost:8080/",
     "height": 366
    },
    "colab_type": "code",
    "id": "7scsg6n9SPU_",
    "outputId": "0ce122e7-c82b-458d-baf4-314b5f219a99"
   },
   "outputs": [
    {
     "data": {
      "text/plain": [
       "(array([  12.,   40.,  328., 1474., 3782., 5855., 5207., 2604.,  638.,\n",
       "          60.]),\n",
       " array([-978.58399811, -888.52674352, -798.46948893, -708.41223434,\n",
       "        -618.35497976, -528.29772517, -438.24047058, -348.183216  ,\n",
       "        -258.12596141, -168.06870682,  -78.01145223]),\n",
       " <a list of 10 Patch objects>)"
      ]
     },
     "execution_count": 12,
     "metadata": {},
     "output_type": "execute_result"
    },
    {
     "data": {
      "image/png": "[encoded data removed]",
      "text/plain": [
       "<Figure size 432x288 with 1 Axes>"
      ]
     },
     "metadata": {
      "needs_background": "light"
     },
     "output_type": "display_data"
    }
   ],
   "source": [
    "calls=callPrice(Sf,T,MatK,MatSigma,T0)\n",
    "puts=putPrice(Sf,T,MatK,MatSigma,T0)\n",
    "\n",
    "callInitial=callPrice(Si,0,MatK,MatSigma,T0)\n",
    "putInitial=putPrice(Si,0,MatK,MatSigma,T0)\n",
    "\n",
    "deltaCall=callInitial-calls\n",
    "deltaPut=putInitial-puts\n",
    "\n",
    "loss=np.dot(coeffC,deltaCall.T)+np.dot(coeffP,deltaPut.T)\n",
    "plt.hist(loss)"
   ]
  },
  {
   "cell_type": "code",
   "execution_count": 13,
   "metadata": {
    "colab": {
     "base_uri": "https://localhost:8080/",
     "height": 315
    },
    "colab_type": "code",
    "id": "aUbaULZLjNb1",
    "outputId": "8ec29467-d0dc-4dc7-ea27-7bb3374be1c8"
   },
   "outputs": [
    {
     "name": "stdout",
     "output_type": "stream",
     "text": [
      "3.5180497964179825e-10\n"
     ]
    },
    {
     "ename": "IndexError",
     "evalue": "index -20001 is out of bounds for axis 0 with size 20000",
     "output_type": "error",
     "traceback": [
      "\u001b[1;31m---------------------------------------------------------------------------\u001b[0m",
      "\u001b[1;31mIndexError\u001b[0m                                Traceback (most recent call last)",
      "\u001b[1;32m<ipython-input-13-df98bb5fc6b3>\u001b[0m in \u001b[0;36m<module>\u001b[1;34m\u001b[0m\n\u001b[0;32m     13\u001b[0m \u001b[1;33m\u001b[0m\u001b[0m\n\u001b[0;32m     14\u001b[0m \u001b[0mk\u001b[0m\u001b[1;33m,\u001b[0m\u001b[0msum\u001b[0m\u001b[1;33m=\u001b[0m\u001b[0mn\u001b[0m\u001b[1;33m-\u001b[0m\u001b[1;36m1\u001b[0m\u001b[1;33m,\u001b[0m\u001b[1;36m0\u001b[0m\u001b[1;33m\u001b[0m\u001b[1;33m\u001b[0m\u001b[0m\n\u001b[1;32m---> 15\u001b[1;33m \u001b[1;32mwhile\u001b[0m\u001b[1;33m(\u001b[0m\u001b[0msum\u001b[0m\u001b[1;33m+\u001b[0m\u001b[0mA\u001b[0m\u001b[1;33m[\u001b[0m\u001b[0mk\u001b[0m\u001b[1;33m,\u001b[0m\u001b[1;36m1\u001b[0m\u001b[1;33m]\u001b[0m\u001b[1;33m/\u001b[0m\u001b[0mn\u001b[0m \u001b[1;33m<\u001b[0m\u001b[1;36m1\u001b[0m\u001b[1;33m-\u001b[0m\u001b[0malpha\u001b[0m\u001b[1;33m)\u001b[0m\u001b[1;33m:\u001b[0m\u001b[1;33m\u001b[0m\u001b[1;33m\u001b[0m\u001b[0m\n\u001b[0m\u001b[0;32m     16\u001b[0m   \u001b[0msum\u001b[0m\u001b[1;33m,\u001b[0m\u001b[0mk\u001b[0m\u001b[1;33m=\u001b[0m\u001b[0msum\u001b[0m\u001b[1;33m+\u001b[0m\u001b[0mA\u001b[0m\u001b[1;33m[\u001b[0m\u001b[0mk\u001b[0m\u001b[1;33m,\u001b[0m\u001b[1;36m1\u001b[0m\u001b[1;33m]\u001b[0m\u001b[1;33m/\u001b[0m\u001b[0mn\u001b[0m\u001b[1;33m,\u001b[0m\u001b[0mk\u001b[0m\u001b[1;33m-\u001b[0m\u001b[1;36m1\u001b[0m\u001b[1;33m\u001b[0m\u001b[1;33m\u001b[0m\u001b[0m\n\u001b[0;32m     17\u001b[0m \u001b[1;33m\u001b[0m\u001b[0m\n",
      "\u001b[1;31mIndexError\u001b[0m: index -20001 is out of bounds for axis 0 with size 20000"
     ]
    }
   ],
   "source": [
    "A=np.zeros((n,2))\n",
    "\n",
    "sum=np.sum(X,axis=1)\n",
    "sum=np.sum(sum,axis=1) # on somme sur les deux axes correspondant aux I0 assets et aux T instants\n",
    "r=c*np.exp(-la*sum)\n",
    "\n",
    "A[:,0],A[:,1]=loss,r\n",
    "\n",
    "print(np.mean(A[:,1]))\n",
    "indexes=np.argsort(A[:,0])\n",
    "\n",
    "A=A[indexes,:]\n",
    "\n",
    "k,sum=n-1,0\n",
    "while(sum+A[k,1]/n <1-alpha):\n",
    "  sum,k=sum+A[k,1]/n,k-1\n",
    "\n",
    "print(k) #Number of observations below VaR\n",
    "\n",
    "VaR=A[k,0]\n",
    "CVaR=np.sum(A[k+1:,0]*A[k+1:,1])/n + (1-alpha-np.sum(A[k+1:,1])/n)*A[k,0]\n",
    "CVaR=CVaR/(1-alpha)\n",
    "\n",
    "print(VaR,CVaR)"
   ]
  },
  {
   "cell_type": "markdown",
   "metadata": {
    "colab_type": "text",
    "id": "ef0WcW6xh2BA"
   },
   "source": [
    "#### Convergence des estimateurs :\n",
    "\n",
    "Cette partie de code a été commenté parce qu'elle prend beaucoup de temps à s'executer. Une deuxième version avec un tri par insertion avec une complexité de $O(nlog(n)) $ ."
   ]
  },
  {
   "cell_type": "code",
   "execution_count": null,
   "metadata": {
    "colab": {},
    "colab_type": "code",
    "id": "SDN4NlQwh7wB"
   },
   "outputs": [],
   "source": [
    "'''\n",
    "VaRvalues=[]\n",
    "ESvalues=[]\n",
    "A=np.zeros((n,2))\n",
    "A[:,0],A[:,1]=loss,r\n",
    "for i in range(10,n,10):\n",
    "  B=A[:i,:i]\n",
    "  indexes=np.argsort(B[:,0])\n",
    "\n",
    "  B=B[indexes,:]\n",
    "  k,sum=i-1,0\n",
    "  while(sum+B[k,1]/i <1-alpha):\n",
    "    sum,k=sum+B[k,1]/i,k-1\n",
    "\n",
    "  VaRvalues.append(B[k,0])\n",
    "  ES=np.sum(B[k+1:,0]*B[k+1:,1])/i + (1-alpha-np.sum(B[k+1:,1])/i)*B[k,0]\n",
    "  ESvalues.append(ES/(1-alpha))\n",
    "  '''\n",
    "#Very time consuming method to show convergence"
   ]
  },
  {
   "cell_type": "code",
   "execution_count": null,
   "metadata": {
    "colab": {
     "base_uri": "https://localhost:8080/",
     "height": 282
    },
    "colab_type": "code",
    "id": "p79kEWI_2lJU",
    "outputId": "283339cd-0b39-4966-93c5-e65ed336e81e"
   },
   "outputs": [],
   "source": [
    "#plt.subplot(2,1,1)\n",
    "#plt.plot(np.arange(10,n,10),VaRvalues,label=\"Convergence du quantile empirique\")\n",
    "\n",
    "#plt.subplot(2,1,2)\n",
    "#plt.plot(np.arange(10,n,10),ESvalues,label=\"Convergence de la CVaR\")\n",
    "#plt.legend(loc='best')"
   ]
  },
  {
   "cell_type": "markdown",
   "metadata": {
    "colab_type": "text",
    "id": "5DO6Em4ITpK2"
   },
   "source": [
    "#### Distribution au delà de la $VaR$"
   ]
  },
  {
   "cell_type": "code",
   "execution_count": null,
   "metadata": {
    "colab": {
     "base_uri": "https://localhost:8080/",
     "height": 298
    },
    "colab_type": "code",
    "id": "eXKIstEMTudx",
    "outputId": "920adcc4-1daf-4c4e-cc1e-5f7ab5364bd1"
   },
   "outputs": [],
   "source": [
    "conditional=A[A[:,0]>VaR]\n",
    "cumulativeF=np.cumsum(conditional[:,1])/(n*(1-alpha))\n",
    "\n",
    "sc=(CVaR-VaR) \n",
    "\n",
    "plt.plot(conditional[:,0],sps.expon.cdf(conditional[:,0],loc=VaR,scale=sc),label='Fonction de répartition théorique')\n",
    "plt.plot(conditional[:,0],cumulativeF,label='Fonction de répartition empirique')\n",
    "plt.title(\"Comparaison entre la distribution théorique et empirique\")\n",
    "plt.legend(loc='best')"
   ]
  },
  {
   "cell_type": "code",
   "execution_count": null,
   "metadata": {
    "colab": {
     "base_uri": "https://localhost:8080/",
     "height": 282
    },
    "colab_type": "code",
    "id": "uzneDziSTwHp",
    "outputId": "e1d519b2-21fa-45e7-a2d5-1c46610ff38e"
   },
   "outputs": [],
   "source": [
    "#Kolmogrov Smirnov Test:\n",
    "\n",
    "diff=np.abs(cumulativeF-sps.expon.cdf(conditional[:,0],loc=VaR,scale=sc))\n",
    "plt.plot(conditional[:,0],diff,label=\"$|\\widetilde{F}_n(X_{k:n})-F_\\lambda(X_{k:n})|$\")\n",
    "\n",
    "plt.legend(loc='best')"
   ]
  },
  {
   "cell_type": "code",
   "execution_count": null,
   "metadata": {
    "colab": {
     "base_uri": "https://localhost:8080/",
     "height": 282
    },
    "colab_type": "code",
    "id": "tkfKcYh3Tyym",
    "outputId": "f243b6e2-135e-4c9f-9395-330908cb4aa7"
   },
   "outputs": [],
   "source": [
    "#Q-Q plot\n",
    "th=VaR-sc*np.log(1-cumulativeF)\n",
    "\n",
    "plt.plot(th,th,label='y=f(x)')\n",
    "plt.plot(th,conditional[:,0],label='Quantile théorique vs empirique')\n",
    "plt.legend(loc='best')"
   ]
  },
  {
   "cell_type": "markdown",
   "metadata": {
    "colab_type": "text",
    "id": "n5xH4UKDoIuN"
   },
   "source": [
    "#### Intervalle de confiance"
   ]
  },
  {
   "cell_type": "code",
   "execution_count": null,
   "metadata": {
    "colab": {},
    "colab_type": "code",
    "id": "Bi66wThUIcWo"
   },
   "outputs": [],
   "source": [
    "#Estimation naive\n",
    "m=int(1e2)\n",
    "\n",
    "naiveVaR,naiveCVaR=[],[]\n",
    "for i in range(m):\n",
    "    Z=np.random.normal(size=(n,T,I0)) \n",
    "    logIncr2=np.zeros((n,T,I0))\n",
    "    for t in range(T):\n",
    "        logIncr2[:,t,:]=-MatSigma*MatSigma/(2*Y)+MatSigma/np.sqrt(Y)*Z[:,t,:]\n",
    "    logS=np.cumsum(logIncr2,axis=1)\n",
    "    Sf=np.zeros((n,I0))\n",
    "    for j in range(I0):\n",
    "        Sf[:,j]=S0[j]*np.exp(logS[:,T-1,j])\n",
    "    \n",
    "    calls=callPrice(Sf,T,MatK,MatSigma,T0)\n",
    "    puts=putPrice(Sf,T,MatK,MatSigma,T0)\n",
    "\n",
    "    callInitial=callPrice(Si,0,MatK,MatSigma,T0)\n",
    "    putInitial=putPrice(Si,0,MatK,MatSigma,T0)\n",
    "\n",
    "    deltaCall=callInitial-calls\n",
    "    deltaPut=putInitial-puts\n",
    "\n",
    "    loss=np.dot(coeffC,deltaCall.T)+np.dot(coeffP,deltaPut.T)\n",
    "    sortedLoss=np.sort(loss)\n",
    "    naiveVaR.append(sortedLoss[int(n*alpha)])\n",
    "    CVaR=np.sum(sortedLoss[sortedLoss>naiveVaR[-1]])/(n*(1-alpha))\n",
    "    naiveCVaR.append(CVaR)\n",
    "    if(i%10==0):\n",
    "        print(i)"
   ]
  },
  {
   "cell_type": "code",
   "execution_count": null,
   "metadata": {
    "colab": {},
    "colab_type": "code",
    "id": "QJrVkSfP2bcJ"
   },
   "outputs": [],
   "source": [
    "#Selection-Mutation\n",
    "\n",
    "la=roughEstimVaR/(T+1)\n",
    "VaR,CVaR=[],[]\n",
    "\n",
    "for i in range(m):\n",
    "    Z=np.random.normal(size=(n,T,I0)) \n",
    "    logIncr2=np.zeros((n,T,I0))\n",
    "    for t in range(T): \n",
    "      logIncr2[:,t,:]=-MatSigma*MatSigma/(2*Y)+MatSigma/np.sqrt(Y)*Z[:,t,:]\n",
    "    X = np.zeros((n, 2,I0))\n",
    "    X[:, 1,:] = logIncr2[:, 0,:]\n",
    "\n",
    "    c=1\n",
    "    for p in range(1, T):\n",
    "        G = np.exp(np.sum(la * ( X[:,1,:]  - X[:,0,:]) ,axis=1))\n",
    "        c*= np.mean(G)\n",
    "\n",
    "        probas = G/ np.sum(G)\n",
    "        indices = np.random.choice(np.arange(n), size = n, p = probas)\n",
    "        X[:,0,:] =X[indices, 1,:]\n",
    "        X[:,1,:] = X[:,0,:] + logIncr2[:, p,:]\n",
    "\n",
    "    Sf=np.zeros((n,I0))\n",
    "\n",
    "    for j in range(I0):\n",
    "      Sf[:,j]=S0[j]*np.exp(X[:,1,j])\n",
    "    \n",
    "    calls=callPrice(Sf,T,MatK,MatSigma,T0)\n",
    "    puts=putPrice(Sf,T,MatK,MatSigma,T0)\n",
    "\n",
    "    callInitial=callPrice(Si,0,MatK,MatSigma,T0)\n",
    "    putInitial=putPrice(Si,0,MatK,MatSigma,T0)\n",
    "\n",
    "    deltaCall=callInitial-calls\n",
    "    deltaPut=putInitial-puts\n",
    "\n",
    "    loss=np.dot(coeffC,deltaCall.T)+np.dot(coeffP,deltaPut.T)\n",
    "    A=np.zeros((n,2))\n",
    "\n",
    "    sum=np.sum(X,axis=1)\n",
    "    sum=np.sum(sum,axis=1) # on somme sur les deux axes correspondant aux I0 assets et aux T instants\n",
    "    r=c*np.exp(-la*sum)\n",
    "    A[:,0],A[:,1]=loss,r\n",
    "\n",
    "    indexes=np.argsort(A[:,0])\n",
    "    A=A[indexes,:]\n",
    "\n",
    "    k,sum=n-1,0\n",
    "    while(sum+A[k,1]/n <1-alpha):\n",
    "        sum,k=sum+A[k,1]/n,k-1\n",
    "\n",
    "    VaR.append(A[k,0])\n",
    "    cvar=np.sum(A[k+1:,0]*A[k+1:,1])/n + (1-alpha-np.sum(A[k+1:,1])/n)*A[k,0]\n",
    "    CVaR.append(cvar/(1-alpha))\n",
    "    if(i%10==0):\n",
    "        print(i)"
   ]
  },
  {
   "cell_type": "code",
   "execution_count": null,
   "metadata": {},
   "outputs": [],
   "source": [
    "red_square = dict(markerfacecolor='r', marker='s')\n",
    "plt.boxplot([VaR,naiveVaR],bootstrap=1000,showmeans=True, flierprops=red_square,labels=('IPS VaR','Naive VaR'))"
   ]
  },
  {
   "cell_type": "code",
   "execution_count": null,
   "metadata": {},
   "outputs": [],
   "source": [
    "plt.boxplot([CVaR,naiveCVaR],bootstrap=1000,showmeans=True, flierprops=red_square,labels=('IPS CVaR','Naive CVaR'))\n"
   ]
  },
  {
   "cell_type": "markdown",
   "metadata": {
    "colab_type": "text",
    "id": "Hy1x9Z8VSkng"
   },
   "source": [
    "### Cas Hedgé:"
   ]
  },
  {
   "cell_type": "markdown",
   "metadata": {
    "colab_type": "text",
    "id": "_Rkzdpw9V1VH"
   },
   "source": [
    "#### Estimation de la VaR et la CVaR"
   ]
  },
  {
   "cell_type": "code",
   "execution_count": null,
   "metadata": {
    "colab": {},
    "colab_type": "code",
    "id": "qKL1kQe3SW_l"
   },
   "outputs": [],
   "source": [
    "X = np.zeros((n, 2,I0))\n",
    "X[:, 1,:] = logIncr[:, 0,:]\n",
    "\n",
    "\n",
    "c = 1\n",
    "la=-roughEstimVaRHedged/(T+1)\n",
    "for p in range(1, T):\n",
    "    G = np.exp(np.sum(la * ( X[:,1,:]  - X[:,0,:]) ,axis=1))\n",
    "    c*= np.mean(G)\n",
    "    \n",
    "    probas = G/ np.sum(G)\n",
    "    indices = np.random.choice(np.arange(n), size = n, p = probas)\n",
    "    X[:,0,:] =X[indices, 1,:]\n",
    "    X[:,1,:] = X[:,0,:] + logIncr[:, p,:]\n",
    "\n",
    "Sf=np.zeros((n,I0))\n",
    "\n",
    "for i in range(I0):\n",
    "  Sf[:,i]=S0[i]*np.exp(X[:,1,i])"
   ]
  },
  {
   "cell_type": "code",
   "execution_count": null,
   "metadata": {
    "colab": {
     "base_uri": "https://localhost:8080/",
     "height": 366
    },
    "colab_type": "code",
    "id": "8mOSC1dKUFpq",
    "outputId": "c53f47fd-dbc7-42a4-be3b-d0867b244982"
   },
   "outputs": [],
   "source": [
    "calls=hedgedCallPrice(Sf,T,MatK,MatSigma,T0,Si)\n",
    "puts=hedgedPutPrice(Sf,T,MatK,MatSigma,T0,Si)\n",
    "\n",
    "callInitial=hedgedCallPrice(Si,0,MatK,MatSigma,T0,Si)\n",
    "putInitial=hedgedPutPrice(Si,0,MatK,MatSigma,T0,Si)\n",
    "\n",
    "deltaCall=callInitial-calls\n",
    "deltaPut=putInitial-puts\n",
    "\n",
    "loss=np.dot(coeffC,deltaCall.T)+np.dot(coeffP,deltaPut.T)\n",
    "plt.hist(loss)"
   ]
  },
  {
   "cell_type": "code",
   "execution_count": null,
   "metadata": {
    "colab": {
     "base_uri": "https://localhost:8080/",
     "height": 315
    },
    "colab_type": "code",
    "id": "X_HPVdjsUJEw",
    "outputId": "54b24c20-5e8b-497a-adfb-2375c5c0eff8"
   },
   "outputs": [],
   "source": [
    "A=np.zeros((n,2))\n",
    "\n",
    "sum=np.sum(X,axis=1)\n",
    "sum=np.sum(sum,axis=1) # on somme sur les deux axes correspondant aux I0 assets et aux T instants\n",
    "r=c*np.exp(-la*sum)\n",
    "\n",
    "A[:,0],A[:,1]=loss,r\n",
    "print(np.mean(A[:,1]))\n",
    "indexes=np.argsort(A[:,0])\n",
    "\n",
    "A=A[indexes,:]\n",
    "\n",
    "k,sum=n-1,0\n",
    "\n",
    "while(sum+A[k,1]/n <1-alpha):\n",
    "  sum+=A[k,1]/n\n",
    "  k-=1\n",
    "\n",
    "print(k) #number of observation below VaR\n",
    "VaR=A[k,0]\n",
    "CVaR=np.sum(A[k+1:,0]*A[k+1:,1])/n + (1-alpha-np.sum(A[k+1:,1])/n)*A[k,0]\n",
    "CVaR=CVaR/(1-alpha)\n",
    "\n",
    "print(VaR,CVaR)"
   ]
  },
  {
   "cell_type": "markdown",
   "metadata": {
    "colab_type": "text",
    "id": "0lVg2fUpU5xY"
   },
   "source": [
    "#### Distribution au delà de la $VaR$"
   ]
  },
  {
   "cell_type": "code",
   "execution_count": null,
   "metadata": {
    "colab": {
     "base_uri": "https://localhost:8080/",
     "height": 298
    },
    "colab_type": "code",
    "id": "gkc9fvOoVOWX",
    "outputId": "02726515-3ba9-4f10-c495-86ec6980ac6d"
   },
   "outputs": [],
   "source": [
    "conditional=A[A[:,0]>VaR]\n",
    "cumulativeF=np.cumsum(conditional[:,1])/(n*(1-alpha))\n",
    "\n",
    "sc=(CVaR-VaR) \n",
    "\n",
    "plt.plot(conditional[:,0],sps.expon.cdf(conditional[:,0],loc=VaR,scale=sc),label='Fonction de répartition théorique')\n",
    "plt.plot(conditional[:,0],cumulativeF,label='Fonction de répartition empirique')\n",
    "plt.title(\"Comparaison entre la distribution théorique et empirique\")\n",
    "plt.legend(loc='best')"
   ]
  },
  {
   "cell_type": "code",
   "execution_count": null,
   "metadata": {
    "colab": {
     "base_uri": "https://localhost:8080/",
     "height": 282
    },
    "colab_type": "code",
    "id": "ZGwfY7UtVR0g",
    "outputId": "7671d4e7-14e8-4aaf-fa98-c88403ff3e34"
   },
   "outputs": [],
   "source": [
    "#Kolmogrov Smirnov Test:\n",
    "\n",
    "diff=np.abs(cumulativeF-sps.expon.cdf(conditional[:,0],loc=VaR,scale=sc))\n",
    "plt.plot(conditional[:,0],diff,label=\"$|\\widetilde{F}_n(X_{k:n})-F_\\lambda(X_{k:n})|$\")\n",
    "\n",
    "plt.legend(loc='best')"
   ]
  },
  {
   "cell_type": "code",
   "execution_count": null,
   "metadata": {
    "colab": {
     "base_uri": "https://localhost:8080/",
     "height": 282
    },
    "colab_type": "code",
    "id": "M6wWYo-kVVuL",
    "outputId": "5c270305-9979-487f-b751-558dec02b3f5"
   },
   "outputs": [],
   "source": [
    "#Q-Q plot\n",
    "th=VaR-sc*np.log(1-cumulativeF)\n",
    "\n",
    "plt.plot(th,th,label='y=f(x)')\n",
    "plt.plot(th,conditional[:,0],label='Quantile théorique vs empirique')\n",
    "plt.legend(loc='best')"
   ]
  },
  {
   "cell_type": "markdown",
   "metadata": {},
   "source": [
    "#### Intervalle de confiance :"
   ]
  },
  {
   "cell_type": "code",
   "execution_count": null,
   "metadata": {},
   "outputs": [],
   "source": [
    "#Estimation naive\n",
    "m=int(1e2)\n",
    "\n",
    "naiveVaR,naiveCVaR=[],[]\n",
    "for i in range(m):\n",
    "    Z=np.random.normal(size=(n,T,I0)) \n",
    "    logIncr2=np.zeros((n,T,I0))\n",
    "    for t in range(T):\n",
    "        logIncr2[:,t,:]=-MatSigma*MatSigma/(2*Y)+MatSigma/np.sqrt(Y)*Z[:,t,:]\n",
    "    logS=np.cumsum(logIncr2,axis=1)\n",
    "    Sf=np.zeros((n,I0))\n",
    "    for j in range(I0):\n",
    "        Sf[:,j]=S0[j]*np.exp(logS[:,T-1,j])\n",
    "    \n",
    "    calls=hedgedCallPrice(Sf,T,MatK,MatSigma,T0,Si)\n",
    "    puts=hedgedPutPrice(Sf,T,MatK,MatSigma,T0,Si)\n",
    "\n",
    "    callInitial=hedgedCallPrice(Si,0,MatK,MatSigma,T0,Si)\n",
    "    putInitial=hedgedPutPrice(Si,0,MatK,MatSigma,T0,Si)\n",
    "\n",
    "    deltaCall=callInitial-calls\n",
    "    deltaPut=putInitial-puts\n",
    "\n",
    "    loss=np.dot(coeffC,deltaCall.T)+np.dot(coeffP,deltaPut.T)\n",
    "    sortedLoss=np.sort(loss)\n",
    "    naiveVaR.append(sortedLoss[int(n*alpha)])\n",
    "    CVaR=np.sum(sortedLoss[sortedLoss>naiveVaR[-1]])/(n*(1-alpha))\n",
    "    naiveCVaR.append(CVaR)\n",
    "    if(i%10==0):\n",
    "        print(i)"
   ]
  },
  {
   "cell_type": "code",
   "execution_count": null,
   "metadata": {},
   "outputs": [],
   "source": [
    "#Selection-Mutation\n",
    "\n",
    "la=roughEstimVaR/(T+1)\n",
    "VaR,CVaR=[],[]\n",
    "\n",
    "for i in range(m):\n",
    "    Z=np.random.normal(size=(n,T,I0)) \n",
    "    logIncr2=np.zeros((n,T,I0))\n",
    "    for t in range(T): \n",
    "      logIncr2[:,t,:]=-MatSigma*MatSigma/(2*Y)+MatSigma/np.sqrt(Y)*Z[:,t,:]\n",
    "    X = np.zeros((n, 2,I0))\n",
    "    X[:, 1,:] = logIncr2[:, 0,:]\n",
    "\n",
    "    c=1\n",
    "    for p in range(1, T):\n",
    "        G = np.exp(np.sum(la * ( X[:,1,:]  - X[:,0,:]) ,axis=1))\n",
    "        c*= np.mean(G)\n",
    "\n",
    "        probas = G/ np.sum(G)\n",
    "        indices = np.random.choice(np.arange(n), size = n, p = probas)\n",
    "        X[:,0,:] =X[indices, 1,:]\n",
    "        X[:,1,:] = X[:,0,:] + logIncr2[:, p,:]\n",
    "\n",
    "    Sf=np.zeros((n,I0))\n",
    "\n",
    "    for j in range(I0):\n",
    "      Sf[:,j]=S0[j]*np.exp(X[:,1,j])\n",
    "    \n",
    "    calls=hedgedCallPrice(Sf,T,MatK,MatSigma,T0,Si)\n",
    "    puts=hedgedPutPrice(Sf,T,MatK,MatSigma,T0,Si)\n",
    "\n",
    "    callInitial=hedgedCallPrice(Si,0,MatK,MatSigma,T0,Si)\n",
    "    putInitial=hedgedPutPrice(Si,0,MatK,MatSigma,T0,Si)\n",
    "\n",
    "    deltaCall=callInitial-calls\n",
    "    deltaPut=putInitial-puts\n",
    "\n",
    "    loss=np.dot(coeffC,deltaCall.T)+np.dot(coeffP,deltaPut.T)\n",
    "    A=np.zeros((n,2))\n",
    "\n",
    "    sum=np.sum(X,axis=1)\n",
    "    sum=np.sum(sum,axis=1) # on somme sur les deux axes correspondant aux I0 assets et aux T instants\n",
    "    r=c*np.exp(-la*sum)\n",
    "    A[:,0],A[:,1]=loss,r\n",
    "\n",
    "    indexes=np.argsort(A[:,0])\n",
    "    A=A[indexes,:]\n",
    "\n",
    "    k,sum=n-1,0\n",
    "    while(sum+A[k,1]/n <1-alpha):\n",
    "        sum,k=sum+A[k,1]/n,k-1\n",
    "\n",
    "    VaR.append(A[k,0])\n",
    "    cvar=np.sum(A[k+1:,0]*A[k+1:,1])/n + (1-alpha-np.sum(A[k+1:,1])/n)*A[k,0]\n",
    "    CVaR.append(cvar/(1-alpha))\n",
    "    if(i%10==0):\n",
    "        print(i)"
   ]
  },
  {
   "cell_type": "code",
   "execution_count": null,
   "metadata": {},
   "outputs": [],
   "source": [
    "red_square = dict(markerfacecolor='r', marker='s')\n",
    "plt.boxplot([VaR,naiveVaR],bootstrap=1000,showmeans=True, flierprops=red_square,labels=('IPS VaR','Naive VaR'))"
   ]
  },
  {
   "cell_type": "code",
   "execution_count": null,
   "metadata": {},
   "outputs": [],
   "source": [
    "plt.boxplot([CVaR,naiveCVaR],bootstrap=1000,showmeans=True, flierprops=red_square,labels=('IPS CVaR','Naive CVaR'))\n"
   ]
  },
  {
   "cell_type": "markdown",
   "metadata": {
    "colab_type": "text",
    "id": "Se9i-oWxWXxf"
   },
   "source": [
    "# Cas Dépendant:"
   ]
  },
  {
   "cell_type": "markdown",
   "metadata": {},
   "source": [
    " On multiplie la matrice initiale $\\Sigma$ par la matrice $M$ des deux côtés et on obtient une nouvelle matrice de covariance $M^T \\Sigma M$ où M est défini de la facon suivante :\n",
    " $$M =\n",
    "\\begin{pmatrix}\n",
    "1 & \\rho & \\cdots & \\rho \\\\\n",
    "\\rho & 1 & \\cdots & \\vdots \\\\\n",
    "\\vdots  & \\vdots  & \\ddots &\\rho  \\\\\n",
    "\\rho &  \\cdots & \\rho & 1\n",
    "\\end{pmatrix}\n",
    "$$"
   ]
  },
  {
   "cell_type": "code",
   "execution_count": null,
   "metadata": {},
   "outputs": [],
   "source": [
    "rho=0.1\n",
    "Cov=(1-rho)*np.eye(I0)+rho*np.ones((I0,I0)) \n",
    "L = lin.cholesky(Cov, lower=True)"
   ]
  },
  {
   "cell_type": "code",
   "execution_count": null,
   "metadata": {},
   "outputs": [],
   "source": [
    "roughEstimVaR= estimVaR(L)\n",
    "roughEstimVaRHedged=estimVaRHedged(L)\n",
    "\n",
    "print(roughEstimVaR,roughEstimVaRHedged)"
   ]
  },
  {
   "cell_type": "code",
   "execution_count": null,
   "metadata": {},
   "outputs": [],
   "source": [
    "Z=np.random.normal(size=(n,T,I0)) \n",
    "for t in range(T): #correlation \n",
    "  Z[:,t,:]=np.dot(L,Z[:,t,:].T).T\n",
    "logIncr=np.zeros((n,T,I0))\n",
    "for t in range(T): \n",
    "  logIncr[:,t,:]=-MatSigma*MatSigma/(2*Y)+MatSigma/np.sqrt(Y)*Z[:,t,:]"
   ]
  },
  {
   "cell_type": "markdown",
   "metadata": {},
   "source": [
    "## Cas Non Hedgé:"
   ]
  },
  {
   "cell_type": "code",
   "execution_count": null,
   "metadata": {},
   "outputs": [],
   "source": [
    "X = np.zeros((n, T+1,I0))\n",
    "X[:, 1,:] = logIncr[:, 0,:]\n",
    "\n",
    "c = 1\n",
    "la=2*roughEstimVaRHedged/(T*(T-1))\n",
    "\n",
    "\n",
    "for p in range(1, T):\n",
    "    G = np.exp(np.sum(la * ( X[:,p,:]),axis=1))\n",
    "    c*= np.mean(G)\n",
    "    \n",
    "    probas = G/ np.sum(G)\n",
    "    indices = np.random.choice(np.arange(n), size = n, p = probas)\n",
    "    X =X[indices,:,:]\n",
    "    X[:,p+1,:] = X[:,p,:] + logIncr[:, p,:]\n",
    "\n",
    "Sf=np.zeros((n,I0))\n",
    "for i in range(I0):\n",
    "  Sf[:,i]=S0[i]*np.exp(X[:,T,i])"
   ]
  },
  {
   "cell_type": "code",
   "execution_count": null,
   "metadata": {},
   "outputs": [],
   "source": [
    "calls=callPrice(Sf,T,MatK,MatSigma,T0)\n",
    "puts=putPrice(Sf,T,MatK,MatSigma,T0)\n",
    "\n",
    "callInitial=callPrice(Si,0,MatK,MatSigma,T0)\n",
    "putInitial=putPrice(Si,0,MatK,MatSigma,T0)\n",
    "\n",
    "deltaCall=callInitial-calls\n",
    "deltaPut=putInitial-puts\n",
    "\n",
    "loss=np.dot(coeffC,deltaCall.T)+np.dot(coeffP,deltaPut.T)\n",
    "plt.hist(loss)"
   ]
  },
  {
   "cell_type": "code",
   "execution_count": null,
   "metadata": {},
   "outputs": [],
   "source": [
    "A=np.zeros((n,2))\n",
    "\n",
    "sum=np.sum(X,axis=1)\n",
    "sum=np.sum(sum,axis=1) # on somme sur les deux axes correspondant aux I0 assets et aux T instants\n",
    "r=c*np.exp(-la*sum)\n",
    "\n",
    "A[:,0],A[:,1]=loss,r\n",
    "print(np.mean(A[:,1]))\n",
    "indexes=np.argsort(A[:,0])\n",
    "\n",
    "A=A[indexes,:]\n",
    "plt.hist(A[:,0])\n",
    "k=n-1\n",
    "sum=0\n",
    "while(sum+A[k,1]/n <1-alpha):\n",
    "  sum+=A[k,1]/n\n",
    "  k-=1\n",
    "print(k)\n",
    "VaR=A[k,0]\n",
    "CVaR=np.sum(A[k+1:,0]*A[k+1:,1])/n + (1-alpha-np.sum(A[k+1:,1])/n)*A[k,0]\n",
    "CVaR=CVaR/(1-alpha)\n",
    "\n",
    "print(VaR,CVaR)"
   ]
  },
  {
   "cell_type": "markdown",
   "metadata": {},
   "source": [
    "### Distribution au delà de la VaR:"
   ]
  },
  {
   "cell_type": "code",
   "execution_count": null,
   "metadata": {},
   "outputs": [],
   "source": [
    "conditional=A[A[:,0]>VaR]\n",
    "cumulativeF=np.cumsum(conditional[:,1])/(n*(1-alpha))\n",
    "\n",
    "sc=(CVaR-VaR) \n",
    "\n",
    "plt.plot(conditional[:,0],sps.expon.cdf(conditional[:,0],loc=VaR,scale=sc),label='Fonction de répartition théorique')\n",
    "plt.plot(conditional[:,0],cumulativeF,label='Fonction de répartition empirique')\n",
    "plt.title(\"Comparaison entre la distribution théorique et empirique\")\n",
    "plt.legend(loc='best')"
   ]
  },
  {
   "cell_type": "code",
   "execution_count": null,
   "metadata": {},
   "outputs": [],
   "source": [
    "#Kolmogrov Smirnov Test:\n",
    "\n",
    "diff=np.abs(cumulativeF-sps.expon.cdf(conditional[:,0],loc=VaR,scale=sc))\n",
    "plt.plot(conditional[:,0],diff,label=\"$|\\widetilde{F}_n(X_{k:n})-F_\\lambda(X_{k:n})|$\")\n",
    "\n",
    "plt.legend(loc='best')"
   ]
  },
  {
   "cell_type": "code",
   "execution_count": null,
   "metadata": {},
   "outputs": [],
   "source": [
    "#Q-Q plot\n",
    "th=VaR-sc*np.log(1-cumulativeF)\n",
    "\n",
    "plt.plot(th,th,label='y=f(x)')\n",
    "plt.plot(th,conditional[:,0],label='Quantile théorique vs empirique')\n",
    "plt.legend(loc='best')"
   ]
  },
  {
   "cell_type": "markdown",
   "metadata": {},
   "source": [
    "### Intervalle de confiance :"
   ]
  },
  {
   "cell_type": "code",
   "execution_count": null,
   "metadata": {},
   "outputs": [],
   "source": [
    "#Estimation naive\n",
    "m=int(1e2)\n",
    "\n",
    "naiveVaR,naiveCVaR=[],[]\n",
    "for i in range(m):\n",
    "    Z=np.random.normal(size=(n,T,I0)) \n",
    "    for t in range(T): #correlation \n",
    "      Z[:,t,:]=np.dot(L,Z[:,t,:].T).T\n",
    "    logIncr2=np.zeros((n,T,I0))\n",
    "    for t in range(T):\n",
    "        logIncr2[:,t,:]=-MatSigma*MatSigma/(2*Y)+MatSigma/np.sqrt(Y)*Z[:,t,:]\n",
    "    logS=np.cumsum(logIncr2,axis=1)\n",
    "    Sf=np.zeros((n,I0))\n",
    "    for j in range(I0):\n",
    "        Sf[:,j]=S0[j]*np.exp(logS[:,T-1,j])\n",
    "    \n",
    "    calls=hedgedCallPrice(Sf,T,MatK,MatSigma,T0,Si)\n",
    "    puts=hedgedPutPrice(Sf,T,MatK,MatSigma,T0,Si)\n",
    "\n",
    "    callInitial=hedgedCallPrice(Si,0,MatK,MatSigma,T0,Si)\n",
    "    putInitial=hedgedPutPrice(Si,0,MatK,MatSigma,T0,Si)\n",
    "\n",
    "    deltaCall=callInitial-calls\n",
    "    deltaPut=putInitial-puts\n",
    "\n",
    "    loss=np.dot(coeffC,deltaCall.T)+np.dot(coeffP,deltaPut.T)\n",
    "    sortedLoss=np.sort(loss)\n",
    "    naiveVaR.append(sortedLoss[int(n*alpha)])\n",
    "    CVaR=np.sum(sortedLoss[sortedLoss>naiveVaR[-1]])/(n*(1-alpha))\n",
    "    naiveCVaR.append(CVaR)\n",
    "    if(i%10==0):\n",
    "        print(i)"
   ]
  },
  {
   "cell_type": "code",
   "execution_count": null,
   "metadata": {},
   "outputs": [],
   "source": [
    "#Selection-Mutation\n",
    "\n",
    "la=rho*roughEstimVaR/(T+1)\n",
    "VaR,CVaR=[],[]\n",
    "\n",
    "for i in range(m):\n",
    "    Z=np.random.normal(size=(n,T,I0)) \n",
    "    for t in range(T): #correlation \n",
    "      Z[:,t,:]=np.dot(L,Z[:,t,:].T).T\n",
    "    logIncr2=np.zeros((n,T,I0))\n",
    "    for t in range(T): \n",
    "      logIncr2[:,t,:]=-MatSigma*MatSigma/(2*Y)+MatSigma/np.sqrt(Y)*Z[:,t,:]\n",
    "    X = np.zeros((n, 2,I0))\n",
    "    X[:, 1,:] = logIncr2[:, 0,:]\n",
    "\n",
    "    c=1\n",
    "    for p in range(1, T):\n",
    "        G = np.exp(np.sum(la * ( X[:,1,:]  - X[:,0,:]) ,axis=1))\n",
    "        c*= np.mean(G)\n",
    "\n",
    "        probas = G/ np.sum(G)\n",
    "        indices = np.random.choice(np.arange(n), size = n, p = probas)\n",
    "        X[:,0,:] =X[indices, 1,:]\n",
    "        X[:,1,:] = X[:,0,:] + logIncr2[:, p,:]\n",
    "\n",
    "    Sf=np.zeros((n,I0))\n",
    "\n",
    "    for j in range(I0):\n",
    "      Sf[:,j]=S0[j]*np.exp(X[:,1,j])\n",
    "    \n",
    "    calls=hedgedCallPrice(Sf,T,MatK,MatSigma,T0,Si)\n",
    "    puts=hedgedPutPrice(Sf,T,MatK,MatSigma,T0,Si)\n",
    "\n",
    "    callInitial=hedgedCallPrice(Si,0,MatK,MatSigma,T0,Si)\n",
    "    putInitial=hedgedPutPrice(Si,0,MatK,MatSigma,T0,Si)\n",
    "\n",
    "    deltaCall=callInitial-calls\n",
    "    deltaPut=putInitial-puts\n",
    "\n",
    "    loss=np.dot(coeffC,deltaCall.T)+np.dot(coeffP,deltaPut.T)\n",
    "    A=np.zeros((n,2))\n",
    "\n",
    "    sum=np.sum(X,axis=1)\n",
    "    sum=np.sum(sum,axis=1) # on somme sur les deux axes correspondant aux I0 assets et aux T instants\n",
    "    r=c*np.exp(-la*sum)\n",
    "    A[:,0],A[:,1]=loss,r\n",
    "\n",
    "    indexes=np.argsort(A[:,0])\n",
    "    A=A[indexes,:]\n",
    "\n",
    "    k,sum=n-1,0\n",
    "    while(sum+A[k,1]/n <1-alpha):\n",
    "        sum,k=sum+A[k,1]/n,k-1\n",
    "\n",
    "    VaR.append(A[k,0])\n",
    "    cvar=np.sum(A[k+1:,0]*A[k+1:,1])/n + (1-alpha-np.sum(A[k+1:,1])/n)*A[k,0]\n",
    "    CVaR.append(cvar/(1-alpha))\n",
    "    if(i%10==0):\n",
    "        print(i)"
   ]
  },
  {
   "cell_type": "code",
   "execution_count": null,
   "metadata": {},
   "outputs": [],
   "source": [
    "red_square = dict(markerfacecolor='r', marker='s')\n",
    "plt.boxplot([VaR,naiveVaR],bootstrap=1000,showmeans=True, flierprops=red_square,labels=('IPS VaR','Naive VaR'))"
   ]
  },
  {
   "cell_type": "code",
   "execution_count": null,
   "metadata": {},
   "outputs": [],
   "source": [
    "plt.boxplot([CVaR,naiveCVaR],bootstrap=1000,showmeans=True, flierprops=red_square,labels=('IPS CVaR','Naive CVaR'))\n"
   ]
  },
  {
   "cell_type": "markdown",
   "metadata": {},
   "source": [
    "## Cas hedgé :"
   ]
  },
  {
   "cell_type": "code",
   "execution_count": null,
   "metadata": {},
   "outputs": [],
   "source": [
    "X = np.zeros((n, T+1,I0))\n",
    "X[:, 1,:] = logIncr[:, 0,:]\n",
    "\n",
    "c = 1\n",
    "la=2*roughEstimVaRHedged/(T*(T-1))\n",
    "\n",
    "\n",
    "for p in range(1, T):\n",
    "    G = np.exp(np.sum(la * ( X[:,p,:]),axis=1))\n",
    "    c*= np.mean(G)\n",
    "    \n",
    "    probas = G/ np.sum(G)\n",
    "    indices = np.random.choice(np.arange(n), size = n, p = probas)\n",
    "    X =X[indices,:,:]\n",
    "    X[:,p+1,:] = X[:,p,:] + logIncr[:, p,:]\n",
    "\n",
    "Sf=np.zeros((n,I0))\n",
    "for i in range(I0):\n",
    "  Sf[:,i]=S0[i]*np.exp(X[:,T,i])"
   ]
  },
  {
   "cell_type": "code",
   "execution_count": null,
   "metadata": {},
   "outputs": [],
   "source": [
    "calls=hedgedCallPrice(Sf,T,MatK,MatSigma,T0,Si)\n",
    "puts=hedgedPutPrice(Sf,T,MatK,MatSigma,T0,Si)\n",
    "\n",
    "callInitial=hedgedCallPrice(Si,0,MatK,MatSigma,T0,Si)\n",
    "putInitial=hedgedPutPrice(Si,0,MatK,MatSigma,T0,Si)\n",
    "\n",
    "deltaCall=callInitial-calls\n",
    "deltaPut=putInitial-puts\n",
    "\n",
    "loss=np.dot(coeffC,deltaCall.T)+np.dot(coeffP,deltaPut.T)\n",
    "plt.hist(loss)"
   ]
  },
  {
   "cell_type": "code",
   "execution_count": null,
   "metadata": {},
   "outputs": [],
   "source": [
    "A=np.zeros((n,2))\n",
    "\n",
    "sum=np.sum(X,axis=1)\n",
    "sum=np.sum(sum,axis=1) # on somme sur les deux axes correspondant aux I0 assets et aux T instants\n",
    "r=c*np.exp(-la*sum)\n",
    "\n",
    "A[:,0],A[:,1]=loss,r\n",
    "print(np.mean(A[:,1]))\n",
    "indexes=np.argsort(A[:,0])\n",
    "\n",
    "A=A[indexes,:]\n",
    "\n",
    "k,sum=n-1,0\n",
    "\n",
    "while(sum+A[k,1]/n <1-alpha):\n",
    "  sum+=A[k,1]/n\n",
    "  k-=1\n",
    "\n",
    "print(k) #number of observation below VaR\n",
    "VaR=A[k,0]\n",
    "CVaR=np.sum(A[k+1:,0]*A[k+1:,1])/n + (1-alpha-np.sum(A[k+1:,1])/n)*A[k,0]\n",
    "CVaR=CVaR/(1-alpha)\n",
    "\n",
    "print(VaR,CVaR)"
   ]
  },
  {
   "cell_type": "markdown",
   "metadata": {},
   "source": [
    "### Distribution au delà de la $Var$"
   ]
  },
  {
   "cell_type": "code",
   "execution_count": null,
   "metadata": {},
   "outputs": [],
   "source": [
    "conditional=A[A[:,0]>VaR]\n",
    "cumulativeF=np.cumsum(conditional[:,1])/(n*(1-alpha))\n",
    "\n",
    "sc=(CVaR-VaR) \n",
    "\n",
    "plt.plot(conditional[:,0],sps.expon.cdf(conditional[:,0],loc=VaR,scale=sc),label='Fonction de répartition théorique')\n",
    "plt.plot(conditional[:,0],cumulativeF,label='Fonction de répartition empirique')\n",
    "plt.title(\"Comparaison entre la distribution théorique et empirique\")\n",
    "plt.legend(loc='best')"
   ]
  },
  {
   "cell_type": "code",
   "execution_count": null,
   "metadata": {},
   "outputs": [],
   "source": [
    "#Kolmogrov Smirnov Test:\n",
    "\n",
    "diff=np.abs(cumulativeF-sps.expon.cdf(conditional[:,0],loc=VaR,scale=sc))\n",
    "plt.plot(conditional[:,0],diff,label=\"$|\\widetilde{F}_n(X_{k:n})-F_\\lambda(X_{k:n})|$\")\n",
    "\n",
    "plt.legend(loc='best')"
   ]
  },
  {
   "cell_type": "code",
   "execution_count": null,
   "metadata": {},
   "outputs": [],
   "source": [
    "#Q-Q plot\n",
    "th=VaR-sc*np.log(1-cumulativeF)\n",
    "\n",
    "plt.plot(th,th,label='y=f(x)')\n",
    "plt.plot(th,conditional[:,0],label='Quantile théorique vs empirique')\n",
    "plt.legend(loc='best')"
   ]
  },
  {
   "cell_type": "markdown",
   "metadata": {},
   "source": [
    "### Intervalle de confiance:"
   ]
  },
  {
   "cell_type": "code",
   "execution_count": null,
   "metadata": {},
   "outputs": [],
   "source": [
    "#Estimation naive\n",
    "m=int(1e2)\n",
    "\n",
    "naiveVaR,naiveCVaR=[],[]\n",
    "for i in range(m):\n",
    "    Z=np.random.normal(size=(n,T,I0)) \n",
    "    logIncr2=np.zeros((n,T,I0))\n",
    "    for t in range(T):\n",
    "        logIncr2[:,t,:]=-MatSigma*MatSigma/(2*Y)+MatSigma/np.sqrt(Y)*Z[:,t,:]\n",
    "    logS=np.cumsum(logIncr2,axis=1)\n",
    "    Sf=np.zeros((n,I0))\n",
    "    for j in range(I0):\n",
    "        Sf[:,j]=S0[j]*np.exp(logS[:,T-1,j])\n",
    "    \n",
    "    calls=hedgedCallPrice(Sf,T,MatK,MatSigma,T0,Si)\n",
    "    puts=hedgedPutPrice(Sf,T,MatK,MatSigma,T0,Si)\n",
    "\n",
    "    callInitial=hedgedCallPrice(Si,0,MatK,MatSigma,T0,Si)\n",
    "    putInitial=hedgedPutPrice(Si,0,MatK,MatSigma,T0,Si)\n",
    "\n",
    "    deltaCall=callInitial-calls\n",
    "    deltaPut=putInitial-puts\n",
    "\n",
    "    loss=np.dot(coeffC,deltaCall.T)+np.dot(coeffP,deltaPut.T)\n",
    "    sortedLoss=np.sort(loss)\n",
    "    naiveVaR.append(sortedLoss[int(n*alpha)])\n",
    "    CVaR=np.sum(sortedLoss[sortedLoss>naiveVaR[-1]])/(n*(1-alpha))\n",
    "    naiveCVaR.append(CVaR)\n",
    "    if(i%10==0):\n",
    "        print(i)"
   ]
  },
  {
   "cell_type": "code",
   "execution_count": null,
   "metadata": {},
   "outputs": [],
   "source": [
    "#Selection-Mutation\n",
    "\n",
    "la=roughEstimVaRHedged/(T+1)\n",
    "VaR,CVaR=[],[]\n",
    "\n",
    "for i in range(m):\n",
    "    Z=np.random.normal(size=(n,T,I0)) \n",
    "    logIncr2=np.zeros((n,T,I0))\n",
    "    for t in range(T): \n",
    "      logIncr2[:,t,:]=-MatSigma*MatSigma/(2*Y)+MatSigma/np.sqrt(Y)*Z[:,t,:]\n",
    "    X = np.zeros((n, 2,I0))\n",
    "    X[:, 1,:] = logIncr2[:, 0,:]\n",
    "\n",
    "    c=1\n",
    "    for p in range(1, T):\n",
    "        G = np.exp(np.sum(la * ( X[:,1,:]  - X[:,0,:]) ,axis=1))\n",
    "        c*= np.mean(G)\n",
    "\n",
    "        probas = G/ np.sum(G)\n",
    "        indices = np.random.choice(np.arange(n), size = n, p = probas)\n",
    "        X[:,0,:] =X[indices, 1,:]\n",
    "        X[:,1,:] = X[:,0,:] + logIncr2[:, p,:]\n",
    "\n",
    "    Sf=np.zeros((n,I0))\n",
    "\n",
    "    for j in range(I0):\n",
    "      Sf[:,j]=S0[j]*np.exp(X[:,1,j])\n",
    "    \n",
    "    calls=hedgedCallPrice(Sf,T,MatK,MatSigma,T0,Si)\n",
    "    puts=hedgedPutPrice(Sf,T,MatK,MatSigma,T0,Si)\n",
    "\n",
    "    callInitial=hedgedCallPrice(Si,0,MatK,MatSigma,T0,Si)\n",
    "    putInitial=hedgedPutPrice(Si,0,MatK,MatSigma,T0,Si)\n",
    "\n",
    "    deltaCall=callInitial-calls\n",
    "    deltaPut=putInitial-puts\n",
    "\n",
    "    loss=np.dot(coeffC,deltaCall.T)+np.dot(coeffP,deltaPut.T)\n",
    "    A=np.zeros((n,2))\n",
    "\n",
    "    sum=np.sum(X,axis=1)\n",
    "    sum=np.sum(sum,axis=1) # on somme sur les deux axes correspondant aux I0 assets et aux T instants\n",
    "    r=c*np.exp(-la*sum)\n",
    "    A[:,0],A[:,1]=loss,r\n",
    "\n",
    "    indexes=np.argsort(A[:,0])\n",
    "    A=A[indexes,:]\n",
    "\n",
    "    k,sum=n-1,0\n",
    "    while(sum+A[k,1]/n <1-alpha):\n",
    "        sum,k=sum+A[k,1]/n,k-1\n",
    "\n",
    "    VaR.append(A[k,0])\n",
    "    cvar=np.sum(A[k+1:,0]*A[k+1:,1])/n + (1-alpha-np.sum(A[k+1:,1])/n)*A[k,0]\n",
    "    CVaR.append(cvar/(1-alpha))\n",
    "    if(i%10==0):\n",
    "        print(i)"
   ]
  },
  {
   "cell_type": "code",
   "execution_count": null,
   "metadata": {},
   "outputs": [],
   "source": [
    "red_square = dict(markerfacecolor='r', marker='s')\n",
    "plt.boxplot([VaR,naiveVaR],bootstrap=1000,showmeans=True, flierprops=red_square,labels=('IPS VaR','Naive VaR'))"
   ]
  },
  {
   "cell_type": "code",
   "execution_count": null,
   "metadata": {},
   "outputs": [],
   "source": [
    "plt.boxplot([CVaR,naiveCVaR],bootstrap=1000,showmeans=True, flierprops=red_square,labels=('IPS CVaR','Naive CVaR'))\n"
   ]
  }
 ],
 "metadata": {
  "colab": {
   "name": "Untitled13.ipynb",
   "provenance": []
  },
  "kernelspec": {
   "display_name": "Python 3",
   "language": "python",
   "name": "python3"
  },
  "language_info": {
   "codemirror_mode": {
    "name": "ipython",
    "version": 3
   },
   "file_extension": ".py",
   "mimetype": "text/x-python",
   "name": "python",
   "nbconvert_exporter": "python",
   "pygments_lexer": "ipython3",
   "version": "3.7.3"
  }
 },
 "nbformat": 4,
 "nbformat_minor": 1
}
